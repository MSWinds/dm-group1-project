{
  "cells": [
    {
      "cell_type": "code",
      "execution_count": 2,
      "metadata": {
        "id": "7l7qVrFkP1a7"
      },
      "outputs": [],
      "source": [
        "import re\n",
        "import pandas as pd \n",
        "pd.set_option('display.max_columns', None) \n",
        "import numpy as np\n",
        "import math\n",
        "import matplotlib.pyplot as plt\n",
        "import seaborn as sns\n",
        "from scipy.stats import zscore"
      ]
    },
    {
      "cell_type": "markdown",
      "metadata": {
        "id": "ULAQUvBZPovE"
      },
      "source": [
        "## Working directory"
      ]
    },
    {
      "cell_type": "code",
      "execution_count": 3,
      "metadata": {
        "id": "KpIVChLHPovF"
      },
      "outputs": [],
      "source": [
        "# from google.colab import drive\n",
        "# drive.mount('/content/drive')"
      ]
    },
    {
      "cell_type": "markdown",
      "metadata": {
        "id": "4CJOJIa6PovF"
      },
      "source": [
        "## Load data"
      ]
    },
    {
      "cell_type": "markdown",
      "metadata": {
        "id": "UAtWRUWNPovF"
      },
      "source": [
        "### Load the raw files"
      ]
    },
    {
      "cell_type": "code",
      "execution_count": 4,
      "metadata": {
        "id": "953mOcGKPovF"
      },
      "outputs": [],
      "source": [
        "# Define a function for reading prolog files\n",
        "def read_prolog_file(filename):\n",
        "    with open(filename, 'r') as f:\n",
        "        content = f.readlines()\n",
        "    return content"
      ]
    },
    {
      "cell_type": "code",
      "execution_count": 5,
      "metadata": {
        "id": "0SecL7RjPovF",
        "outputId": "f700d681-1991-4c23-fa4a-7c68af7b7588"
      },
      "outputs": [
        {
          "data": {
            "text/html": [
              "<div>\n",
              "<style scoped>\n",
              "    .dataframe tbody tr th:only-of-type {\n",
              "        vertical-align: middle;\n",
              "    }\n",
              "\n",
              "    .dataframe tbody tr th {\n",
              "        vertical-align: top;\n",
              "    }\n",
              "\n",
              "    .dataframe thead th {\n",
              "        text-align: right;\n",
              "    }\n",
              "</style>\n",
              "<table border=\"1\" class=\"dataframe\">\n",
              "  <thead>\n",
              "    <tr style=\"text-align: right;\">\n",
              "      <th></th>\n",
              "      <th>StudentID</th>\n",
              "      <th>NoPaymentDue</th>\n",
              "    </tr>\n",
              "  </thead>\n",
              "  <tbody>\n",
              "    <tr>\n",
              "      <th>0</th>\n",
              "      <td>1000</td>\n",
              "      <td>pos</td>\n",
              "    </tr>\n",
              "    <tr>\n",
              "      <th>1</th>\n",
              "      <td>999</td>\n",
              "      <td>pos</td>\n",
              "    </tr>\n",
              "    <tr>\n",
              "      <th>2</th>\n",
              "      <td>998</td>\n",
              "      <td>pos</td>\n",
              "    </tr>\n",
              "    <tr>\n",
              "      <th>3</th>\n",
              "      <td>996</td>\n",
              "      <td>pos</td>\n",
              "    </tr>\n",
              "    <tr>\n",
              "      <th>4</th>\n",
              "      <td>994</td>\n",
              "      <td>pos</td>\n",
              "    </tr>\n",
              "  </tbody>\n",
              "</table>\n",
              "</div>"
            ],
            "text/plain": [
              "  StudentID NoPaymentDue\n",
              "0      1000          pos\n",
              "1       999          pos\n",
              "2       998          pos\n",
              "3       996          pos\n",
              "4       994          pos"
            ]
          },
          "metadata": {},
          "output_type": "display_data"
        },
        {
          "data": {
            "text/plain": [
              "(1000, 2)"
            ]
          },
          "metadata": {},
          "output_type": "display_data"
        }
      ],
      "source": [
        "# read the no_payment_due.pl and extract StudentID and NoPaymentDue\n",
        "content1 = read_prolog_file(filename='datasets\\\\no_payment_due.pl')\n",
        "\n",
        "facts = []\n",
        "for line in content1:\n",
        "    match = re.match(r'no_payment_due\\(student(\\d+),(.+)\\)\\.', line.strip())\n",
        "    if match:\n",
        "        studentid, status = match.groups()\n",
        "        facts.append([studentid, status])\n",
        "        \n",
        "df1 = pd.DataFrame(facts, columns=['StudentID', 'NoPaymentDue'])\n",
        "display(df1.head(), df1.shape)"
      ]
    },
    {
      "cell_type": "code",
      "execution_count": 6,
      "metadata": {
        "id": "2dvKmRhGPovF"
      },
      "outputs": [],
      "source": [
        "# change the datatype of StudentID to int\n",
        "df1['StudentID'] = df1['StudentID'].astype(int)"
      ]
    },
    {
      "cell_type": "code",
      "execution_count": 7,
      "metadata": {
        "id": "1psx_8qgPovG",
        "outputId": "5859e2eb-c677-450a-dd0f-3d5dbb34278a"
      },
      "outputs": [
        {
          "data": {
            "text/html": [
              "<div>\n",
              "<style scoped>\n",
              "    .dataframe tbody tr th:only-of-type {\n",
              "        vertical-align: middle;\n",
              "    }\n",
              "\n",
              "    .dataframe tbody tr th {\n",
              "        vertical-align: top;\n",
              "    }\n",
              "\n",
              "    .dataframe thead th {\n",
              "        text-align: right;\n",
              "    }\n",
              "</style>\n",
              "<table border=\"1\" class=\"dataframe\">\n",
              "  <thead>\n",
              "    <tr style=\"text-align: right;\">\n",
              "      <th></th>\n",
              "      <th>StudentID</th>\n",
              "      <th>Service</th>\n",
              "    </tr>\n",
              "  </thead>\n",
              "  <tbody>\n",
              "    <tr>\n",
              "      <th>0</th>\n",
              "      <td>40</td>\n",
              "      <td>fire_department</td>\n",
              "    </tr>\n",
              "    <tr>\n",
              "      <th>1</th>\n",
              "      <td>51</td>\n",
              "      <td>fire_department</td>\n",
              "    </tr>\n",
              "    <tr>\n",
              "      <th>2</th>\n",
              "      <td>109</td>\n",
              "      <td>fire_department</td>\n",
              "    </tr>\n",
              "    <tr>\n",
              "      <th>3</th>\n",
              "      <td>139</td>\n",
              "      <td>fire_department</td>\n",
              "    </tr>\n",
              "    <tr>\n",
              "      <th>4</th>\n",
              "      <td>148</td>\n",
              "      <td>fire_department</td>\n",
              "    </tr>\n",
              "  </tbody>\n",
              "</table>\n",
              "</div>"
            ],
            "text/plain": [
              "  StudentID          Service\n",
              "0        40  fire_department\n",
              "1        51  fire_department\n",
              "2       109  fire_department\n",
              "3       139  fire_department\n",
              "4       148  fire_department"
            ]
          },
          "metadata": {},
          "output_type": "display_data"
        },
        {
          "data": {
            "text/plain": [
              "(306, 2)"
            ]
          },
          "metadata": {},
          "output_type": "display_data"
        }
      ],
      "source": [
        "# Enlisted file for Enlisted and Service\n",
        "content2 = read_prolog_file(filename='datasets\\\\enlist.pl')\n",
        "\n",
        "facts = []\n",
        "for line in content2:\n",
        "    match = re.match(r'enlist\\(student(\\d+),(.+)\\)\\.', line.strip())\n",
        "    if match:\n",
        "        studentid, service = match.groups()\n",
        "        facts.append([studentid, service])\n",
        "\n",
        "df2 = pd.DataFrame(facts, columns=['StudentID', 'Service'])\n",
        "display(df2.head(), df2.shape)"
      ]
    },
    {
      "cell_type": "code",
      "execution_count": 8,
      "metadata": {
        "id": "eMf5nxz3PovG"
      },
      "outputs": [],
      "source": [
        "# change the datatype of StudentID to int\n",
        "df2['StudentID'] = df2['StudentID'].astype(int)"
      ]
    },
    {
      "cell_type": "code",
      "execution_count": 9,
      "metadata": {
        "id": "EwirbLuvPovG",
        "outputId": "73c2ad0e-cd10-41e6-baca-55087fd924ce"
      },
      "outputs": [
        {
          "data": {
            "text/html": [
              "<div>\n",
              "<style scoped>\n",
              "    .dataframe tbody tr th:only-of-type {\n",
              "        vertical-align: middle;\n",
              "    }\n",
              "\n",
              "    .dataframe tbody tr th {\n",
              "        vertical-align: top;\n",
              "    }\n",
              "\n",
              "    .dataframe thead th {\n",
              "        text-align: right;\n",
              "    }\n",
              "</style>\n",
              "<table border=\"1\" class=\"dataframe\">\n",
              "  <thead>\n",
              "    <tr style=\"text-align: right;\">\n",
              "      <th></th>\n",
              "      <th>StudentID</th>\n",
              "      <th>Disabled</th>\n",
              "    </tr>\n",
              "  </thead>\n",
              "  <tbody>\n",
              "    <tr>\n",
              "      <th>0</th>\n",
              "      <td>992</td>\n",
              "      <td>Disabled</td>\n",
              "    </tr>\n",
              "    <tr>\n",
              "      <th>1</th>\n",
              "      <td>976</td>\n",
              "      <td>Disabled</td>\n",
              "    </tr>\n",
              "    <tr>\n",
              "      <th>2</th>\n",
              "      <td>963</td>\n",
              "      <td>Disabled</td>\n",
              "    </tr>\n",
              "    <tr>\n",
              "      <th>3</th>\n",
              "      <td>918</td>\n",
              "      <td>Disabled</td>\n",
              "    </tr>\n",
              "    <tr>\n",
              "      <th>4</th>\n",
              "      <td>913</td>\n",
              "      <td>Disabled</td>\n",
              "    </tr>\n",
              "  </tbody>\n",
              "</table>\n",
              "</div>"
            ],
            "text/plain": [
              "  StudentID  Disabled\n",
              "0       992  Disabled\n",
              "1       976  Disabled\n",
              "2       963  Disabled\n",
              "3       918  Disabled\n",
              "4       913  Disabled"
            ]
          },
          "metadata": {},
          "output_type": "display_data"
        },
        {
          "data": {
            "text/plain": [
              "(95, 2)"
            ]
          },
          "metadata": {},
          "output_type": "display_data"
        }
      ],
      "source": [
        "# read Disabled file for Disabled\n",
        "content3 = read_prolog_file(filename='datasets\\\\disabled.pl')\n",
        "\n",
        "facts = []\n",
        "for line in content3:\n",
        "    match = re.match(r'disabled\\(student(\\d+)\\)\\.', line.strip())\n",
        "    if match:\n",
        "        studentid = match.groups()\n",
        "        facts.append([studentid[0], 'Disabled'])\n",
        "\n",
        "df3 = pd.DataFrame(facts, columns=['StudentID', 'Disabled'])\n",
        "display(df3.head(), df3.shape)"
      ]
    },
    {
      "cell_type": "code",
      "execution_count": 10,
      "metadata": {
        "id": "rbhMs04JPovG"
      },
      "outputs": [],
      "source": [
        "# change the datatype of StudentID to int\n",
        "df3['StudentID'] = df3['StudentID'].astype(int)"
      ]
    },
    {
      "cell_type": "code",
      "execution_count": 11,
      "metadata": {
        "id": "I-FAryiePovG",
        "outputId": "83e59e8a-1582-42b9-87ba-bbb1f02ce96e"
      },
      "outputs": [
        {
          "data": {
            "text/html": [
              "<div>\n",
              "<style scoped>\n",
              "    .dataframe tbody tr th:only-of-type {\n",
              "        vertical-align: middle;\n",
              "    }\n",
              "\n",
              "    .dataframe tbody tr th {\n",
              "        vertical-align: top;\n",
              "    }\n",
              "\n",
              "    .dataframe thead th {\n",
              "        text-align: right;\n",
              "    }\n",
              "</style>\n",
              "<table border=\"1\" class=\"dataframe\">\n",
              "  <thead>\n",
              "    <tr style=\"text-align: right;\">\n",
              "      <th></th>\n",
              "      <th>StudentID</th>\n",
              "      <th>Unemployed</th>\n",
              "    </tr>\n",
              "  </thead>\n",
              "  <tbody>\n",
              "    <tr>\n",
              "      <th>0</th>\n",
              "      <td>1000</td>\n",
              "      <td>Unemployed</td>\n",
              "    </tr>\n",
              "    <tr>\n",
              "      <th>1</th>\n",
              "      <td>996</td>\n",
              "      <td>Unemployed</td>\n",
              "    </tr>\n",
              "    <tr>\n",
              "      <th>2</th>\n",
              "      <td>993</td>\n",
              "      <td>Unemployed</td>\n",
              "    </tr>\n",
              "    <tr>\n",
              "      <th>3</th>\n",
              "      <td>948</td>\n",
              "      <td>Unemployed</td>\n",
              "    </tr>\n",
              "    <tr>\n",
              "      <th>4</th>\n",
              "      <td>946</td>\n",
              "      <td>Unemployed</td>\n",
              "    </tr>\n",
              "  </tbody>\n",
              "</table>\n",
              "</div>"
            ],
            "text/plain": [
              "  StudentID  Unemployed\n",
              "0      1000  Unemployed\n",
              "1       996  Unemployed\n",
              "2       993  Unemployed\n",
              "3       948  Unemployed\n",
              "4       946  Unemployed"
            ]
          },
          "metadata": {},
          "output_type": "display_data"
        },
        {
          "data": {
            "text/plain": [
              "(98, 2)"
            ]
          },
          "metadata": {},
          "output_type": "display_data"
        }
      ],
      "source": [
        "# read Unemployed file for Unemployed\n",
        "content4 = read_prolog_file(filename='datasets\\\\unemployed.pl')\n",
        "\n",
        "facts = []\n",
        "for line in content4:\n",
        "    match = re.match(r'unemployed\\(student(\\d+)\\)\\.', line.strip())\n",
        "    if match:\n",
        "        studentid = match.groups()\n",
        "        facts.append([studentid[0], 'Unemployed'])\n",
        "\n",
        "df4 = pd.DataFrame(facts, columns=['StudentID', 'Unemployed'])\n",
        "display(df4.head(), df4.shape)"
      ]
    },
    {
      "cell_type": "code",
      "execution_count": 12,
      "metadata": {
        "id": "eQw6RrC5PovG"
      },
      "outputs": [],
      "source": [
        "# change the datatype of StudentID to int\n",
        "df4['StudentID'] = df4['StudentID'].astype(int)"
      ]
    },
    {
      "cell_type": "code",
      "execution_count": 13,
      "metadata": {
        "id": "DN3zCo56PovG",
        "outputId": "2693f344-b5a3-4c60-bf21-d0b673e570b7"
      },
      "outputs": [
        {
          "data": {
            "text/html": [
              "<div>\n",
              "<style scoped>\n",
              "    .dataframe tbody tr th:only-of-type {\n",
              "        vertical-align: middle;\n",
              "    }\n",
              "\n",
              "    .dataframe tbody tr th {\n",
              "        vertical-align: top;\n",
              "    }\n",
              "\n",
              "    .dataframe thead th {\n",
              "        text-align: right;\n",
              "    }\n",
              "</style>\n",
              "<table border=\"1\" class=\"dataframe\">\n",
              "  <thead>\n",
              "    <tr style=\"text-align: right;\">\n",
              "      <th></th>\n",
              "      <th>StudentID</th>\n",
              "      <th>School</th>\n",
              "      <th>Units</th>\n",
              "    </tr>\n",
              "  </thead>\n",
              "  <tbody>\n",
              "    <tr>\n",
              "      <th>0</th>\n",
              "      <td>10</td>\n",
              "      <td>ucb</td>\n",
              "      <td>2</td>\n",
              "    </tr>\n",
              "    <tr>\n",
              "      <th>1</th>\n",
              "      <td>18</td>\n",
              "      <td>ucsd</td>\n",
              "      <td>4</td>\n",
              "    </tr>\n",
              "    <tr>\n",
              "      <th>2</th>\n",
              "      <td>20</td>\n",
              "      <td>ucsd</td>\n",
              "      <td>3</td>\n",
              "    </tr>\n",
              "    <tr>\n",
              "      <th>3</th>\n",
              "      <td>35</td>\n",
              "      <td>ucsd</td>\n",
              "      <td>4</td>\n",
              "    </tr>\n",
              "    <tr>\n",
              "      <th>4</th>\n",
              "      <td>44</td>\n",
              "      <td>ucsd</td>\n",
              "      <td>1</td>\n",
              "    </tr>\n",
              "  </tbody>\n",
              "</table>\n",
              "</div>"
            ],
            "text/plain": [
              "  StudentID School Units\n",
              "0        10    ucb     2\n",
              "1        18   ucsd     4\n",
              "2        20   ucsd     3\n",
              "3        35   ucsd     4\n",
              "4        44   ucsd     1"
            ]
          },
          "metadata": {},
          "output_type": "display_data"
        },
        {
          "data": {
            "text/plain": [
              "(1194, 3)"
            ]
          },
          "metadata": {},
          "output_type": "display_data"
        }
      ],
      "source": [
        "# read Enrolled file for Enrolled and School\n",
        "content5 = read_prolog_file(filename = 'datasets\\\\enrolled.pl')\n",
        "\n",
        "facts = []\n",
        "for line in content5:\n",
        "    match = re.match(r'enrolled\\(student(\\d+),(.+),(.+)\\)\\.', line.strip())\n",
        "    if match:\n",
        "        studentid, school, units = match.groups()\n",
        "        facts.append([studentid, school, units])\n",
        "\n",
        "df5 = pd.DataFrame(facts, columns=['StudentID', 'School', 'Units'])\n",
        "display(df5.head(), df5.shape)"
      ]
    },
    {
      "cell_type": "code",
      "execution_count": 14,
      "metadata": {
        "id": "g8cZjpkKPovG"
      },
      "outputs": [],
      "source": [
        "# change the data type of Units from object to int\n",
        "df5['Units'] = df5['Units'].astype(int)\n",
        "\n",
        "# change the datatype of StudentID to int\n",
        "df5['StudentID'] = df5['StudentID'].astype(int)"
      ]
    },
    {
      "attachments": {},
      "cell_type": "markdown",
      "metadata": {},
      "source": [
        "### describe the data"
      ]
    },
    {
      "cell_type": "code",
      "execution_count": 15,
      "metadata": {},
      "outputs": [],
      "source": [
        "# Create a metadata dataframe that contains information about the input dataframe\n",
        "def metadata(df):\n",
        "    columns_list = list(df.columns.values)\n",
        "    metadata = pd.DataFrame(columns_list, columns=['col_name'])\n",
        "\n",
        "    # Data types\n",
        "    metadata['data_type'] = [i for i in df.dtypes.astype(str)]\n",
        "\n",
        "    # Missing values\n",
        "    metadata['missing_values'] = [i for i in df.isnull().sum()]\n",
        "\n",
        "    # Missing values percentage in two digits number\n",
        "    metadata['missing_values_percentage'] = [round(i*100,2) for i in df.isnull().sum() / df.shape[0]]\n",
        "    \n",
        "    # Number of unique values\n",
        "    metadata['unique_values'] = [i for i in df.nunique()]\n",
        "\n",
        "    # Number of unique values percentage\n",
        "    metadata['unique_values_percentage'] = [round(i*100,2) for i in df.nunique() / df.shape[0]]\n",
        "\n",
        "    # Basic statistics for interval columns\n",
        "    interval_columns = [col for col in columns_list if df[col].dtype != 'object']\n",
        "    desc_interval = df[interval_columns].agg(['min', 'max', 'std']).transpose().reset_index().rename(columns={'index': 'col_name'})\n",
        "    metadata = metadata.merge(desc_interval, on='col_name', how='left')\n",
        "\n",
        "    return metadata"
      ]
    },
    {
      "cell_type": "code",
      "execution_count": 16,
      "metadata": {},
      "outputs": [
        {
          "data": {
            "text/html": [
              "<div>\n",
              "<style scoped>\n",
              "    .dataframe tbody tr th:only-of-type {\n",
              "        vertical-align: middle;\n",
              "    }\n",
              "\n",
              "    .dataframe tbody tr th {\n",
              "        vertical-align: top;\n",
              "    }\n",
              "\n",
              "    .dataframe thead th {\n",
              "        text-align: right;\n",
              "    }\n",
              "</style>\n",
              "<table border=\"1\" class=\"dataframe\">\n",
              "  <thead>\n",
              "    <tr style=\"text-align: right;\">\n",
              "      <th></th>\n",
              "      <th>col_name</th>\n",
              "      <th>data_type</th>\n",
              "      <th>missing_values</th>\n",
              "      <th>missing_values_percentage</th>\n",
              "      <th>unique_values</th>\n",
              "      <th>unique_values_percentage</th>\n",
              "      <th>min</th>\n",
              "      <th>max</th>\n",
              "      <th>std</th>\n",
              "    </tr>\n",
              "  </thead>\n",
              "  <tbody>\n",
              "    <tr>\n",
              "      <th>0</th>\n",
              "      <td>StudentID</td>\n",
              "      <td>int32</td>\n",
              "      <td>0</td>\n",
              "      <td>0.0</td>\n",
              "      <td>1000</td>\n",
              "      <td>100.0</td>\n",
              "      <td>1.0</td>\n",
              "      <td>1000.0</td>\n",
              "      <td>288.819436</td>\n",
              "    </tr>\n",
              "    <tr>\n",
              "      <th>1</th>\n",
              "      <td>NoPaymentDue</td>\n",
              "      <td>object</td>\n",
              "      <td>0</td>\n",
              "      <td>0.0</td>\n",
              "      <td>2</td>\n",
              "      <td>0.2</td>\n",
              "      <td>NaN</td>\n",
              "      <td>NaN</td>\n",
              "      <td>NaN</td>\n",
              "    </tr>\n",
              "  </tbody>\n",
              "</table>\n",
              "</div>"
            ],
            "text/plain": [
              "       col_name data_type  missing_values  missing_values_percentage  \\\n",
              "0     StudentID     int32               0                        0.0   \n",
              "1  NoPaymentDue    object               0                        0.0   \n",
              "\n",
              "   unique_values  unique_values_percentage  min     max         std  \n",
              "0           1000                     100.0  1.0  1000.0  288.819436  \n",
              "1              2                       0.2  NaN     NaN         NaN  "
            ]
          },
          "metadata": {},
          "output_type": "display_data"
        },
        {
          "data": {
            "text/html": [
              "<div>\n",
              "<style scoped>\n",
              "    .dataframe tbody tr th:only-of-type {\n",
              "        vertical-align: middle;\n",
              "    }\n",
              "\n",
              "    .dataframe tbody tr th {\n",
              "        vertical-align: top;\n",
              "    }\n",
              "\n",
              "    .dataframe thead th {\n",
              "        text-align: right;\n",
              "    }\n",
              "</style>\n",
              "<table border=\"1\" class=\"dataframe\">\n",
              "  <thead>\n",
              "    <tr style=\"text-align: right;\">\n",
              "      <th></th>\n",
              "      <th>col_name</th>\n",
              "      <th>data_type</th>\n",
              "      <th>missing_values</th>\n",
              "      <th>missing_values_percentage</th>\n",
              "      <th>unique_values</th>\n",
              "      <th>unique_values_percentage</th>\n",
              "      <th>min</th>\n",
              "      <th>max</th>\n",
              "      <th>std</th>\n",
              "    </tr>\n",
              "  </thead>\n",
              "  <tbody>\n",
              "    <tr>\n",
              "      <th>0</th>\n",
              "      <td>StudentID</td>\n",
              "      <td>int32</td>\n",
              "      <td>0</td>\n",
              "      <td>0.0</td>\n",
              "      <td>283</td>\n",
              "      <td>92.48</td>\n",
              "      <td>4.0</td>\n",
              "      <td>1000.0</td>\n",
              "      <td>283.174744</td>\n",
              "    </tr>\n",
              "    <tr>\n",
              "      <th>1</th>\n",
              "      <td>Service</td>\n",
              "      <td>object</td>\n",
              "      <td>0</td>\n",
              "      <td>0.0</td>\n",
              "      <td>7</td>\n",
              "      <td>2.29</td>\n",
              "      <td>NaN</td>\n",
              "      <td>NaN</td>\n",
              "      <td>NaN</td>\n",
              "    </tr>\n",
              "  </tbody>\n",
              "</table>\n",
              "</div>"
            ],
            "text/plain": [
              "    col_name data_type  missing_values  missing_values_percentage  \\\n",
              "0  StudentID     int32               0                        0.0   \n",
              "1    Service    object               0                        0.0   \n",
              "\n",
              "   unique_values  unique_values_percentage  min     max         std  \n",
              "0            283                     92.48  4.0  1000.0  283.174744  \n",
              "1              7                      2.29  NaN     NaN         NaN  "
            ]
          },
          "metadata": {},
          "output_type": "display_data"
        },
        {
          "data": {
            "text/html": [
              "<div>\n",
              "<style scoped>\n",
              "    .dataframe tbody tr th:only-of-type {\n",
              "        vertical-align: middle;\n",
              "    }\n",
              "\n",
              "    .dataframe tbody tr th {\n",
              "        vertical-align: top;\n",
              "    }\n",
              "\n",
              "    .dataframe thead th {\n",
              "        text-align: right;\n",
              "    }\n",
              "</style>\n",
              "<table border=\"1\" class=\"dataframe\">\n",
              "  <thead>\n",
              "    <tr style=\"text-align: right;\">\n",
              "      <th></th>\n",
              "      <th>col_name</th>\n",
              "      <th>data_type</th>\n",
              "      <th>missing_values</th>\n",
              "      <th>missing_values_percentage</th>\n",
              "      <th>unique_values</th>\n",
              "      <th>unique_values_percentage</th>\n",
              "      <th>min</th>\n",
              "      <th>max</th>\n",
              "      <th>std</th>\n",
              "    </tr>\n",
              "  </thead>\n",
              "  <tbody>\n",
              "    <tr>\n",
              "      <th>0</th>\n",
              "      <td>StudentID</td>\n",
              "      <td>int32</td>\n",
              "      <td>0</td>\n",
              "      <td>0.0</td>\n",
              "      <td>95</td>\n",
              "      <td>100.00</td>\n",
              "      <td>26.0</td>\n",
              "      <td>992.0</td>\n",
              "      <td>272.247197</td>\n",
              "    </tr>\n",
              "    <tr>\n",
              "      <th>1</th>\n",
              "      <td>Disabled</td>\n",
              "      <td>object</td>\n",
              "      <td>0</td>\n",
              "      <td>0.0</td>\n",
              "      <td>1</td>\n",
              "      <td>1.05</td>\n",
              "      <td>NaN</td>\n",
              "      <td>NaN</td>\n",
              "      <td>NaN</td>\n",
              "    </tr>\n",
              "  </tbody>\n",
              "</table>\n",
              "</div>"
            ],
            "text/plain": [
              "    col_name data_type  missing_values  missing_values_percentage  \\\n",
              "0  StudentID     int32               0                        0.0   \n",
              "1   Disabled    object               0                        0.0   \n",
              "\n",
              "   unique_values  unique_values_percentage   min    max         std  \n",
              "0             95                    100.00  26.0  992.0  272.247197  \n",
              "1              1                      1.05   NaN    NaN         NaN  "
            ]
          },
          "metadata": {},
          "output_type": "display_data"
        },
        {
          "data": {
            "text/html": [
              "<div>\n",
              "<style scoped>\n",
              "    .dataframe tbody tr th:only-of-type {\n",
              "        vertical-align: middle;\n",
              "    }\n",
              "\n",
              "    .dataframe tbody tr th {\n",
              "        vertical-align: top;\n",
              "    }\n",
              "\n",
              "    .dataframe thead th {\n",
              "        text-align: right;\n",
              "    }\n",
              "</style>\n",
              "<table border=\"1\" class=\"dataframe\">\n",
              "  <thead>\n",
              "    <tr style=\"text-align: right;\">\n",
              "      <th></th>\n",
              "      <th>col_name</th>\n",
              "      <th>data_type</th>\n",
              "      <th>missing_values</th>\n",
              "      <th>missing_values_percentage</th>\n",
              "      <th>unique_values</th>\n",
              "      <th>unique_values_percentage</th>\n",
              "      <th>min</th>\n",
              "      <th>max</th>\n",
              "      <th>std</th>\n",
              "    </tr>\n",
              "  </thead>\n",
              "  <tbody>\n",
              "    <tr>\n",
              "      <th>0</th>\n",
              "      <td>StudentID</td>\n",
              "      <td>int32</td>\n",
              "      <td>0</td>\n",
              "      <td>0.0</td>\n",
              "      <td>98</td>\n",
              "      <td>100.00</td>\n",
              "      <td>9.0</td>\n",
              "      <td>1000.0</td>\n",
              "      <td>275.329406</td>\n",
              "    </tr>\n",
              "    <tr>\n",
              "      <th>1</th>\n",
              "      <td>Unemployed</td>\n",
              "      <td>object</td>\n",
              "      <td>0</td>\n",
              "      <td>0.0</td>\n",
              "      <td>1</td>\n",
              "      <td>1.02</td>\n",
              "      <td>NaN</td>\n",
              "      <td>NaN</td>\n",
              "      <td>NaN</td>\n",
              "    </tr>\n",
              "  </tbody>\n",
              "</table>\n",
              "</div>"
            ],
            "text/plain": [
              "     col_name data_type  missing_values  missing_values_percentage  \\\n",
              "0   StudentID     int32               0                        0.0   \n",
              "1  Unemployed    object               0                        0.0   \n",
              "\n",
              "   unique_values  unique_values_percentage  min     max         std  \n",
              "0             98                    100.00  9.0  1000.0  275.329406  \n",
              "1              1                      1.02  NaN     NaN         NaN  "
            ]
          },
          "metadata": {},
          "output_type": "display_data"
        },
        {
          "data": {
            "text/html": [
              "<div>\n",
              "<style scoped>\n",
              "    .dataframe tbody tr th:only-of-type {\n",
              "        vertical-align: middle;\n",
              "    }\n",
              "\n",
              "    .dataframe tbody tr th {\n",
              "        vertical-align: top;\n",
              "    }\n",
              "\n",
              "    .dataframe thead th {\n",
              "        text-align: right;\n",
              "    }\n",
              "</style>\n",
              "<table border=\"1\" class=\"dataframe\">\n",
              "  <thead>\n",
              "    <tr style=\"text-align: right;\">\n",
              "      <th></th>\n",
              "      <th>col_name</th>\n",
              "      <th>data_type</th>\n",
              "      <th>missing_values</th>\n",
              "      <th>missing_values_percentage</th>\n",
              "      <th>unique_values</th>\n",
              "      <th>unique_values_percentage</th>\n",
              "      <th>min</th>\n",
              "      <th>max</th>\n",
              "      <th>std</th>\n",
              "    </tr>\n",
              "  </thead>\n",
              "  <tbody>\n",
              "    <tr>\n",
              "      <th>0</th>\n",
              "      <td>StudentID</td>\n",
              "      <td>int32</td>\n",
              "      <td>0</td>\n",
              "      <td>0.0</td>\n",
              "      <td>960</td>\n",
              "      <td>80.40</td>\n",
              "      <td>1.0</td>\n",
              "      <td>1000.0</td>\n",
              "      <td>291.379457</td>\n",
              "    </tr>\n",
              "    <tr>\n",
              "      <th>1</th>\n",
              "      <td>School</td>\n",
              "      <td>object</td>\n",
              "      <td>0</td>\n",
              "      <td>0.0</td>\n",
              "      <td>6</td>\n",
              "      <td>0.50</td>\n",
              "      <td>NaN</td>\n",
              "      <td>NaN</td>\n",
              "      <td>NaN</td>\n",
              "    </tr>\n",
              "    <tr>\n",
              "      <th>2</th>\n",
              "      <td>Units</td>\n",
              "      <td>int32</td>\n",
              "      <td>0</td>\n",
              "      <td>0.0</td>\n",
              "      <td>15</td>\n",
              "      <td>1.26</td>\n",
              "      <td>1.0</td>\n",
              "      <td>15.0</td>\n",
              "      <td>3.750224</td>\n",
              "    </tr>\n",
              "  </tbody>\n",
              "</table>\n",
              "</div>"
            ],
            "text/plain": [
              "    col_name data_type  missing_values  missing_values_percentage  \\\n",
              "0  StudentID     int32               0                        0.0   \n",
              "1     School    object               0                        0.0   \n",
              "2      Units     int32               0                        0.0   \n",
              "\n",
              "   unique_values  unique_values_percentage  min     max         std  \n",
              "0            960                     80.40  1.0  1000.0  291.379457  \n",
              "1              6                      0.50  NaN     NaN         NaN  \n",
              "2             15                      1.26  1.0    15.0    3.750224  "
            ]
          },
          "metadata": {},
          "output_type": "display_data"
        }
      ],
      "source": [
        "# Describe df1 df2 df3 df4 df5 by usng metadata function\n",
        "display(metadata(df1), metadata(df2), metadata(df3), metadata(df4), metadata(df5))\n"
      ]
    },
    {
      "attachments": {},
      "cell_type": "markdown",
      "metadata": {},
      "source": [
        "1. Since the unique values percentages in df2 and df5 are not 100%, which means there may be some one-to-many relationships in the data, we need to aggregate data. \n",
        "2. For those dataframe with less than 1000 unique values, we need to use left join to merge them with the dataframe with 1000 unique values. And then mark the missing values as 0 or something else."
      ]
    },
    {
      "attachments": {},
      "cell_type": "markdown",
      "metadata": {},
      "source": [
        "### data exploration"
      ]
    },
    {
      "cell_type": "code",
      "execution_count": 17,
      "metadata": {},
      "outputs": [],
      "source": [
        "# Perform exploratory data analysis on a specified column in a DataFrame, displaying basic statistics and visualizations.\n",
        "def data_exploration(df, column):\n",
        "    col_type = df[column].dtype\n",
        "\n",
        "    if col_type == 'object' or col_type == 'category': \n",
        "        unique_values = df[column].nunique()\n",
        "        print(f\"Counts and percentages of unique values in {column}:\\n\")\n",
        "        count_pct = pd.concat([df[column].value_counts(), df[column].value_counts(normalize=True) * 100], axis=1)\n",
        "        count_pct.columns = ['Count', 'Percentage']\n",
        "        print(count_pct)\n",
        "        if unique_values < 10:   \n",
        "            plt.figure(figsize=(8, 6))\n",
        "            sns.countplot(data=df, x=column)\n",
        "            plt.title(f\"Bar plot of {column}\") # Bar plot\n",
        "            plt.show()\n",
        "        else:\n",
        "            bins_num = df[column].nunique()\n",
        "            sns.histplot(data=df, x=column, bins=bins_num, kde=True) # Histogram\n",
        "            plt.title(f\"Histogram of {column}\")\n",
        "            plt.xticks(rotation=90, fontsize=7, ha=\"center\")\n",
        "            plt.show()\n",
        "    \n",
        "    else:\n",
        "        mean = df[column].mean() # mean\n",
        "        std_dev = df[column].std() # standard deviation\n",
        "        # Calculate interquartile range (IQR)\n",
        "        q1 = df[column].quantile(0.25)\n",
        "        q3 = df[column].quantile(0.75)\n",
        "        iqr = q3 - q1 # interquartile range\n",
        "        outlier_range = (q1 - 1.5*iqr, q3 + 1.5*iqr) # outlier range\n",
        "        outliers = df[(df[column] < outlier_range[0]) | (df[column] > outlier_range[1])]\n",
        "        outliers = outliers[column].values # outlier values\n",
        "\n",
        "        print(f\"Mean of {column}: {mean:.2f}\")\n",
        "        print(f\"Standard deviation of {column}: {std_dev:.2f}\")\n",
        "        print(f\"Number of outliers in {column}: {len(outliers)}\")\n",
        "        print(\"Outliers values:\")\n",
        "        print(outliers)\n",
        "\n",
        "        plt.figure(figsize=(8, 6))\n",
        "        sns.boxplot(data=df, x=column)\n",
        "        plt.title(f\"Box plot of {column}\") # Box plot\n",
        "        plt.show()\n",
        "\n",
        "        if df[column].nunique() >= 10:\n",
        "            plt.figure(figsize=(8, 6))\n",
        "            sns.histplot(data=df, x=column, bins=10, kde=True) # Histogram that has 10 bins\n",
        "            plt.title(f\"Histogram of {column}\")\n",
        "            plt.show()\n",
        "        else:\n",
        "            plt.figure(figsize=(8, 6))\n",
        "            sns.histplot(data=df, x=column, kde=True) # Histogram\n",
        "            plt.title(f\"Histogram of {column}\")\n",
        "            plt.show()"
      ]
    },
    {
      "cell_type": "code",
      "execution_count": 19,
      "metadata": {},
      "outputs": [
        {
          "name": "stdout",
          "output_type": "stream",
          "text": [
            "Counts and percentages of unique values in NoPaymentDue:\n",
            "\n",
            "     Count  Percentage\n",
            "pos    643        64.3\n",
            "neg    357        35.7\n"
          ]
        },
        {
          "data": {
            "image/png": "[encoded data removed]",
            "text/plain": [
              "<Figure size 800x600 with 1 Axes>"
            ]
          },
          "metadata": {},
          "output_type": "display_data"
        }
      ],
      "source": [
        "# Perform data exploration on df1 df2 df3 df4 df5\n",
        "data_exploration(df1, 'NoPaymentDue') # Positive class is the majority class"
      ]
    },
    {
      "cell_type": "code",
      "execution_count": 20,
      "metadata": {},
      "outputs": [
        {
          "name": "stdout",
          "output_type": "stream",
          "text": [
            "Counts and percentages of unique values in Service:\n",
            "\n",
            "                 Count  Percentage\n",
            "fire_department    114   37.254902\n",
            "navy                37   12.091503\n",
            "army                35   11.437908\n",
            "peace_corps         32   10.457516\n",
            "marines             31   10.130719\n",
            "foreign_legion      31   10.130719\n",
            "air_force           26    8.496732\n"
          ]
        },
        {
          "data": {
            "image/png": "[encoded data removed]",
            "text/plain": [
              "<Figure size 800x600 with 1 Axes>"
            ]
          },
          "metadata": {},
          "output_type": "display_data"
        }
      ],
      "source": [
        "data_exploration(df2, 'Service') # fire_department is the majority class"
      ]
    },
    {
      "cell_type": "code",
      "execution_count": 23,
      "metadata": {},
      "outputs": [
        {
          "name": "stdout",
          "output_type": "stream",
          "text": [
            "Counts and percentages of unique values in School:\n",
            "\n",
            "      Count  Percentage\n",
            "occ     247   20.686767\n",
            "ucla    236   19.765494\n",
            "uci     230   19.262982\n",
            "smc     226   18.927973\n",
            "ucsd    166   13.902848\n",
            "ucb      89    7.453936\n"
          ]
        },
        {
          "data": {
            "image/png": "[encoded data removed]",
            "text/plain": [
              "<Figure size 800x600 with 1 Axes>"
            ]
          },
          "metadata": {},
          "output_type": "display_data"
        }
      ],
      "source": [
        "data_exploration(df5, 'School') "
      ]
    },
    {
      "cell_type": "code",
      "execution_count": 25,
      "metadata": {},
      "outputs": [
        {
          "name": "stdout",
          "output_type": "stream",
          "text": [
            "Mean of Units: 6.39\n",
            "Standard deviation of Units: 3.75\n",
            "Number of outliers in Units: 0\n",
            "Outliers values:\n",
            "[]\n"
          ]
        },
        {
          "data": {
            "image/png": "[encoded data removed]",
            "text/plain": [
              "<Figure size 800x600 with 1 Axes>"
            ]
          },
          "metadata": {},
          "output_type": "display_data"
        },
        {
          "data": {
            "image/png": "[encoded data removed]",
            "text/plain": [
              "<Figure size 800x600 with 1 Axes>"
            ]
          },
          "metadata": {},
          "output_type": "display_data"
        }
      ],
      "source": [
        "data_exploration(df5, 'Units') # There are outliers in Units"
      ]
    }
  ],
  "metadata": {
    "colab": {
      "provenance": []
    },
    "kernelspec": {
      "display_name": "Python 3",
      "language": "python",
      "name": "python3"
    },
    "language_info": {
      "codemirror_mode": {
        "name": "ipython",
        "version": 3
      },
      "file_extension": ".py",
      "mimetype": "text/x-python",
      "name": "python",
      "nbconvert_exporter": "python",
      "pygments_lexer": "ipython3",
      "version": "3.10.10"
    },
    "orig_nbformat": 4
  },
  "nbformat": 4,
  "nbformat_minor": 0
}
