{
 "cells": [
  {
   "cell_type": "code",
   "execution_count": 2,
   "metadata": {},
   "outputs": [],
   "source": [
    "# NoPaymentDue,Enlisted,Service,Disabled\n",
    "# Unemployed, Enrolled,School, Region\n",
    "import pandas as pd"
   ]
  },
  {
   "cell_type": "code",
   "execution_count": 3,
   "metadata": {},
   "outputs": [
    {
     "data": {
      "text/html": [
       "<div>\n",
       "<style scoped>\n",
       "    .dataframe tbody tr th:only-of-type {\n",
       "        vertical-align: middle;\n",
       "    }\n",
       "\n",
       "    .dataframe tbody tr th {\n",
       "        vertical-align: top;\n",
       "    }\n",
       "\n",
       "    .dataframe thead th {\n",
       "        text-align: right;\n",
       "    }\n",
       "</style>\n",
       "<table border=\"1\" class=\"dataframe\">\n",
       "  <thead>\n",
       "    <tr style=\"text-align: right;\">\n",
       "      <th></th>\n",
       "      <th>StudentID</th>\n",
       "      <th>NoPaymentDue</th>\n",
       "    </tr>\n",
       "  </thead>\n",
       "  <tbody>\n",
       "    <tr>\n",
       "      <th>0</th>\n",
       "      <td>1000</td>\n",
       "      <td>pos</td>\n",
       "    </tr>\n",
       "    <tr>\n",
       "      <th>1</th>\n",
       "      <td>999</td>\n",
       "      <td>pos</td>\n",
       "    </tr>\n",
       "    <tr>\n",
       "      <th>2</th>\n",
       "      <td>998</td>\n",
       "      <td>pos</td>\n",
       "    </tr>\n",
       "    <tr>\n",
       "      <th>3</th>\n",
       "      <td>996</td>\n",
       "      <td>pos</td>\n",
       "    </tr>\n",
       "    <tr>\n",
       "      <th>4</th>\n",
       "      <td>994</td>\n",
       "      <td>pos</td>\n",
       "    </tr>\n",
       "  </tbody>\n",
       "</table>\n",
       "</div>"
      ],
      "text/plain": [
       "  StudentID NoPaymentDue\n",
       "0      1000          pos\n",
       "1       999          pos\n",
       "2       998          pos\n",
       "3       996          pos\n",
       "4       994          pos"
      ]
     },
     "metadata": {},
     "output_type": "display_data"
    },
    {
     "data": {
      "text/plain": [
       "(1000, 2)"
      ]
     },
     "metadata": {},
     "output_type": "display_data"
    }
   ],
   "source": [
    "# read all the required files\n",
    "\n",
    "# read NoPaymentDue file for NoPaymentDue\n",
    "import re\n",
    "\n",
    "def read_prolog_file(filename):\n",
    "    with open(filename, 'r') as f:\n",
    "        content = f.readlines()\n",
    "    return content\n",
    "\n",
    "# read the file and extract the facts\n",
    "content1 = read_prolog_file(filename='datasets\\\\no_payment_due.pl')\n",
    "\n",
    "facts = []\n",
    "for line in content1:\n",
    "    match = re.match(r'no_payment_due\\(student(\\d+),(.+)\\)\\.', line.strip())\n",
    "    if match:\n",
    "        studentid, status = match.groups()\n",
    "        facts.append([studentid, status])\n",
    "        \n",
    "df1 = pd.DataFrame(facts, columns=['StudentID', 'NoPaymentDue'])\n",
    "display(df1.head(), df1.shape)\n"
   ]
  },
  {
   "cell_type": "code",
   "execution_count": 4,
   "metadata": {},
   "outputs": [
    {
     "data": {
      "text/plain": [
       "StudentID\n",
       "1      1\n",
       "702    1\n",
       "691    1\n",
       "692    1\n",
       "693    1\n",
       "      ..\n",
       "402    1\n",
       "403    1\n",
       "404    1\n",
       "405    1\n",
       "999    1\n",
       "Name: NoPaymentDue, Length: 1000, dtype: int64"
      ]
     },
     "execution_count": 4,
     "metadata": {},
     "output_type": "execute_result"
    }
   ],
   "source": [
    "# count the unique values for each unique studentid and sort by NoPaymentDue\n",
    "df1.groupby('StudentID').NoPaymentDue.count().sort_values(ascending=False)"
   ]
  },
  {
   "cell_type": "code",
   "execution_count": 5,
   "metadata": {},
   "outputs": [
    {
     "data": {
      "text/html": [
       "<div>\n",
       "<style scoped>\n",
       "    .dataframe tbody tr th:only-of-type {\n",
       "        vertical-align: middle;\n",
       "    }\n",
       "\n",
       "    .dataframe tbody tr th {\n",
       "        vertical-align: top;\n",
       "    }\n",
       "\n",
       "    .dataframe thead th {\n",
       "        text-align: right;\n",
       "    }\n",
       "</style>\n",
       "<table border=\"1\" class=\"dataframe\">\n",
       "  <thead>\n",
       "    <tr style=\"text-align: right;\">\n",
       "      <th></th>\n",
       "      <th>StudentID</th>\n",
       "      <th>Service</th>\n",
       "    </tr>\n",
       "  </thead>\n",
       "  <tbody>\n",
       "    <tr>\n",
       "      <th>0</th>\n",
       "      <td>40</td>\n",
       "      <td>fire_department</td>\n",
       "    </tr>\n",
       "    <tr>\n",
       "      <th>1</th>\n",
       "      <td>51</td>\n",
       "      <td>fire_department</td>\n",
       "    </tr>\n",
       "    <tr>\n",
       "      <th>2</th>\n",
       "      <td>109</td>\n",
       "      <td>fire_department</td>\n",
       "    </tr>\n",
       "    <tr>\n",
       "      <th>3</th>\n",
       "      <td>139</td>\n",
       "      <td>fire_department</td>\n",
       "    </tr>\n",
       "    <tr>\n",
       "      <th>4</th>\n",
       "      <td>148</td>\n",
       "      <td>fire_department</td>\n",
       "    </tr>\n",
       "  </tbody>\n",
       "</table>\n",
       "</div>"
      ],
      "text/plain": [
       "  StudentID          Service\n",
       "0        40  fire_department\n",
       "1        51  fire_department\n",
       "2       109  fire_department\n",
       "3       139  fire_department\n",
       "4       148  fire_department"
      ]
     },
     "metadata": {},
     "output_type": "display_data"
    },
    {
     "data": {
      "text/plain": [
       "(306, 2)"
      ]
     },
     "metadata": {},
     "output_type": "display_data"
    }
   ],
   "source": [
    "# Enlisted file for Enlisted and Service\n",
    "content2 = read_prolog_file(filename='datasets\\\\enlist.pl')\n",
    "\n",
    "facts = []\n",
    "for line in content2:\n",
    "    match = re.match(r'enlist\\(student(\\d+),(.+)\\)\\.', line.strip())\n",
    "    if match:\n",
    "        studentid, service = match.groups()\n",
    "        facts.append([studentid, service])\n",
    "\n",
    "df2 = pd.DataFrame(facts, columns=['StudentID', 'Service'])\n",
    "display(df2.head(), df2.shape)"
   ]
  },
  {
   "cell_type": "code",
   "execution_count": 6,
   "metadata": {},
   "outputs": [
    {
     "data": {
      "text/plain": [
       "StudentID\n",
       "562    2\n",
       "160    2\n",
       "51     2\n",
       "168    2\n",
       "634    2\n",
       "      ..\n",
       "415    1\n",
       "420    1\n",
       "423    1\n",
       "424    1\n",
       "999    1\n",
       "Name: Service, Length: 283, dtype: int64"
      ]
     },
     "execution_count": 6,
     "metadata": {},
     "output_type": "execute_result"
    }
   ],
   "source": [
    "# count the unique values for each unique studentid and sort by Service\n",
    "df2.groupby('StudentID').Service.count().sort_values(ascending=False)"
   ]
  },
  {
   "cell_type": "code",
   "execution_count": 7,
   "metadata": {},
   "outputs": [
    {
     "data": {
      "text/html": [
       "<div>\n",
       "<style scoped>\n",
       "    .dataframe tbody tr th:only-of-type {\n",
       "        vertical-align: middle;\n",
       "    }\n",
       "\n",
       "    .dataframe tbody tr th {\n",
       "        vertical-align: top;\n",
       "    }\n",
       "\n",
       "    .dataframe thead th {\n",
       "        text-align: right;\n",
       "    }\n",
       "</style>\n",
       "<table border=\"1\" class=\"dataframe\">\n",
       "  <thead>\n",
       "    <tr style=\"text-align: right;\">\n",
       "      <th></th>\n",
       "      <th>StudentID</th>\n",
       "      <th>Disabled</th>\n",
       "    </tr>\n",
       "  </thead>\n",
       "  <tbody>\n",
       "    <tr>\n",
       "      <th>0</th>\n",
       "      <td>992</td>\n",
       "      <td>Disabled</td>\n",
       "    </tr>\n",
       "    <tr>\n",
       "      <th>1</th>\n",
       "      <td>976</td>\n",
       "      <td>Disabled</td>\n",
       "    </tr>\n",
       "    <tr>\n",
       "      <th>2</th>\n",
       "      <td>963</td>\n",
       "      <td>Disabled</td>\n",
       "    </tr>\n",
       "    <tr>\n",
       "      <th>3</th>\n",
       "      <td>918</td>\n",
       "      <td>Disabled</td>\n",
       "    </tr>\n",
       "    <tr>\n",
       "      <th>4</th>\n",
       "      <td>913</td>\n",
       "      <td>Disabled</td>\n",
       "    </tr>\n",
       "  </tbody>\n",
       "</table>\n",
       "</div>"
      ],
      "text/plain": [
       "  StudentID  Disabled\n",
       "0       992  Disabled\n",
       "1       976  Disabled\n",
       "2       963  Disabled\n",
       "3       918  Disabled\n",
       "4       913  Disabled"
      ]
     },
     "metadata": {},
     "output_type": "display_data"
    },
    {
     "data": {
      "text/plain": [
       "(95, 2)"
      ]
     },
     "metadata": {},
     "output_type": "display_data"
    }
   ],
   "source": [
    "# read Disabled file for Disabled\n",
    "content3 = read_prolog_file(filename='datasets\\\\disabled.pl')\n",
    "\n",
    "facts = []\n",
    "for line in content3:\n",
    "    match = re.match(r'disabled\\(student(\\d+)\\)\\.', line.strip())\n",
    "    if match:\n",
    "        studentid = match.groups()\n",
    "        facts.append([studentid[0], 'Disabled'])\n",
    "\n",
    "df3 = pd.DataFrame(facts, columns=['StudentID', 'Disabled'])\n",
    "display(df3.head(), df3.shape)"
   ]
  },
  {
   "cell_type": "code",
   "execution_count": 8,
   "metadata": {},
   "outputs": [
    {
     "data": {
      "text/plain": [
       "StudentID\n",
       "114    1\n",
       "634    1\n",
       "698    1\n",
       "680    1\n",
       "68     1\n",
       "      ..\n",
       "351    1\n",
       "349    1\n",
       "336    1\n",
       "316    1\n",
       "992    1\n",
       "Name: Disabled, Length: 95, dtype: int64"
      ]
     },
     "execution_count": 8,
     "metadata": {},
     "output_type": "execute_result"
    }
   ],
   "source": [
    "# count the unique values for each unique studentid and sort by Disabled\n",
    "df3.groupby('StudentID').Disabled.count().sort_values(ascending=False)"
   ]
  },
  {
   "cell_type": "code",
   "execution_count": 9,
   "metadata": {},
   "outputs": [
    {
     "data": {
      "text/html": [
       "<div>\n",
       "<style scoped>\n",
       "    .dataframe tbody tr th:only-of-type {\n",
       "        vertical-align: middle;\n",
       "    }\n",
       "\n",
       "    .dataframe tbody tr th {\n",
       "        vertical-align: top;\n",
       "    }\n",
       "\n",
       "    .dataframe thead th {\n",
       "        text-align: right;\n",
       "    }\n",
       "</style>\n",
       "<table border=\"1\" class=\"dataframe\">\n",
       "  <thead>\n",
       "    <tr style=\"text-align: right;\">\n",
       "      <th></th>\n",
       "      <th>StudentID</th>\n",
       "      <th>Unemployed</th>\n",
       "    </tr>\n",
       "  </thead>\n",
       "  <tbody>\n",
       "    <tr>\n",
       "      <th>0</th>\n",
       "      <td>1000</td>\n",
       "      <td>Unemployed</td>\n",
       "    </tr>\n",
       "    <tr>\n",
       "      <th>1</th>\n",
       "      <td>996</td>\n",
       "      <td>Unemployed</td>\n",
       "    </tr>\n",
       "    <tr>\n",
       "      <th>2</th>\n",
       "      <td>993</td>\n",
       "      <td>Unemployed</td>\n",
       "    </tr>\n",
       "    <tr>\n",
       "      <th>3</th>\n",
       "      <td>948</td>\n",
       "      <td>Unemployed</td>\n",
       "    </tr>\n",
       "    <tr>\n",
       "      <th>4</th>\n",
       "      <td>946</td>\n",
       "      <td>Unemployed</td>\n",
       "    </tr>\n",
       "  </tbody>\n",
       "</table>\n",
       "</div>"
      ],
      "text/plain": [
       "  StudentID  Unemployed\n",
       "0      1000  Unemployed\n",
       "1       996  Unemployed\n",
       "2       993  Unemployed\n",
       "3       948  Unemployed\n",
       "4       946  Unemployed"
      ]
     },
     "metadata": {},
     "output_type": "display_data"
    },
    {
     "data": {
      "text/plain": [
       "(98, 2)"
      ]
     },
     "metadata": {},
     "output_type": "display_data"
    }
   ],
   "source": [
    "# read Unemployed file for Unemployed\n",
    "content4 = read_prolog_file(filename='datasets\\\\unemployed.pl')\n",
    "\n",
    "facts = []\n",
    "for line in content4:\n",
    "    match = re.match(r'unemployed\\(student(\\d+)\\)\\.', line.strip())\n",
    "    if match:\n",
    "        studentid = match.groups()\n",
    "        facts.append([studentid[0], 'Unemployed'])\n",
    "\n",
    "df4 = pd.DataFrame(facts, columns=['StudentID', 'Unemployed'])\n",
    "display(df4.head(), df4.shape)"
   ]
  },
  {
   "cell_type": "code",
   "execution_count": 10,
   "metadata": {},
   "outputs": [
    {
     "data": {
      "text/plain": [
       "StudentID\n",
       "1000    1\n",
       "705     1\n",
       "690     1\n",
       "69      1\n",
       "688     1\n",
       "       ..\n",
       "368     1\n",
       "352     1\n",
       "351     1\n",
       "349     1\n",
       "996     1\n",
       "Name: Unemployed, Length: 98, dtype: int64"
      ]
     },
     "execution_count": 10,
     "metadata": {},
     "output_type": "execute_result"
    }
   ],
   "source": [
    "# count the unique values for each unique studentid and sort by Unemployed\n",
    "df4.groupby('StudentID').Unemployed.count().sort_values(ascending=False)"
   ]
  },
  {
   "cell_type": "code",
   "execution_count": 11,
   "metadata": {},
   "outputs": [
    {
     "data": {
      "text/html": [
       "<div>\n",
       "<style scoped>\n",
       "    .dataframe tbody tr th:only-of-type {\n",
       "        vertical-align: middle;\n",
       "    }\n",
       "\n",
       "    .dataframe tbody tr th {\n",
       "        vertical-align: top;\n",
       "    }\n",
       "\n",
       "    .dataframe thead th {\n",
       "        text-align: right;\n",
       "    }\n",
       "</style>\n",
       "<table border=\"1\" class=\"dataframe\">\n",
       "  <thead>\n",
       "    <tr style=\"text-align: right;\">\n",
       "      <th></th>\n",
       "      <th>StudentID</th>\n",
       "      <th>School</th>\n",
       "      <th>Units</th>\n",
       "    </tr>\n",
       "  </thead>\n",
       "  <tbody>\n",
       "    <tr>\n",
       "      <th>0</th>\n",
       "      <td>10</td>\n",
       "      <td>ucb</td>\n",
       "      <td>2</td>\n",
       "    </tr>\n",
       "    <tr>\n",
       "      <th>1</th>\n",
       "      <td>18</td>\n",
       "      <td>ucsd</td>\n",
       "      <td>4</td>\n",
       "    </tr>\n",
       "    <tr>\n",
       "      <th>2</th>\n",
       "      <td>20</td>\n",
       "      <td>ucsd</td>\n",
       "      <td>3</td>\n",
       "    </tr>\n",
       "    <tr>\n",
       "      <th>3</th>\n",
       "      <td>35</td>\n",
       "      <td>ucsd</td>\n",
       "      <td>4</td>\n",
       "    </tr>\n",
       "    <tr>\n",
       "      <th>4</th>\n",
       "      <td>44</td>\n",
       "      <td>ucsd</td>\n",
       "      <td>1</td>\n",
       "    </tr>\n",
       "  </tbody>\n",
       "</table>\n",
       "</div>"
      ],
      "text/plain": [
       "  StudentID School Units\n",
       "0        10    ucb     2\n",
       "1        18   ucsd     4\n",
       "2        20   ucsd     3\n",
       "3        35   ucsd     4\n",
       "4        44   ucsd     1"
      ]
     },
     "metadata": {},
     "output_type": "display_data"
    },
    {
     "data": {
      "text/plain": [
       "(1194, 3)"
      ]
     },
     "metadata": {},
     "output_type": "display_data"
    }
   ],
   "source": [
    "# read Enrolled file for Enrolled and School\n",
    "content5 = read_prolog_file(filename = 'datasets\\\\enrolled.pl')\n",
    "\n",
    "facts = []\n",
    "for line in content5:\n",
    "    match = re.match(r'enrolled\\(student(\\d+),(.+),(.+)\\)\\.', line.strip())\n",
    "    if match:\n",
    "        studentid, school, units = match.groups()\n",
    "        facts.append([studentid, school, units])\n",
    "\n",
    "df5 = pd.DataFrame(facts, columns=['StudentID', 'School', 'Units'])\n",
    "display(df5.head(), df5.shape)"
   ]
  },
  {
   "cell_type": "code",
   "execution_count": 12,
   "metadata": {},
   "outputs": [
    {
     "data": {
      "text/plain": [
       "StudentID\n",
       "726    2\n",
       "678    2\n",
       "250    2\n",
       "722    2\n",
       "253    2\n",
       "      ..\n",
       "436    1\n",
       "437    1\n",
       "438    1\n",
       "439    1\n",
       "999    1\n",
       "Name: School, Length: 960, dtype: int64"
      ]
     },
     "execution_count": 12,
     "metadata": {},
     "output_type": "execute_result"
    }
   ],
   "source": [
    "# count the unique values for each unique studentid and sort by School\n",
    "df5.groupby('StudentID').School.count().sort_values(ascending=False)"
   ]
  },
  {
   "cell_type": "code",
   "execution_count": 13,
   "metadata": {},
   "outputs": [
    {
     "data": {
      "text/plain": [
       "StudentID\n",
       "726    2\n",
       "678    2\n",
       "250    2\n",
       "722    2\n",
       "253    2\n",
       "      ..\n",
       "436    1\n",
       "437    1\n",
       "438    1\n",
       "439    1\n",
       "999    1\n",
       "Name: Units, Length: 960, dtype: int64"
      ]
     },
     "execution_count": 13,
     "metadata": {},
     "output_type": "execute_result"
    }
   ],
   "source": [
    "# count the unique values for each unique studentid and sort by Units\n",
    "df5.groupby('StudentID').Units.count().sort_values(ascending=False)"
   ]
  },
  {
   "cell_type": "code",
   "execution_count": 14,
   "metadata": {},
   "outputs": [
    {
     "data": {
      "text/html": [
       "<div>\n",
       "<style scoped>\n",
       "    .dataframe tbody tr th:only-of-type {\n",
       "        vertical-align: middle;\n",
       "    }\n",
       "\n",
       "    .dataframe tbody tr th {\n",
       "        vertical-align: top;\n",
       "    }\n",
       "\n",
       "    .dataframe thead th {\n",
       "        text-align: right;\n",
       "    }\n",
       "</style>\n",
       "<table border=\"1\" class=\"dataframe\">\n",
       "  <thead>\n",
       "    <tr style=\"text-align: right;\">\n",
       "      <th></th>\n",
       "      <th>StudentID</th>\n",
       "      <th>Region</th>\n",
       "    </tr>\n",
       "  </thead>\n",
       "  <tbody>\n",
       "    <tr>\n",
       "      <th>0</th>\n",
       "      <td>1</td>\n",
       "      <td>2</td>\n",
       "    </tr>\n",
       "    <tr>\n",
       "      <th>1</th>\n",
       "      <td>2</td>\n",
       "      <td>5</td>\n",
       "    </tr>\n",
       "    <tr>\n",
       "      <th>2</th>\n",
       "      <td>3</td>\n",
       "      <td>2</td>\n",
       "    </tr>\n",
       "    <tr>\n",
       "      <th>3</th>\n",
       "      <td>4</td>\n",
       "      <td>1</td>\n",
       "    </tr>\n",
       "    <tr>\n",
       "      <th>4</th>\n",
       "      <td>5</td>\n",
       "      <td>3</td>\n",
       "    </tr>\n",
       "  </tbody>\n",
       "</table>\n",
       "</div>"
      ],
      "text/plain": [
       "   StudentID  Region\n",
       "0          1       2\n",
       "1          2       5\n",
       "2          3       2\n",
       "3          4       1\n",
       "4          5       3"
      ]
     },
     "metadata": {},
     "output_type": "display_data"
    },
    {
     "data": {
      "text/plain": [
       "(1000, 2)"
      ]
     },
     "metadata": {},
     "output_type": "display_data"
    }
   ],
   "source": [
    "# read Region file for Region\n",
    "# from Region,Martial Status.xlsx, with column names: StudentId, Country, Region, Marital_Status\n",
    "df6 = pd.read_excel('datasets\\Region, Marital Status.xlsx')\n",
    "df6.columns = ['StudentID', 'Country', 'Region', 'Marital_Status']\n",
    "df6_filtered = df6.loc[:,['StudentID', 'Region']]\n",
    "display(df6_filtered.head(), df6_filtered.shape)"
   ]
  },
  {
   "cell_type": "code",
   "execution_count": 15,
   "metadata": {},
   "outputs": [
    {
     "data": {
      "text/plain": [
       "StudentID\n",
       "1       1\n",
       "672     1\n",
       "659     1\n",
       "660     1\n",
       "661     1\n",
       "       ..\n",
       "339     1\n",
       "340     1\n",
       "341     1\n",
       "342     1\n",
       "1000    1\n",
       "Name: Region, Length: 1000, dtype: int64"
      ]
     },
     "execution_count": 15,
     "metadata": {},
     "output_type": "execute_result"
    }
   ],
   "source": [
    "# count the unique values for each unique studentid and sort by Region\n",
    "df6_filtered.groupby('StudentID').Region.count().sort_values(ascending=False)"
   ]
  },
  {
   "attachments": {},
   "cell_type": "markdown",
   "metadata": {},
   "source": [
    "# Merging"
   ]
  },
  {
   "cell_type": "code",
   "execution_count": 16,
   "metadata": {},
   "outputs": [
    {
     "data": {
      "text/html": [
       "<div>\n",
       "<style scoped>\n",
       "    .dataframe tbody tr th:only-of-type {\n",
       "        vertical-align: middle;\n",
       "    }\n",
       "\n",
       "    .dataframe tbody tr th {\n",
       "        vertical-align: top;\n",
       "    }\n",
       "\n",
       "    .dataframe thead th {\n",
       "        text-align: right;\n",
       "    }\n",
       "</style>\n",
       "<table border=\"1\" class=\"dataframe\">\n",
       "  <thead>\n",
       "    <tr style=\"text-align: right;\">\n",
       "      <th></th>\n",
       "      <th>StudentID</th>\n",
       "      <th>NoPaymentDue</th>\n",
       "      <th>Service</th>\n",
       "      <th>Enlisted</th>\n",
       "    </tr>\n",
       "  </thead>\n",
       "  <tbody>\n",
       "    <tr>\n",
       "      <th>0</th>\n",
       "      <td>1000</td>\n",
       "      <td>pos</td>\n",
       "      <td>air_force</td>\n",
       "      <td>1</td>\n",
       "    </tr>\n",
       "    <tr>\n",
       "      <th>1</th>\n",
       "      <td>999</td>\n",
       "      <td>pos</td>\n",
       "      <td>fire_department</td>\n",
       "      <td>1</td>\n",
       "    </tr>\n",
       "    <tr>\n",
       "      <th>2</th>\n",
       "      <td>998</td>\n",
       "      <td>pos</td>\n",
       "      <td>NaN</td>\n",
       "      <td>0</td>\n",
       "    </tr>\n",
       "    <tr>\n",
       "      <th>3</th>\n",
       "      <td>996</td>\n",
       "      <td>pos</td>\n",
       "      <td>navy</td>\n",
       "      <td>1</td>\n",
       "    </tr>\n",
       "    <tr>\n",
       "      <th>4</th>\n",
       "      <td>994</td>\n",
       "      <td>pos</td>\n",
       "      <td>NaN</td>\n",
       "      <td>0</td>\n",
       "    </tr>\n",
       "  </tbody>\n",
       "</table>\n",
       "</div>"
      ],
      "text/plain": [
       "  StudentID NoPaymentDue          Service  Enlisted\n",
       "0      1000          pos        air_force         1\n",
       "1       999          pos  fire_department         1\n",
       "2       998          pos              NaN         0\n",
       "3       996          pos             navy         1\n",
       "4       994          pos              NaN         0"
      ]
     },
     "metadata": {},
     "output_type": "display_data"
    },
    {
     "data": {
      "text/plain": [
       "(1023, 4)"
      ]
     },
     "metadata": {},
     "output_type": "display_data"
    }
   ],
   "source": [
    "# create a df with columns: StudentID, NoPaymentDue, Enlisted \n",
    "# Service, Disabled, Unemployed, Enrolled, School, Region\n",
    "df = df1.copy()\n",
    "\n",
    "# add Enlisted and Service columns to df by using df2\n",
    "# Enlisted: 1 if the corresponding StudentId in df2 is in df1; 0 otherwise\n",
    "# Service: the corresponding Service in df2 if the corresponding StudentId in df2 is in df1; NaN otherwise\n",
    "df = df.merge(df2, how='left', on='StudentID')\n",
    "df['Enlisted'] = df['Service'].apply(lambda x: 1 if pd.notnull(x) else 0)\n",
    "df['Service'] = df['Service'].fillna('NaN')\n",
    "display(df.head(), df.shape)\n",
    "\n"
   ]
  },
  {
   "cell_type": "code",
   "execution_count": 17,
   "metadata": {},
   "outputs": [
    {
     "data": {
      "text/html": [
       "<div>\n",
       "<style scoped>\n",
       "    .dataframe tbody tr th:only-of-type {\n",
       "        vertical-align: middle;\n",
       "    }\n",
       "\n",
       "    .dataframe tbody tr th {\n",
       "        vertical-align: top;\n",
       "    }\n",
       "\n",
       "    .dataframe thead th {\n",
       "        text-align: right;\n",
       "    }\n",
       "</style>\n",
       "<table border=\"1\" class=\"dataframe\">\n",
       "  <thead>\n",
       "    <tr style=\"text-align: right;\">\n",
       "      <th></th>\n",
       "      <th>StudentID</th>\n",
       "      <th>NoPaymentDue</th>\n",
       "      <th>Service</th>\n",
       "      <th>Enlisted</th>\n",
       "      <th>Disabled</th>\n",
       "    </tr>\n",
       "  </thead>\n",
       "  <tbody>\n",
       "    <tr>\n",
       "      <th>0</th>\n",
       "      <td>1000</td>\n",
       "      <td>pos</td>\n",
       "      <td>air_force</td>\n",
       "      <td>1</td>\n",
       "      <td>0</td>\n",
       "    </tr>\n",
       "    <tr>\n",
       "      <th>1</th>\n",
       "      <td>999</td>\n",
       "      <td>pos</td>\n",
       "      <td>fire_department</td>\n",
       "      <td>1</td>\n",
       "      <td>0</td>\n",
       "    </tr>\n",
       "    <tr>\n",
       "      <th>2</th>\n",
       "      <td>998</td>\n",
       "      <td>pos</td>\n",
       "      <td>NaN</td>\n",
       "      <td>0</td>\n",
       "      <td>0</td>\n",
       "    </tr>\n",
       "    <tr>\n",
       "      <th>3</th>\n",
       "      <td>996</td>\n",
       "      <td>pos</td>\n",
       "      <td>navy</td>\n",
       "      <td>1</td>\n",
       "      <td>0</td>\n",
       "    </tr>\n",
       "    <tr>\n",
       "      <th>4</th>\n",
       "      <td>994</td>\n",
       "      <td>pos</td>\n",
       "      <td>NaN</td>\n",
       "      <td>0</td>\n",
       "      <td>0</td>\n",
       "    </tr>\n",
       "  </tbody>\n",
       "</table>\n",
       "</div>"
      ],
      "text/plain": [
       "  StudentID NoPaymentDue          Service  Enlisted  Disabled\n",
       "0      1000          pos        air_force         1         0\n",
       "1       999          pos  fire_department         1         0\n",
       "2       998          pos              NaN         0         0\n",
       "3       996          pos             navy         1         0\n",
       "4       994          pos              NaN         0         0"
      ]
     },
     "metadata": {},
     "output_type": "display_data"
    },
    {
     "data": {
      "text/plain": [
       "(1023, 5)"
      ]
     },
     "metadata": {},
     "output_type": "display_data"
    }
   ],
   "source": [
    "# add Disabled column to df by using df3\n",
    "# Disabled: 1 if the corresponding StudentId in df3 is in df1; 0 otherwise\n",
    "df = df.merge(df3, how='left', on='StudentID')\n",
    "df['Disabled'] = df['Disabled'].apply(lambda x: 1 if pd.notnull(x) else 0)\n",
    "display(df.head(), df.shape)"
   ]
  },
  {
   "cell_type": "code",
   "execution_count": 18,
   "metadata": {},
   "outputs": [
    {
     "data": {
      "text/html": [
       "<div>\n",
       "<style scoped>\n",
       "    .dataframe tbody tr th:only-of-type {\n",
       "        vertical-align: middle;\n",
       "    }\n",
       "\n",
       "    .dataframe tbody tr th {\n",
       "        vertical-align: top;\n",
       "    }\n",
       "\n",
       "    .dataframe thead th {\n",
       "        text-align: right;\n",
       "    }\n",
       "</style>\n",
       "<table border=\"1\" class=\"dataframe\">\n",
       "  <thead>\n",
       "    <tr style=\"text-align: right;\">\n",
       "      <th></th>\n",
       "      <th>StudentID</th>\n",
       "      <th>NoPaymentDue</th>\n",
       "      <th>Service</th>\n",
       "      <th>Enlisted</th>\n",
       "      <th>Disabled</th>\n",
       "      <th>Unemployed</th>\n",
       "    </tr>\n",
       "  </thead>\n",
       "  <tbody>\n",
       "    <tr>\n",
       "      <th>0</th>\n",
       "      <td>1000</td>\n",
       "      <td>pos</td>\n",
       "      <td>air_force</td>\n",
       "      <td>1</td>\n",
       "      <td>0</td>\n",
       "      <td>1</td>\n",
       "    </tr>\n",
       "    <tr>\n",
       "      <th>1</th>\n",
       "      <td>999</td>\n",
       "      <td>pos</td>\n",
       "      <td>fire_department</td>\n",
       "      <td>1</td>\n",
       "      <td>0</td>\n",
       "      <td>0</td>\n",
       "    </tr>\n",
       "    <tr>\n",
       "      <th>2</th>\n",
       "      <td>998</td>\n",
       "      <td>pos</td>\n",
       "      <td>NaN</td>\n",
       "      <td>0</td>\n",
       "      <td>0</td>\n",
       "      <td>0</td>\n",
       "    </tr>\n",
       "    <tr>\n",
       "      <th>3</th>\n",
       "      <td>996</td>\n",
       "      <td>pos</td>\n",
       "      <td>navy</td>\n",
       "      <td>1</td>\n",
       "      <td>0</td>\n",
       "      <td>1</td>\n",
       "    </tr>\n",
       "    <tr>\n",
       "      <th>4</th>\n",
       "      <td>994</td>\n",
       "      <td>pos</td>\n",
       "      <td>NaN</td>\n",
       "      <td>0</td>\n",
       "      <td>0</td>\n",
       "      <td>0</td>\n",
       "    </tr>\n",
       "  </tbody>\n",
       "</table>\n",
       "</div>"
      ],
      "text/plain": [
       "  StudentID NoPaymentDue          Service  Enlisted  Disabled  Unemployed\n",
       "0      1000          pos        air_force         1         0           1\n",
       "1       999          pos  fire_department         1         0           0\n",
       "2       998          pos              NaN         0         0           0\n",
       "3       996          pos             navy         1         0           1\n",
       "4       994          pos              NaN         0         0           0"
      ]
     },
     "metadata": {},
     "output_type": "display_data"
    },
    {
     "data": {
      "text/plain": [
       "(1023, 6)"
      ]
     },
     "metadata": {},
     "output_type": "display_data"
    }
   ],
   "source": [
    "# add Unemployed column to df by using df4\n",
    "# Unemployed: 1 if the corresponding StudentId in df4 is in df1; 0 otherwise\n",
    "df = df.merge(df4, how='left', on='StudentID')\n",
    "df['Unemployed'] = df['Unemployed'].apply(lambda x: 1 if pd.notnull(x) else 0)\n",
    "display(df.head(), df.shape)"
   ]
  },
  {
   "cell_type": "code",
   "execution_count": 19,
   "metadata": {},
   "outputs": [
    {
     "data": {
      "text/html": [
       "<div>\n",
       "<style scoped>\n",
       "    .dataframe tbody tr th:only-of-type {\n",
       "        vertical-align: middle;\n",
       "    }\n",
       "\n",
       "    .dataframe tbody tr th {\n",
       "        vertical-align: top;\n",
       "    }\n",
       "\n",
       "    .dataframe thead th {\n",
       "        text-align: right;\n",
       "    }\n",
       "</style>\n",
       "<table border=\"1\" class=\"dataframe\">\n",
       "  <thead>\n",
       "    <tr style=\"text-align: right;\">\n",
       "      <th></th>\n",
       "      <th>StudentID</th>\n",
       "      <th>NoPaymentDue</th>\n",
       "      <th>Service</th>\n",
       "      <th>Enlisted</th>\n",
       "      <th>Disabled</th>\n",
       "      <th>Unemployed</th>\n",
       "      <th>School</th>\n",
       "      <th>Units</th>\n",
       "      <th>Enrolled</th>\n",
       "    </tr>\n",
       "  </thead>\n",
       "  <tbody>\n",
       "    <tr>\n",
       "      <th>0</th>\n",
       "      <td>1000</td>\n",
       "      <td>pos</td>\n",
       "      <td>air_force</td>\n",
       "      <td>1</td>\n",
       "      <td>0</td>\n",
       "      <td>1</td>\n",
       "      <td>ucsd</td>\n",
       "      <td>5</td>\n",
       "      <td>1</td>\n",
       "    </tr>\n",
       "    <tr>\n",
       "      <th>1</th>\n",
       "      <td>1000</td>\n",
       "      <td>pos</td>\n",
       "      <td>air_force</td>\n",
       "      <td>1</td>\n",
       "      <td>0</td>\n",
       "      <td>1</td>\n",
       "      <td>occ</td>\n",
       "      <td>9</td>\n",
       "      <td>1</td>\n",
       "    </tr>\n",
       "    <tr>\n",
       "      <th>2</th>\n",
       "      <td>999</td>\n",
       "      <td>pos</td>\n",
       "      <td>fire_department</td>\n",
       "      <td>1</td>\n",
       "      <td>0</td>\n",
       "      <td>0</td>\n",
       "      <td>smc</td>\n",
       "      <td>4</td>\n",
       "      <td>1</td>\n",
       "    </tr>\n",
       "    <tr>\n",
       "      <th>3</th>\n",
       "      <td>998</td>\n",
       "      <td>pos</td>\n",
       "      <td>NaN</td>\n",
       "      <td>0</td>\n",
       "      <td>0</td>\n",
       "      <td>0</td>\n",
       "      <td>ucb</td>\n",
       "      <td>1</td>\n",
       "      <td>1</td>\n",
       "    </tr>\n",
       "    <tr>\n",
       "      <th>4</th>\n",
       "      <td>998</td>\n",
       "      <td>pos</td>\n",
       "      <td>NaN</td>\n",
       "      <td>0</td>\n",
       "      <td>0</td>\n",
       "      <td>0</td>\n",
       "      <td>smc</td>\n",
       "      <td>1</td>\n",
       "      <td>1</td>\n",
       "    </tr>\n",
       "  </tbody>\n",
       "</table>\n",
       "</div>"
      ],
      "text/plain": [
       "  StudentID NoPaymentDue          Service  Enlisted  Disabled  Unemployed   \n",
       "0      1000          pos        air_force         1         0           1  \\\n",
       "1      1000          pos        air_force         1         0           1   \n",
       "2       999          pos  fire_department         1         0           0   \n",
       "3       998          pos              NaN         0         0           0   \n",
       "4       998          pos              NaN         0         0           0   \n",
       "\n",
       "  School Units  Enrolled  \n",
       "0   ucsd     5         1  \n",
       "1    occ     9         1  \n",
       "2    smc     4         1  \n",
       "3    ucb     1         1  \n",
       "4    smc     1         1  "
      ]
     },
     "metadata": {},
     "output_type": "display_data"
    },
    {
     "data": {
      "text/plain": [
       "(1260, 9)"
      ]
     },
     "metadata": {},
     "output_type": "display_data"
    }
   ],
   "source": [
    "# add Enrolled, School, Units columns to df by using df5\n",
    "# Enrolled: 1 if the corresponding StudentId in df5 is in df1; 0 otherwise\n",
    "# School: the corresponding School in df5 if the corresponding StudentId in df5 is in df1; NaN otherwise\n",
    "# Units: the corresponding Units in df5 if the corresponding StudentId in df5 is in df1; NaN otherwise\n",
    "df = df.merge(df5, how='left', on='StudentID')\n",
    "df['Enrolled'] = df['School'].apply(lambda x: 1 if pd.notnull(x) else 0)\n",
    "df['School'] = df['School'].fillna('NaN')\n",
    "df['Units'] = df['Units'].fillna('NaN')\n",
    "display(df.head(), df.shape)\n",
    "\n"
   ]
  },
  {
   "cell_type": "code",
   "execution_count": 20,
   "metadata": {},
   "outputs": [
    {
     "data": {
      "text/html": [
       "<div>\n",
       "<style scoped>\n",
       "    .dataframe tbody tr th:only-of-type {\n",
       "        vertical-align: middle;\n",
       "    }\n",
       "\n",
       "    .dataframe tbody tr th {\n",
       "        vertical-align: top;\n",
       "    }\n",
       "\n",
       "    .dataframe thead th {\n",
       "        text-align: right;\n",
       "    }\n",
       "</style>\n",
       "<table border=\"1\" class=\"dataframe\">\n",
       "  <thead>\n",
       "    <tr style=\"text-align: right;\">\n",
       "      <th></th>\n",
       "      <th>StudentID</th>\n",
       "      <th>NoPaymentDue</th>\n",
       "      <th>Service</th>\n",
       "      <th>Enlisted</th>\n",
       "      <th>Disabled</th>\n",
       "      <th>Unemployed</th>\n",
       "      <th>School</th>\n",
       "      <th>Units</th>\n",
       "      <th>Enrolled</th>\n",
       "      <th>Region</th>\n",
       "    </tr>\n",
       "  </thead>\n",
       "  <tbody>\n",
       "    <tr>\n",
       "      <th>0</th>\n",
       "      <td>1000</td>\n",
       "      <td>pos</td>\n",
       "      <td>air_force</td>\n",
       "      <td>1</td>\n",
       "      <td>0</td>\n",
       "      <td>1</td>\n",
       "      <td>ucsd</td>\n",
       "      <td>5</td>\n",
       "      <td>1</td>\n",
       "      <td>1</td>\n",
       "    </tr>\n",
       "    <tr>\n",
       "      <th>1</th>\n",
       "      <td>1000</td>\n",
       "      <td>pos</td>\n",
       "      <td>air_force</td>\n",
       "      <td>1</td>\n",
       "      <td>0</td>\n",
       "      <td>1</td>\n",
       "      <td>occ</td>\n",
       "      <td>9</td>\n",
       "      <td>1</td>\n",
       "      <td>1</td>\n",
       "    </tr>\n",
       "    <tr>\n",
       "      <th>2</th>\n",
       "      <td>999</td>\n",
       "      <td>pos</td>\n",
       "      <td>fire_department</td>\n",
       "      <td>1</td>\n",
       "      <td>0</td>\n",
       "      <td>0</td>\n",
       "      <td>smc</td>\n",
       "      <td>4</td>\n",
       "      <td>1</td>\n",
       "      <td>2</td>\n",
       "    </tr>\n",
       "    <tr>\n",
       "      <th>3</th>\n",
       "      <td>998</td>\n",
       "      <td>pos</td>\n",
       "      <td>NaN</td>\n",
       "      <td>0</td>\n",
       "      <td>0</td>\n",
       "      <td>0</td>\n",
       "      <td>ucb</td>\n",
       "      <td>1</td>\n",
       "      <td>1</td>\n",
       "      <td>5</td>\n",
       "    </tr>\n",
       "    <tr>\n",
       "      <th>4</th>\n",
       "      <td>998</td>\n",
       "      <td>pos</td>\n",
       "      <td>NaN</td>\n",
       "      <td>0</td>\n",
       "      <td>0</td>\n",
       "      <td>0</td>\n",
       "      <td>smc</td>\n",
       "      <td>1</td>\n",
       "      <td>1</td>\n",
       "      <td>5</td>\n",
       "    </tr>\n",
       "  </tbody>\n",
       "</table>\n",
       "</div>"
      ],
      "text/plain": [
       "   StudentID NoPaymentDue          Service  Enlisted  Disabled  Unemployed   \n",
       "0       1000          pos        air_force         1         0           1  \\\n",
       "1       1000          pos        air_force         1         0           1   \n",
       "2        999          pos  fire_department         1         0           0   \n",
       "3        998          pos              NaN         0         0           0   \n",
       "4        998          pos              NaN         0         0           0   \n",
       "\n",
       "  School Units  Enrolled  Region  \n",
       "0   ucsd     5         1       1  \n",
       "1    occ     9         1       1  \n",
       "2    smc     4         1       2  \n",
       "3    ucb     1         1       5  \n",
       "4    smc     1         1       5  "
      ]
     },
     "metadata": {},
     "output_type": "display_data"
    },
    {
     "data": {
      "text/plain": [
       "(1260, 10)"
      ]
     },
     "metadata": {},
     "output_type": "display_data"
    }
   ],
   "source": [
    "# add Region column to df by using df6_filtered\n",
    "# Region: the corresponding Region in df6_filtered if the corresponding StudentId in df6_filtered is in df1; NaN otherwise\n",
    "# conver studentid to number in df\n",
    "df['StudentID'] = df['StudentID'].apply(lambda x: int(x))\n",
    "df = df.merge(df6_filtered, how='left', on='StudentID')\n",
    "df['Region'] = df['Region'].fillna('NaN')\n",
    "display(df.head(), df.shape)\n"
   ]
  },
  {
   "attachments": {},
   "cell_type": "markdown",
   "metadata": {},
   "source": [
    "# issues"
   ]
  },
  {
   "cell_type": "code",
   "execution_count": 21,
   "metadata": {},
   "outputs": [
    {
     "data": {
      "text/html": [
       "<div>\n",
       "<style scoped>\n",
       "    .dataframe tbody tr th:only-of-type {\n",
       "        vertical-align: middle;\n",
       "    }\n",
       "\n",
       "    .dataframe tbody tr th {\n",
       "        vertical-align: top;\n",
       "    }\n",
       "\n",
       "    .dataframe thead th {\n",
       "        text-align: right;\n",
       "    }\n",
       "</style>\n",
       "<table border=\"1\" class=\"dataframe\">\n",
       "  <thead>\n",
       "    <tr style=\"text-align: right;\">\n",
       "      <th></th>\n",
       "      <th>StudentID</th>\n",
       "      <th>Service</th>\n",
       "    </tr>\n",
       "  </thead>\n",
       "  <tbody>\n",
       "    <tr>\n",
       "      <th>3</th>\n",
       "      <td>139</td>\n",
       "      <td>fire_department</td>\n",
       "    </tr>\n",
       "    <tr>\n",
       "      <th>273</th>\n",
       "      <td>139</td>\n",
       "      <td>fire_department</td>\n",
       "    </tr>\n",
       "    <tr>\n",
       "      <th>268</th>\n",
       "      <td>160</td>\n",
       "      <td>fire_department</td>\n",
       "    </tr>\n",
       "    <tr>\n",
       "      <th>52</th>\n",
       "      <td>160</td>\n",
       "      <td>fire_department</td>\n",
       "    </tr>\n",
       "    <tr>\n",
       "      <th>53</th>\n",
       "      <td>161</td>\n",
       "      <td>fire_department</td>\n",
       "    </tr>\n",
       "    <tr>\n",
       "      <th>267</th>\n",
       "      <td>161</td>\n",
       "      <td>foreign_legion</td>\n",
       "    </tr>\n",
       "    <tr>\n",
       "      <th>6</th>\n",
       "      <td>168</td>\n",
       "      <td>fire_department</td>\n",
       "    </tr>\n",
       "    <tr>\n",
       "      <th>265</th>\n",
       "      <td>168</td>\n",
       "      <td>air_force</td>\n",
       "    </tr>\n",
       "    <tr>\n",
       "      <th>9</th>\n",
       "      <td>224</td>\n",
       "      <td>fire_department</td>\n",
       "    </tr>\n",
       "    <tr>\n",
       "      <th>252</th>\n",
       "      <td>224</td>\n",
       "      <td>peace_corps</td>\n",
       "    </tr>\n",
       "    <tr>\n",
       "      <th>10</th>\n",
       "      <td>233</td>\n",
       "      <td>fire_department</td>\n",
       "    </tr>\n",
       "    <tr>\n",
       "      <th>251</th>\n",
       "      <td>233</td>\n",
       "      <td>navy</td>\n",
       "    </tr>\n",
       "    <tr>\n",
       "      <th>14</th>\n",
       "      <td>280</td>\n",
       "      <td>fire_department</td>\n",
       "    </tr>\n",
       "    <tr>\n",
       "      <th>244</th>\n",
       "      <td>280</td>\n",
       "      <td>air_force</td>\n",
       "    </tr>\n",
       "    <tr>\n",
       "      <th>17</th>\n",
       "      <td>304</td>\n",
       "      <td>fire_department</td>\n",
       "    </tr>\n",
       "    <tr>\n",
       "      <th>233</th>\n",
       "      <td>304</td>\n",
       "      <td>army</td>\n",
       "    </tr>\n",
       "    <tr>\n",
       "      <th>230</th>\n",
       "      <td>313</td>\n",
       "      <td>air_force</td>\n",
       "    </tr>\n",
       "    <tr>\n",
       "      <th>18</th>\n",
       "      <td>313</td>\n",
       "      <td>fire_department</td>\n",
       "    </tr>\n",
       "    <tr>\n",
       "      <th>21</th>\n",
       "      <td>340</td>\n",
       "      <td>fire_department</td>\n",
       "    </tr>\n",
       "    <tr>\n",
       "      <th>223</th>\n",
       "      <td>340</td>\n",
       "      <td>army</td>\n",
       "    </tr>\n",
       "    <tr>\n",
       "      <th>22</th>\n",
       "      <td>349</td>\n",
       "      <td>fire_department</td>\n",
       "    </tr>\n",
       "    <tr>\n",
       "      <th>221</th>\n",
       "      <td>349</td>\n",
       "      <td>navy</td>\n",
       "    </tr>\n",
       "    <tr>\n",
       "      <th>200</th>\n",
       "      <td>458</td>\n",
       "      <td>peace_corps</td>\n",
       "    </tr>\n",
       "    <tr>\n",
       "      <th>27</th>\n",
       "      <td>458</td>\n",
       "      <td>fire_department</td>\n",
       "    </tr>\n",
       "    <tr>\n",
       "      <th>1</th>\n",
       "      <td>51</td>\n",
       "      <td>fire_department</td>\n",
       "    </tr>\n",
       "    <tr>\n",
       "      <th>296</th>\n",
       "      <td>51</td>\n",
       "      <td>marines</td>\n",
       "    </tr>\n",
       "    <tr>\n",
       "      <th>295</th>\n",
       "      <td>53</td>\n",
       "      <td>foreign_legion</td>\n",
       "    </tr>\n",
       "    <tr>\n",
       "      <th>51</th>\n",
       "      <td>53</td>\n",
       "      <td>fire_department</td>\n",
       "    </tr>\n",
       "    <tr>\n",
       "      <th>188</th>\n",
       "      <td>539</td>\n",
       "      <td>army</td>\n",
       "    </tr>\n",
       "    <tr>\n",
       "      <th>30</th>\n",
       "      <td>539</td>\n",
       "      <td>fire_department</td>\n",
       "    </tr>\n",
       "    <tr>\n",
       "      <th>181</th>\n",
       "      <td>562</td>\n",
       "      <td>marines</td>\n",
       "    </tr>\n",
       "    <tr>\n",
       "      <th>32</th>\n",
       "      <td>562</td>\n",
       "      <td>fire_department</td>\n",
       "    </tr>\n",
       "    <tr>\n",
       "      <th>180</th>\n",
       "      <td>568</td>\n",
       "      <td>army</td>\n",
       "    </tr>\n",
       "    <tr>\n",
       "      <th>33</th>\n",
       "      <td>568</td>\n",
       "      <td>fire_department</td>\n",
       "    </tr>\n",
       "    <tr>\n",
       "      <th>163</th>\n",
       "      <td>634</td>\n",
       "      <td>army</td>\n",
       "    </tr>\n",
       "    <tr>\n",
       "      <th>36</th>\n",
       "      <td>634</td>\n",
       "      <td>fire_department</td>\n",
       "    </tr>\n",
       "    <tr>\n",
       "      <th>141</th>\n",
       "      <td>714</td>\n",
       "      <td>army</td>\n",
       "    </tr>\n",
       "    <tr>\n",
       "      <th>41</th>\n",
       "      <td>714</td>\n",
       "      <td>fire_department</td>\n",
       "    </tr>\n",
       "    <tr>\n",
       "      <th>112</th>\n",
       "      <td>839</td>\n",
       "      <td>foreign_legion</td>\n",
       "    </tr>\n",
       "    <tr>\n",
       "      <th>72</th>\n",
       "      <td>839</td>\n",
       "      <td>fire_department</td>\n",
       "    </tr>\n",
       "    <tr>\n",
       "      <th>109</th>\n",
       "      <td>854</td>\n",
       "      <td>fire_department</td>\n",
       "    </tr>\n",
       "    <tr>\n",
       "      <th>46</th>\n",
       "      <td>854</td>\n",
       "      <td>fire_department</td>\n",
       "    </tr>\n",
       "    <tr>\n",
       "      <th>105</th>\n",
       "      <td>876</td>\n",
       "      <td>foreign_legion</td>\n",
       "    </tr>\n",
       "    <tr>\n",
       "      <th>74</th>\n",
       "      <td>876</td>\n",
       "      <td>fire_department</td>\n",
       "    </tr>\n",
       "    <tr>\n",
       "      <th>49</th>\n",
       "      <td>985</td>\n",
       "      <td>fire_department</td>\n",
       "    </tr>\n",
       "    <tr>\n",
       "      <th>83</th>\n",
       "      <td>985</td>\n",
       "      <td>navy</td>\n",
       "    </tr>\n",
       "  </tbody>\n",
       "</table>\n",
       "</div>"
      ],
      "text/plain": [
       "    StudentID          Service\n",
       "3         139  fire_department\n",
       "273       139  fire_department\n",
       "268       160  fire_department\n",
       "52        160  fire_department\n",
       "53        161  fire_department\n",
       "267       161   foreign_legion\n",
       "6         168  fire_department\n",
       "265       168        air_force\n",
       "9         224  fire_department\n",
       "252       224      peace_corps\n",
       "10        233  fire_department\n",
       "251       233             navy\n",
       "14        280  fire_department\n",
       "244       280        air_force\n",
       "17        304  fire_department\n",
       "233       304             army\n",
       "230       313        air_force\n",
       "18        313  fire_department\n",
       "21        340  fire_department\n",
       "223       340             army\n",
       "22        349  fire_department\n",
       "221       349             navy\n",
       "200       458      peace_corps\n",
       "27        458  fire_department\n",
       "1          51  fire_department\n",
       "296        51          marines\n",
       "295        53   foreign_legion\n",
       "51         53  fire_department\n",
       "188       539             army\n",
       "30        539  fire_department\n",
       "181       562          marines\n",
       "32        562  fire_department\n",
       "180       568             army\n",
       "33        568  fire_department\n",
       "163       634             army\n",
       "36        634  fire_department\n",
       "141       714             army\n",
       "41        714  fire_department\n",
       "112       839   foreign_legion\n",
       "72        839  fire_department\n",
       "109       854  fire_department\n",
       "46        854  fire_department\n",
       "105       876   foreign_legion\n",
       "74        876  fire_department\n",
       "49        985  fire_department\n",
       "83        985             navy"
      ]
     },
     "execution_count": 21,
     "metadata": {},
     "output_type": "execute_result"
    }
   ],
   "source": [
    "# issues: there are duplicate rows in df2 and df5\n",
    "# check duplicate rows in df2, and sort by StudentID\n",
    "df2[df2.duplicated(subset='StudentID', keep=False)].sort_values(by='StudentID')"
   ]
  },
  {
   "cell_type": "code",
   "execution_count": 22,
   "metadata": {},
   "outputs": [
    {
     "data": {
      "text/plain": [
       "(46, 2)"
      ]
     },
     "execution_count": 22,
     "metadata": {},
     "output_type": "execute_result"
    }
   ],
   "source": [
    "# count the number of duplicate rows in df2\n",
    "df2[df2.duplicated(subset='StudentID', keep=False)].shape"
   ]
  },
  {
   "cell_type": "code",
   "execution_count": 23,
   "metadata": {},
   "outputs": [
    {
     "data": {
      "text/html": [
       "<div>\n",
       "<style scoped>\n",
       "    .dataframe tbody tr th:only-of-type {\n",
       "        vertical-align: middle;\n",
       "    }\n",
       "\n",
       "    .dataframe tbody tr th {\n",
       "        vertical-align: top;\n",
       "    }\n",
       "\n",
       "    .dataframe thead th {\n",
       "        text-align: right;\n",
       "    }\n",
       "</style>\n",
       "<table border=\"1\" class=\"dataframe\">\n",
       "  <thead>\n",
       "    <tr style=\"text-align: right;\">\n",
       "      <th></th>\n",
       "      <th>StudentID</th>\n",
       "      <th>School</th>\n",
       "      <th>Units</th>\n",
       "    </tr>\n",
       "  </thead>\n",
       "  <tbody>\n",
       "    <tr>\n",
       "      <th>0</th>\n",
       "      <td>10</td>\n",
       "      <td>ucb</td>\n",
       "      <td>2</td>\n",
       "    </tr>\n",
       "    <tr>\n",
       "      <th>1185</th>\n",
       "      <td>10</td>\n",
       "      <td>smc</td>\n",
       "      <td>1</td>\n",
       "    </tr>\n",
       "    <tr>\n",
       "      <th>255</th>\n",
       "      <td>1000</td>\n",
       "      <td>occ</td>\n",
       "      <td>9</td>\n",
       "    </tr>\n",
       "    <tr>\n",
       "      <th>253</th>\n",
       "      <td>1000</td>\n",
       "      <td>ucsd</td>\n",
       "      <td>5</td>\n",
       "    </tr>\n",
       "    <tr>\n",
       "      <th>1097</th>\n",
       "      <td>101</td>\n",
       "      <td>ucla</td>\n",
       "      <td>7</td>\n",
       "    </tr>\n",
       "    <tr>\n",
       "      <th>...</th>\n",
       "      <td>...</td>\n",
       "      <td>...</td>\n",
       "      <td>...</td>\n",
       "    </tr>\n",
       "    <tr>\n",
       "      <th>262</th>\n",
       "      <td>992</td>\n",
       "      <td>smc</td>\n",
       "      <td>11</td>\n",
       "    </tr>\n",
       "    <tr>\n",
       "      <th>254</th>\n",
       "      <td>995</td>\n",
       "      <td>ucsd</td>\n",
       "      <td>3</td>\n",
       "    </tr>\n",
       "    <tr>\n",
       "      <th>260</th>\n",
       "      <td>995</td>\n",
       "      <td>uci</td>\n",
       "      <td>9</td>\n",
       "    </tr>\n",
       "    <tr>\n",
       "      <th>257</th>\n",
       "      <td>998</td>\n",
       "      <td>smc</td>\n",
       "      <td>1</td>\n",
       "    </tr>\n",
       "    <tr>\n",
       "      <th>252</th>\n",
       "      <td>998</td>\n",
       "      <td>ucb</td>\n",
       "      <td>1</td>\n",
       "    </tr>\n",
       "  </tbody>\n",
       "</table>\n",
       "<p>468 rows × 3 columns</p>\n",
       "</div>"
      ],
      "text/plain": [
       "     StudentID School Units\n",
       "0           10    ucb     2\n",
       "1185        10    smc     1\n",
       "255       1000    occ     9\n",
       "253       1000   ucsd     5\n",
       "1097       101   ucla     7\n",
       "...        ...    ...   ...\n",
       "262        992    smc    11\n",
       "254        995   ucsd     3\n",
       "260        995    uci     9\n",
       "257        998    smc     1\n",
       "252        998    ucb     1\n",
       "\n",
       "[468 rows x 3 columns]"
      ]
     },
     "execution_count": 23,
     "metadata": {},
     "output_type": "execute_result"
    }
   ],
   "source": [
    "# check duplicate rows in df5, and sort by StudentID\n",
    "df5[df5.duplicated(subset='StudentID', keep=False)].sort_values(by='StudentID')"
   ]
  },
  {
   "cell_type": "code",
   "execution_count": 24,
   "metadata": {},
   "outputs": [
    {
     "data": {
      "text/html": [
       "<div>\n",
       "<style scoped>\n",
       "    .dataframe tbody tr th:only-of-type {\n",
       "        vertical-align: middle;\n",
       "    }\n",
       "\n",
       "    .dataframe tbody tr th {\n",
       "        vertical-align: top;\n",
       "    }\n",
       "\n",
       "    .dataframe thead th {\n",
       "        text-align: right;\n",
       "    }\n",
       "</style>\n",
       "<table border=\"1\" class=\"dataframe\">\n",
       "  <thead>\n",
       "    <tr style=\"text-align: right;\">\n",
       "      <th></th>\n",
       "      <th>StudentID</th>\n",
       "      <th>School</th>\n",
       "      <th>Units</th>\n",
       "    </tr>\n",
       "  </thead>\n",
       "  <tbody>\n",
       "  </tbody>\n",
       "</table>\n",
       "</div>"
      ],
      "text/plain": [
       "Empty DataFrame\n",
       "Columns: [StudentID, School, Units]\n",
       "Index: []"
      ]
     },
     "execution_count": 24,
     "metadata": {},
     "output_type": "execute_result"
    }
   ],
   "source": [
    "# check duplicate rows on studentid and school in df5, and sort by StudentID\n",
    "df5[df5.duplicated(subset=['StudentID', 'School'], keep=False)].sort_values(by='StudentID')"
   ]
  },
  {
   "cell_type": "code",
   "execution_count": 25,
   "metadata": {},
   "outputs": [
    {
     "data": {
      "text/plain": [
       "(468, 3)"
      ]
     },
     "execution_count": 25,
     "metadata": {},
     "output_type": "execute_result"
    }
   ],
   "source": [
    "# count the number of duplicate rows in df5\n",
    "df5[df5.duplicated(subset='StudentID', keep=False)].shape\n"
   ]
  },
  {
   "cell_type": "code",
   "execution_count": 26,
   "metadata": {},
   "outputs": [
    {
     "data": {
      "text/html": [
       "<div>\n",
       "<style scoped>\n",
       "    .dataframe tbody tr th:only-of-type {\n",
       "        vertical-align: middle;\n",
       "    }\n",
       "\n",
       "    .dataframe tbody tr th {\n",
       "        vertical-align: top;\n",
       "    }\n",
       "\n",
       "    .dataframe thead th {\n",
       "        text-align: right;\n",
       "    }\n",
       "</style>\n",
       "<table border=\"1\" class=\"dataframe\">\n",
       "  <thead>\n",
       "    <tr style=\"text-align: right;\">\n",
       "      <th></th>\n",
       "      <th>StudentID</th>\n",
       "      <th>NoPaymentDue</th>\n",
       "      <th>Service</th>\n",
       "      <th>Enlisted</th>\n",
       "      <th>Disabled</th>\n",
       "      <th>Unemployed</th>\n",
       "      <th>School</th>\n",
       "      <th>Units</th>\n",
       "      <th>Enrolled</th>\n",
       "      <th>Region</th>\n",
       "    </tr>\n",
       "  </thead>\n",
       "  <tbody>\n",
       "    <tr>\n",
       "      <th>1256</th>\n",
       "      <td>10</td>\n",
       "      <td>neg</td>\n",
       "      <td>NaN</td>\n",
       "      <td>0</td>\n",
       "      <td>0</td>\n",
       "      <td>0</td>\n",
       "      <td>ucb</td>\n",
       "      <td>2</td>\n",
       "      <td>1</td>\n",
       "      <td>4</td>\n",
       "    </tr>\n",
       "    <tr>\n",
       "      <th>1257</th>\n",
       "      <td>10</td>\n",
       "      <td>neg</td>\n",
       "      <td>NaN</td>\n",
       "      <td>0</td>\n",
       "      <td>0</td>\n",
       "      <td>0</td>\n",
       "      <td>smc</td>\n",
       "      <td>1</td>\n",
       "      <td>1</td>\n",
       "      <td>4</td>\n",
       "    </tr>\n",
       "  </tbody>\n",
       "</table>\n",
       "</div>"
      ],
      "text/plain": [
       "      StudentID NoPaymentDue Service  Enlisted  Disabled  Unemployed School   \n",
       "1256         10          neg     NaN         0         0           0    ucb  \\\n",
       "1257         10          neg     NaN         0         0           0    smc   \n",
       "\n",
       "     Units  Enrolled  Region  \n",
       "1256     2         1       4  \n",
       "1257     1         1       4  "
      ]
     },
     "execution_count": 26,
     "metadata": {},
     "output_type": "execute_result"
    }
   ],
   "source": [
    "# check the studentid=10 in df\n",
    "df[df['StudentID']==10]"
   ]
  },
  {
   "cell_type": "code",
   "execution_count": 27,
   "metadata": {},
   "outputs": [
    {
     "data": {
      "text/plain": [
       "array(['10', '1000', '101', '104', '107', '109', '111', '120', '122',\n",
       "       '130', '131', '142', '147', '150', '154', '161', '162', '169',\n",
       "       '17', '179', '18', '186', '189', '193', '20', '21', '213', '214',\n",
       "       '218', '221', '225', '227', '232', '233', '240', '241', '242',\n",
       "       '245', '250', '253', '255', '263', '267', '268', '271', '275',\n",
       "       '279', '28', '289', '290', '298', '299', '301', '308', '309', '31',\n",
       "       '314', '316', '32', '339', '343', '348', '35', '350', '359', '363',\n",
       "       '367', '369', '370', '374', '379', '382', '385', '391', '396',\n",
       "       '399', '403', '41', '411', '413', '415', '421', '43', '44', '440',\n",
       "       '441', '450', '457', '463', '47', '470', '472', '481', '486',\n",
       "       '487', '497', '498', '500', '501', '502', '505', '513', '514',\n",
       "       '518', '52', '523', '525', '528', '530', '532', '533', '535',\n",
       "       '538', '551', '552', '555', '564', '571', '574', '576', '578',\n",
       "       '583', '584', '59', '590', '595', '598', '6', '60', '602', '604',\n",
       "       '605', '606', '609', '612', '615', '619', '62', '623', '624',\n",
       "       '629', '64', '650', '658', '670', '675', '678', '68', '680', '682',\n",
       "       '69', '690', '698', '702', '710', '722', '723', '726', '735',\n",
       "       '737', '738', '740', '744', '75', '753', '769', '773', '777',\n",
       "       '778', '78', '785', '787', '791', '792', '796', '798', '8', '810',\n",
       "       '812', '816', '822', '825', '829', '832', '835', '836', '838',\n",
       "       '840', '842', '844', '845', '850', '851', '858', '860', '863',\n",
       "       '864', '87', '871', '876', '879', '888', '890', '895', '90', '900',\n",
       "       '91', '919', '923', '924', '925', '927', '931', '936', '938',\n",
       "       '942', '946', '948', '95', '953', '954', '959', '960', '961',\n",
       "       '969', '975', '978', '982', '983', '984', '991', '992', '995',\n",
       "       '998'], dtype=object)"
      ]
     },
     "execution_count": 27,
     "metadata": {},
     "output_type": "execute_result"
    }
   ],
   "source": [
    "df_school_dup = df5[df5.duplicated(subset='StudentID', keep=False)].sort_values(by='StudentID')\n",
    "# get a list of unique studentid in df_school_dup\n",
    "studentid_dup_list = df_school_dup['StudentID'].unique()\n",
    "studentid_dup_list"
   ]
  },
  {
   "cell_type": "code",
   "execution_count": 28,
   "metadata": {},
   "outputs": [
    {
     "data": {
      "text/plain": [
       "array(['139', '160', '161', '168', '224', '233', '280', '304', '313',\n",
       "       '340', '349', '458', '51', '53', '539', '562', '568', '634', '714',\n",
       "       '839', '854', '876', '985'], dtype=object)"
      ]
     },
     "execution_count": 28,
     "metadata": {},
     "output_type": "execute_result"
    }
   ],
   "source": [
    "df_dup_service = df2[df2.duplicated(subset='StudentID', keep=False)].sort_values(by='StudentID')\n",
    "# get a list of unique studentid in df_dup_service\n",
    "studentid_dup_service_list = df_dup_service['StudentID'].unique()\n",
    "studentid_dup_service_list"
   ]
  },
  {
   "cell_type": "code",
   "execution_count": 29,
   "metadata": {},
   "outputs": [
    {
     "name": "stdout",
     "output_type": "stream",
     "text": [
      "161\n",
      "233\n",
      "876\n"
     ]
    }
   ],
   "source": [
    "# check if there is any studentid in studentid_dup_list that is in studentid_dup_service_list\n",
    "for studentid in studentid_dup_list:\n",
    "    if studentid in studentid_dup_service_list:\n",
    "        print(studentid)\n",
    "\n"
   ]
  },
  {
   "cell_type": "code",
   "execution_count": 31,
   "metadata": {},
   "outputs": [
    {
     "data": {
      "text/html": [
       "<div>\n",
       "<style scoped>\n",
       "    .dataframe tbody tr th:only-of-type {\n",
       "        vertical-align: middle;\n",
       "    }\n",
       "\n",
       "    .dataframe tbody tr th {\n",
       "        vertical-align: top;\n",
       "    }\n",
       "\n",
       "    .dataframe thead th {\n",
       "        text-align: right;\n",
       "    }\n",
       "</style>\n",
       "<table border=\"1\" class=\"dataframe\">\n",
       "  <thead>\n",
       "    <tr style=\"text-align: right;\">\n",
       "      <th></th>\n",
       "      <th>StudentID</th>\n",
       "      <th>Service</th>\n",
       "    </tr>\n",
       "  </thead>\n",
       "  <tbody>\n",
       "    <tr>\n",
       "      <th>53</th>\n",
       "      <td>161</td>\n",
       "      <td>fire_department</td>\n",
       "    </tr>\n",
       "    <tr>\n",
       "      <th>267</th>\n",
       "      <td>161</td>\n",
       "      <td>foreign_legion</td>\n",
       "    </tr>\n",
       "  </tbody>\n",
       "</table>\n",
       "</div>"
      ],
      "text/plain": [
       "    StudentID          Service\n",
       "53        161  fire_department\n",
       "267       161   foreign_legion"
      ]
     },
     "execution_count": 31,
     "metadata": {},
     "output_type": "execute_result"
    }
   ],
   "source": [
    "# get the row that studentid=161 in df2\n",
    "df2[df2['StudentID']=='161']"
   ]
  },
  {
   "cell_type": "code",
   "execution_count": 32,
   "metadata": {},
   "outputs": [
    {
     "data": {
      "text/html": [
       "<div>\n",
       "<style scoped>\n",
       "    .dataframe tbody tr th:only-of-type {\n",
       "        vertical-align: middle;\n",
       "    }\n",
       "\n",
       "    .dataframe tbody tr th {\n",
       "        vertical-align: top;\n",
       "    }\n",
       "\n",
       "    .dataframe thead th {\n",
       "        text-align: right;\n",
       "    }\n",
       "</style>\n",
       "<table border=\"1\" class=\"dataframe\">\n",
       "  <thead>\n",
       "    <tr style=\"text-align: right;\">\n",
       "      <th></th>\n",
       "      <th>StudentID</th>\n",
       "      <th>School</th>\n",
       "      <th>Units</th>\n",
       "    </tr>\n",
       "  </thead>\n",
       "  <tbody>\n",
       "    <tr>\n",
       "      <th>13</th>\n",
       "      <td>161</td>\n",
       "      <td>ucsd</td>\n",
       "      <td>1</td>\n",
       "    </tr>\n",
       "    <tr>\n",
       "      <th>1045</th>\n",
       "      <td>161</td>\n",
       "      <td>smc</td>\n",
       "      <td>2</td>\n",
       "    </tr>\n",
       "  </tbody>\n",
       "</table>\n",
       "</div>"
      ],
      "text/plain": [
       "     StudentID School Units\n",
       "13         161   ucsd     1\n",
       "1045       161    smc     2"
      ]
     },
     "execution_count": 32,
     "metadata": {},
     "output_type": "execute_result"
    }
   ],
   "source": [
    "# get the row that studentid=161 in df5\n",
    "df5[df5['StudentID']=='161']"
   ]
  },
  {
   "cell_type": "code",
   "execution_count": 33,
   "metadata": {},
   "outputs": [
    {
     "data": {
      "text/html": [
       "<div>\n",
       "<style scoped>\n",
       "    .dataframe tbody tr th:only-of-type {\n",
       "        vertical-align: middle;\n",
       "    }\n",
       "\n",
       "    .dataframe tbody tr th {\n",
       "        vertical-align: top;\n",
       "    }\n",
       "\n",
       "    .dataframe thead th {\n",
       "        text-align: right;\n",
       "    }\n",
       "</style>\n",
       "<table border=\"1\" class=\"dataframe\">\n",
       "  <thead>\n",
       "    <tr style=\"text-align: right;\">\n",
       "      <th></th>\n",
       "      <th>StudentID</th>\n",
       "      <th>Service</th>\n",
       "    </tr>\n",
       "  </thead>\n",
       "  <tbody>\n",
       "    <tr>\n",
       "      <th>10</th>\n",
       "      <td>233</td>\n",
       "      <td>fire_department</td>\n",
       "    </tr>\n",
       "    <tr>\n",
       "      <th>251</th>\n",
       "      <td>233</td>\n",
       "      <td>navy</td>\n",
       "    </tr>\n",
       "  </tbody>\n",
       "</table>\n",
       "</div>"
      ],
      "text/plain": [
       "    StudentID          Service\n",
       "10        233  fire_department\n",
       "251       233             navy"
      ]
     },
     "execution_count": 33,
     "metadata": {},
     "output_type": "execute_result"
    }
   ],
   "source": [
    "# get the row that studentid=233 in df2\n",
    "df2[df2['StudentID']=='233']"
   ]
  },
  {
   "cell_type": "code",
   "execution_count": 34,
   "metadata": {},
   "outputs": [
    {
     "data": {
      "text/html": [
       "<div>\n",
       "<style scoped>\n",
       "    .dataframe tbody tr th:only-of-type {\n",
       "        vertical-align: middle;\n",
       "    }\n",
       "\n",
       "    .dataframe tbody tr th {\n",
       "        vertical-align: top;\n",
       "    }\n",
       "\n",
       "    .dataframe thead th {\n",
       "        text-align: right;\n",
       "    }\n",
       "</style>\n",
       "<table border=\"1\" class=\"dataframe\">\n",
       "  <thead>\n",
       "    <tr style=\"text-align: right;\">\n",
       "      <th></th>\n",
       "      <th>StudentID</th>\n",
       "      <th>School</th>\n",
       "      <th>Units</th>\n",
       "    </tr>\n",
       "  </thead>\n",
       "  <tbody>\n",
       "    <tr>\n",
       "      <th>128</th>\n",
       "      <td>233</td>\n",
       "      <td>ucsd</td>\n",
       "      <td>2</td>\n",
       "    </tr>\n",
       "    <tr>\n",
       "      <th>978</th>\n",
       "      <td>233</td>\n",
       "      <td>uci</td>\n",
       "      <td>8</td>\n",
       "    </tr>\n",
       "  </tbody>\n",
       "</table>\n",
       "</div>"
      ],
      "text/plain": [
       "    StudentID School Units\n",
       "128       233   ucsd     2\n",
       "978       233    uci     8"
      ]
     },
     "execution_count": 34,
     "metadata": {},
     "output_type": "execute_result"
    }
   ],
   "source": [
    "# get the row that studentid=233 in df5\n",
    "df5[df5['StudentID']=='233']"
   ]
  },
  {
   "cell_type": "code",
   "execution_count": 35,
   "metadata": {},
   "outputs": [
    {
     "data": {
      "text/html": [
       "<div>\n",
       "<style scoped>\n",
       "    .dataframe tbody tr th:only-of-type {\n",
       "        vertical-align: middle;\n",
       "    }\n",
       "\n",
       "    .dataframe tbody tr th {\n",
       "        vertical-align: top;\n",
       "    }\n",
       "\n",
       "    .dataframe thead th {\n",
       "        text-align: right;\n",
       "    }\n",
       "</style>\n",
       "<table border=\"1\" class=\"dataframe\">\n",
       "  <thead>\n",
       "    <tr style=\"text-align: right;\">\n",
       "      <th></th>\n",
       "      <th>StudentID</th>\n",
       "      <th>Service</th>\n",
       "    </tr>\n",
       "  </thead>\n",
       "  <tbody>\n",
       "    <tr>\n",
       "      <th>74</th>\n",
       "      <td>876</td>\n",
       "      <td>fire_department</td>\n",
       "    </tr>\n",
       "    <tr>\n",
       "      <th>105</th>\n",
       "      <td>876</td>\n",
       "      <td>foreign_legion</td>\n",
       "    </tr>\n",
       "  </tbody>\n",
       "</table>\n",
       "</div>"
      ],
      "text/plain": [
       "    StudentID          Service\n",
       "74        876  fire_department\n",
       "105       876   foreign_legion"
      ]
     },
     "execution_count": 35,
     "metadata": {},
     "output_type": "execute_result"
    }
   ],
   "source": [
    "# get the row that studentid=876 in df2\n",
    "df2[df2['StudentID']=='876']"
   ]
  },
  {
   "cell_type": "code",
   "execution_count": 36,
   "metadata": {},
   "outputs": [
    {
     "data": {
      "text/html": [
       "<div>\n",
       "<style scoped>\n",
       "    .dataframe tbody tr th:only-of-type {\n",
       "        vertical-align: middle;\n",
       "    }\n",
       "\n",
       "    .dataframe tbody tr th {\n",
       "        vertical-align: top;\n",
       "    }\n",
       "\n",
       "    .dataframe thead th {\n",
       "        text-align: right;\n",
       "    }\n",
       "</style>\n",
       "<table border=\"1\" class=\"dataframe\">\n",
       "  <thead>\n",
       "    <tr style=\"text-align: right;\">\n",
       "      <th></th>\n",
       "      <th>StudentID</th>\n",
       "      <th>School</th>\n",
       "      <th>Units</th>\n",
       "    </tr>\n",
       "  </thead>\n",
       "  <tbody>\n",
       "    <tr>\n",
       "      <th>71</th>\n",
       "      <td>876</td>\n",
       "      <td>ucsd</td>\n",
       "      <td>2</td>\n",
       "    </tr>\n",
       "    <tr>\n",
       "      <th>369</th>\n",
       "      <td>876</td>\n",
       "      <td>uci</td>\n",
       "      <td>4</td>\n",
       "    </tr>\n",
       "  </tbody>\n",
       "</table>\n",
       "</div>"
      ],
      "text/plain": [
       "    StudentID School Units\n",
       "71        876   ucsd     2\n",
       "369       876    uci     4"
      ]
     },
     "execution_count": 36,
     "metadata": {},
     "output_type": "execute_result"
    }
   ],
   "source": [
    "# get the row that studentid=876 in df5\n",
    "df5[df5['StudentID']=='876']"
   ]
  }
 ],
 "metadata": {
  "kernelspec": {
   "display_name": "Python 3",
   "language": "python",
   "name": "python3"
  },
  "language_info": {
   "codemirror_mode": {
    "name": "ipython",
    "version": 3
   },
   "file_extension": ".py",
   "mimetype": "text/x-python",
   "name": "python",
   "nbconvert_exporter": "python",
   "pygments_lexer": "ipython3",
   "version": "3.10.10"
  },
  "orig_nbformat": 4
 },
 "nbformat": 4,
 "nbformat_minor": 2
}
