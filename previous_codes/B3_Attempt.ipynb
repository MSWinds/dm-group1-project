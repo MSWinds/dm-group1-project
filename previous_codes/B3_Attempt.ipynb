{
  "nbformat": 4,
  "nbformat_minor": 0,
  "metadata": {
    "colab": {
      "provenance": []
    },
    "kernelspec": {
      "name": "python3",
      "display_name": "Python 3"
    },
    "language_info": {
      "name": "python"
    }
  },
  "cells": [
    {
      "cell_type": "markdown",
      "source": [
        "# B3\n",
        "Partition the continuous variable LOGSALAR into three intervals: (0, Mean –\n",
        "0.25*StdDev), (Mean – 0.25*StdDev, Mean + 0.25*StdDev], (Mean + 0.25*StdDev, +].\n",
        "Given this partition, generate the best’ Decision Tree. You should consider the use of\n",
        "derived variables.\n"
      ],
      "metadata": {
        "id": "IR2hVxq9pGKb"
      }
    },
    {
      "cell_type": "markdown",
      "source": [
        "# Load Data"
      ],
      "metadata": {
        "id": "mnN8wZZNpOOv"
      }
    },
    {
      "cell_type": "code",
      "execution_count": 1,
      "metadata": {
        "id": "OoiJNdmhl3Kf"
      },
      "outputs": [],
      "source": [
        "import warnings\n",
        "warnings.filterwarnings(\"ignore\", category=FutureWarning)\n",
        "\n",
        "import re\n",
        "import numpy as np\n",
        "import pandas as pd\n",
        "pd.set_option('display.max_columns', None) \n",
        "import matplotlib.pyplot as plt\n",
        "import seaborn as sns\n",
        "from scipy.stats import zscore\n",
        "\n",
        "from sklearn.svm import SVC\n",
        "from sklearn import tree\n",
        "from sklearn.tree import DecisionTreeClassifier\n",
        "from sklearn.neighbors import KNeighborsClassifier\n",
        "from sklearn.ensemble import RandomForestClassifier\n",
        "from sklearn.naive_bayes import MultinomialNB\n",
        "from sklearn.linear_model import LogisticRegression\n",
        "from sklearn.metrics import accuracy_score, precision_score, recall_score, f1_score, roc_auc_score, classification_report, confusion_matrix\n",
        "from sklearn.model_selection import train_test_split, GridSearchCV, cross_val_score\n",
        "from sklearn.preprocessing import MinMaxScaler\n",
        "from keras.models import Sequential\n",
        "from keras.layers import Dense, Dropout\n",
        "from keras.wrappers.scikit_learn import KerasClassifier\n"
      ]
    },
    {
      "cell_type": "code",
      "source": [
        "from google.colab import drive\n",
        "drive.mount ('/content/drive')\n",
        "file_path = '/content/drive/MyDrive/IST340_Final_Project/'"
      ],
      "metadata": {
        "colab": {
          "base_uri": "https://localhost:8080/"
        },
        "id": "QcEVIeWtpzPt",
        "outputId": "733fc962-15d1-48ee-f31b-34797a9d0fa0"
      },
      "execution_count": 5,
      "outputs": [
        {
          "output_type": "stream",
          "name": "stdout",
          "text": [
            "Drive already mounted at /content/drive; to attempt to forcibly remount, call drive.mount(\"/content/drive\", force_remount=True).\n"
          ]
        }
      ]
    },
    {
      "cell_type": "code",
      "source": [
        "df = pd.read_csv(file_path + 'TaskB.csv')\n",
        "df_input=df.copy()\n",
        "df_input.head()"
      ],
      "metadata": {
        "colab": {
          "base_uri": "https://localhost:8080/",
          "height": 270
        },
        "id": "7U8ljp-Vq3rr",
        "outputId": "8643d5b1-9316-41e6-a581-ab51c6268f66"
      },
      "execution_count": 33,
      "outputs": [
        {
          "output_type": "execute_result",
          "data": {
            "text/plain": [
              "   no_atbat  no_hits  no_home  no_runs  no_rbi  no_bb  yr_major  cr_atbat  \\\n",
              "0     293.0     66.0      1.0     30.0    29.0   14.0       1.0     293.0   \n",
              "1     315.0     81.0      7.0     24.0    38.0   39.0      14.0    3449.0   \n",
              "2     479.0    130.0     18.0     66.0    72.0   76.0       3.0    1624.0   \n",
              "3     496.0    141.0     20.0     65.0    78.0   37.0      11.0    5628.0   \n",
              "4     321.0     87.0     10.0     39.0    42.0   30.0       2.0     396.0   \n",
              "\n",
              "   cr_hits  cr_home  cr_runs  cr_rbi  cr_bb  no_outs  no_assts  no_error  \\\n",
              "0     66.0      1.0     30.0    29.0   14.0    446.0      33.0      20.0   \n",
              "1    835.0     69.0    321.0   414.0  375.0    632.0      43.0      10.0   \n",
              "2    457.0     63.0    224.0   266.0  263.0    880.0      82.0      14.0   \n",
              "3   1575.0    225.0    828.0   838.0  354.0    200.0      11.0       3.0   \n",
              "4    101.0     12.0     48.0    46.0   33.0    805.0      40.0       4.0   \n",
              "\n",
              "   logsalar  ranking  position_copy  \n",
              "0  4.347245     11.0            2.0  \n",
              "1  6.163315      2.0            2.0  \n",
              "2  6.173786     25.0            3.0  \n",
              "3  6.214608     14.0            9.0  \n",
              "4  4.516339     14.0            3.0  "
            ],
            "text/html": [
              "\n",
              "  <div id=\"df-f8b3f9ad-3028-4234-92f6-d34bcb6761ff\">\n",
              "    <div class=\"colab-df-container\">\n",
              "      <div>\n",
              "<style scoped>\n",
              "    .dataframe tbody tr th:only-of-type {\n",
              "        vertical-align: middle;\n",
              "    }\n",
              "\n",
              "    .dataframe tbody tr th {\n",
              "        vertical-align: top;\n",
              "    }\n",
              "\n",
              "    .dataframe thead th {\n",
              "        text-align: right;\n",
              "    }\n",
              "</style>\n",
              "<table border=\"1\" class=\"dataframe\">\n",
              "  <thead>\n",
              "    <tr style=\"text-align: right;\">\n",
              "      <th></th>\n",
              "      <th>no_atbat</th>\n",
              "      <th>no_hits</th>\n",
              "      <th>no_home</th>\n",
              "      <th>no_runs</th>\n",
              "      <th>no_rbi</th>\n",
              "      <th>no_bb</th>\n",
              "      <th>yr_major</th>\n",
              "      <th>cr_atbat</th>\n",
              "      <th>cr_hits</th>\n",
              "      <th>cr_home</th>\n",
              "      <th>cr_runs</th>\n",
              "      <th>cr_rbi</th>\n",
              "      <th>cr_bb</th>\n",
              "      <th>no_outs</th>\n",
              "      <th>no_assts</th>\n",
              "      <th>no_error</th>\n",
              "      <th>logsalar</th>\n",
              "      <th>ranking</th>\n",
              "      <th>position_copy</th>\n",
              "    </tr>\n",
              "  </thead>\n",
              "  <tbody>\n",
              "    <tr>\n",
              "      <th>0</th>\n",
              "      <td>293.0</td>\n",
              "      <td>66.0</td>\n",
              "      <td>1.0</td>\n",
              "      <td>30.0</td>\n",
              "      <td>29.0</td>\n",
              "      <td>14.0</td>\n",
              "      <td>1.0</td>\n",
              "      <td>293.0</td>\n",
              "      <td>66.0</td>\n",
              "      <td>1.0</td>\n",
              "      <td>30.0</td>\n",
              "      <td>29.0</td>\n",
              "      <td>14.0</td>\n",
              "      <td>446.0</td>\n",
              "      <td>33.0</td>\n",
              "      <td>20.0</td>\n",
              "      <td>4.347245</td>\n",
              "      <td>11.0</td>\n",
              "      <td>2.0</td>\n",
              "    </tr>\n",
              "    <tr>\n",
              "      <th>1</th>\n",
              "      <td>315.0</td>\n",
              "      <td>81.0</td>\n",
              "      <td>7.0</td>\n",
              "      <td>24.0</td>\n",
              "      <td>38.0</td>\n",
              "      <td>39.0</td>\n",
              "      <td>14.0</td>\n",
              "      <td>3449.0</td>\n",
              "      <td>835.0</td>\n",
              "      <td>69.0</td>\n",
              "      <td>321.0</td>\n",
              "      <td>414.0</td>\n",
              "      <td>375.0</td>\n",
              "      <td>632.0</td>\n",
              "      <td>43.0</td>\n",
              "      <td>10.0</td>\n",
              "      <td>6.163315</td>\n",
              "      <td>2.0</td>\n",
              "      <td>2.0</td>\n",
              "    </tr>\n",
              "    <tr>\n",
              "      <th>2</th>\n",
              "      <td>479.0</td>\n",
              "      <td>130.0</td>\n",
              "      <td>18.0</td>\n",
              "      <td>66.0</td>\n",
              "      <td>72.0</td>\n",
              "      <td>76.0</td>\n",
              "      <td>3.0</td>\n",
              "      <td>1624.0</td>\n",
              "      <td>457.0</td>\n",
              "      <td>63.0</td>\n",
              "      <td>224.0</td>\n",
              "      <td>266.0</td>\n",
              "      <td>263.0</td>\n",
              "      <td>880.0</td>\n",
              "      <td>82.0</td>\n",
              "      <td>14.0</td>\n",
              "      <td>6.173786</td>\n",
              "      <td>25.0</td>\n",
              "      <td>3.0</td>\n",
              "    </tr>\n",
              "    <tr>\n",
              "      <th>3</th>\n",
              "      <td>496.0</td>\n",
              "      <td>141.0</td>\n",
              "      <td>20.0</td>\n",
              "      <td>65.0</td>\n",
              "      <td>78.0</td>\n",
              "      <td>37.0</td>\n",
              "      <td>11.0</td>\n",
              "      <td>5628.0</td>\n",
              "      <td>1575.0</td>\n",
              "      <td>225.0</td>\n",
              "      <td>828.0</td>\n",
              "      <td>838.0</td>\n",
              "      <td>354.0</td>\n",
              "      <td>200.0</td>\n",
              "      <td>11.0</td>\n",
              "      <td>3.0</td>\n",
              "      <td>6.214608</td>\n",
              "      <td>14.0</td>\n",
              "      <td>9.0</td>\n",
              "    </tr>\n",
              "    <tr>\n",
              "      <th>4</th>\n",
              "      <td>321.0</td>\n",
              "      <td>87.0</td>\n",
              "      <td>10.0</td>\n",
              "      <td>39.0</td>\n",
              "      <td>42.0</td>\n",
              "      <td>30.0</td>\n",
              "      <td>2.0</td>\n",
              "      <td>396.0</td>\n",
              "      <td>101.0</td>\n",
              "      <td>12.0</td>\n",
              "      <td>48.0</td>\n",
              "      <td>46.0</td>\n",
              "      <td>33.0</td>\n",
              "      <td>805.0</td>\n",
              "      <td>40.0</td>\n",
              "      <td>4.0</td>\n",
              "      <td>4.516339</td>\n",
              "      <td>14.0</td>\n",
              "      <td>3.0</td>\n",
              "    </tr>\n",
              "  </tbody>\n",
              "</table>\n",
              "</div>\n",
              "      <button class=\"colab-df-convert\" onclick=\"convertToInteractive('df-f8b3f9ad-3028-4234-92f6-d34bcb6761ff')\"\n",
              "              title=\"Convert this dataframe to an interactive table.\"\n",
              "              style=\"display:none;\">\n",
              "        \n",
              "  <svg xmlns=\"http://www.w3.org/2000/svg\" height=\"24px\"viewBox=\"0 0 24 24\"\n",
              "       width=\"24px\">\n",
              "    <path d=\"M0 0h24v24H0V0z\" fill=\"none\"/>\n",
              "    <path d=\"M18.56 5.44l.94 2.06.94-2.06 2.06-.94-2.06-.94-.94-2.06-.94 2.06-2.06.94zm-11 1L8.5 8.5l.94-2.06 2.06-.94-2.06-.94L8.5 2.5l-.94 2.06-2.06.94zm10 10l.94 2.06.94-2.06 2.06-.94-2.06-.94-.94-2.06-.94 2.06-2.06.94z\"/><path d=\"M17.41 7.96l-1.37-1.37c-.4-.4-.92-.59-1.43-.59-.52 0-1.04.2-1.43.59L10.3 9.45l-7.72 7.72c-.78.78-.78 2.05 0 2.83L4 21.41c.39.39.9.59 1.41.59.51 0 1.02-.2 1.41-.59l7.78-7.78 2.81-2.81c.8-.78.8-2.07 0-2.86zM5.41 20L4 18.59l7.72-7.72 1.47 1.35L5.41 20z\"/>\n",
              "  </svg>\n",
              "      </button>\n",
              "      \n",
              "  <style>\n",
              "    .colab-df-container {\n",
              "      display:flex;\n",
              "      flex-wrap:wrap;\n",
              "      gap: 12px;\n",
              "    }\n",
              "\n",
              "    .colab-df-convert {\n",
              "      background-color: #E8F0FE;\n",
              "      border: none;\n",
              "      border-radius: 50%;\n",
              "      cursor: pointer;\n",
              "      display: none;\n",
              "      fill: #1967D2;\n",
              "      height: 32px;\n",
              "      padding: 0 0 0 0;\n",
              "      width: 32px;\n",
              "    }\n",
              "\n",
              "    .colab-df-convert:hover {\n",
              "      background-color: #E2EBFA;\n",
              "      box-shadow: 0px 1px 2px rgba(60, 64, 67, 0.3), 0px 1px 3px 1px rgba(60, 64, 67, 0.15);\n",
              "      fill: #174EA6;\n",
              "    }\n",
              "\n",
              "    [theme=dark] .colab-df-convert {\n",
              "      background-color: #3B4455;\n",
              "      fill: #D2E3FC;\n",
              "    }\n",
              "\n",
              "    [theme=dark] .colab-df-convert:hover {\n",
              "      background-color: #434B5C;\n",
              "      box-shadow: 0px 1px 3px 1px rgba(0, 0, 0, 0.15);\n",
              "      filter: drop-shadow(0px 1px 2px rgba(0, 0, 0, 0.3));\n",
              "      fill: #FFFFFF;\n",
              "    }\n",
              "  </style>\n",
              "\n",
              "      <script>\n",
              "        const buttonEl =\n",
              "          document.querySelector('#df-f8b3f9ad-3028-4234-92f6-d34bcb6761ff button.colab-df-convert');\n",
              "        buttonEl.style.display =\n",
              "          google.colab.kernel.accessAllowed ? 'block' : 'none';\n",
              "\n",
              "        async function convertToInteractive(key) {\n",
              "          const element = document.querySelector('#df-f8b3f9ad-3028-4234-92f6-d34bcb6761ff');\n",
              "          const dataTable =\n",
              "            await google.colab.kernel.invokeFunction('convertToInteractive',\n",
              "                                                     [key], {});\n",
              "          if (!dataTable) return;\n",
              "\n",
              "          const docLinkHtml = 'Like what you see? Visit the ' +\n",
              "            '<a target=\"_blank\" href=https://colab.research.google.com/notebooks/data_table.ipynb>data table notebook</a>'\n",
              "            + ' to learn more about interactive tables.';\n",
              "          element.innerHTML = '';\n",
              "          dataTable['output_type'] = 'display_data';\n",
              "          await google.colab.output.renderOutput(dataTable, element);\n",
              "          const docLink = document.createElement('div');\n",
              "          docLink.innerHTML = docLinkHtml;\n",
              "          element.appendChild(docLink);\n",
              "        }\n",
              "      </script>\n",
              "    </div>\n",
              "  </div>\n",
              "  "
            ]
          },
          "metadata": {},
          "execution_count": 33
        }
      ]
    },
    {
      "cell_type": "code",
      "source": [
        "mean = df['logsalar'].mean()\n",
        "std = df['logsalar'].std()"
      ],
      "metadata": {
        "id": "dbhMQDg3uwcw"
      },
      "execution_count": 34,
      "outputs": []
    },
    {
      "cell_type": "markdown",
      "source": [
        "# Generate Test Design"
      ],
      "metadata": {
        "id": "i9aChH14uFMJ"
      }
    },
    {
      "cell_type": "markdown",
      "source": [
        "## Data Splitting"
      ],
      "metadata": {
        "id": "mM0LLM7-uHhs"
      }
    },
    {
      "cell_type": "code",
      "source": [
        "partitions = [0, mean - 0.25 * std, mean + 0.25 * std, float('inf')]\n",
        "categories = ['0', '1', '2']\n",
        "df['logsalar_split'] = pd.cut(df['logsalar'], bins=partitions, labels=categories, include_lowest= True)"
      ],
      "metadata": {
        "id": "4uxuSW-_ul5Z"
      },
      "execution_count": 35,
      "outputs": []
    },
    {
      "cell_type": "code",
      "source": [
        "# Split the data into training and testing sets - 80% training, 20% testing\n",
        "X = df.drop('logsalar_split', axis=1)\n",
        "y = df['logsalar_split']\n",
        "X_train, X_test, y_train, y_test = train_test_split(X, y, test_size=0.2, random_state=666)\n",
        "\n",
        "print(\"The length of training set:\", len(X_train))\n",
        "print(\"The length of testing  set:\", len(y_test))"
      ],
      "metadata": {
        "colab": {
          "base_uri": "https://localhost:8080/"
        },
        "id": "sx5oOgpts3De",
        "outputId": "a81198e5-eba8-4fe4-e6af-ba77af0fb915"
      },
      "execution_count": 36,
      "outputs": [
        {
          "output_type": "stream",
          "name": "stdout",
          "text": [
            "The length of training set: 257\n",
            "The length of testing  set: 65\n"
          ]
        }
      ]
    },
    {
      "cell_type": "markdown",
      "source": [
        "# Decision Tree"
      ],
      "metadata": {
        "id": "_MaK72Ac1y3e"
      }
    },
    {
      "cell_type": "code",
      "source": [
        "# Define the hyperparameter grid\n",
        "param_grid = {\n",
        "    'max_depth': [3, 5, 7, 9, 11, None],\n",
        "    'min_samples_split': [2, 5, 10, 20],\n",
        "    'min_samples_leaf': [1, 2, 5, 10, int(len(X_train)*0.03), int(len(X_train)*0.06)],\n",
        "    'criterion': ['gini', 'entropy']}\n",
        "\n",
        "# Create the decision tree classifier model\n",
        "dt_model = DecisionTreeClassifier(random_state=666)\n",
        "\n",
        "# Create the grid search object\n",
        "grid_search = GridSearchCV(estimator=dt_model, param_grid=param_grid, scoring='accuracy', cv=5, n_jobs=-1)\n",
        "\n",
        "# Fit the grid search object to the training data\n",
        "grid_search.fit(X_train, y_train)\n",
        "\n",
        "# Display the best hyperparameters found\n",
        "print(\"Best Hyperparameters:\")\n",
        "print(grid_search.best_params_)\n",
        "\n",
        "# Get the best model from grid search\n",
        "best_dt_model = grid_search.best_estimator_"
      ],
      "metadata": {
        "colab": {
          "base_uri": "https://localhost:8080/"
        },
        "id": "gKhbWUXk1006",
        "outputId": "9bd5ca00-cf87-4654-ffd7-118bdd093cf7"
      },
      "execution_count": 37,
      "outputs": [
        {
          "output_type": "stream",
          "name": "stdout",
          "text": [
            "Best Hyperparameters:\n",
            "{'criterion': 'gini', 'max_depth': 3, 'min_samples_leaf': 1, 'min_samples_split': 2}\n"
          ]
        }
      ]
    },
    {
      "cell_type": "code",
      "source": [
        "# Create the decision tree classifier model\n",
        "dt_model = DecisionTreeClassifier(random_state=666, **grid_search.best_params_)\n",
        "\n",
        "# Train the model\n",
        "dt_model.fit(X_train, y_train)\n",
        "\n",
        "# Make predictions on the test set\n",
        "y_pred_dt = dt_model.predict(X_test)\n",
        "\n",
        "# Display the confusion matrix, classification report, and accuracy score\n",
        "print(\"Confusion Matrix:\")\n",
        "print(confusion_matrix(y_test, y_pred_dt))\n",
        "print(\"\\nClassification Report:\")\n",
        "print(classification_report(y_test, y_pred_dt))\n",
        "print(\"\\nAccuracy Score:\")\n",
        "print(accuracy_score(y_test, y_pred_dt))\n"
      ],
      "metadata": {
        "colab": {
          "base_uri": "https://localhost:8080/"
        },
        "id": "m6YLOYp712E5",
        "outputId": "3f469b8f-6015-40ea-9ea5-d47764eafdd3"
      },
      "execution_count": 38,
      "outputs": [
        {
          "output_type": "stream",
          "name": "stdout",
          "text": [
            "Confusion Matrix:\n",
            "[[27  0  0]\n",
            " [ 0 10  0]\n",
            " [ 0  0 28]]\n",
            "\n",
            "Classification Report:\n",
            "              precision    recall  f1-score   support\n",
            "\n",
            "           0       1.00      1.00      1.00        27\n",
            "           1       1.00      1.00      1.00        10\n",
            "           2       1.00      1.00      1.00        28\n",
            "\n",
            "    accuracy                           1.00        65\n",
            "   macro avg       1.00      1.00      1.00        65\n",
            "weighted avg       1.00      1.00      1.00        65\n",
            "\n",
            "\n",
            "Accuracy Score:\n",
            "1.0\n"
          ]
        }
      ]
    }
  ]
}