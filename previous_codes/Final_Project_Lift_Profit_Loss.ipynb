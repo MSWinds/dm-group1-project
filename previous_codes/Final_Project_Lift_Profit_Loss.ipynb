{
  "cells": [
    {
      "cell_type": "markdown",
      "metadata": {
        "id": "eF5zirSrga9X"
      },
      "source": [
        "# **Final Project**\n",
        "\n",
        "IST340 Knowledge Discovery and Data Mining\n",
        "\n",
        "Group 1: **Yuri Yu**, **Irma Covarrubias**, **Patrick Watkins**"
      ]
    },
    {
      "cell_type": "markdown",
      "metadata": {
        "id": "v3lnJzXdga9c"
      },
      "source": [
        "## Load required libraries"
      ]
    },
    {
      "cell_type": "code",
      "source": [
        "!pip install kds"
      ],
      "metadata": {
        "colab": {
          "base_uri": "https://localhost:8080/"
        },
        "id": "QiT7dpavnzIG",
        "outputId": "a8bce1de-64d6-40b9-9d2d-184a317d5597"
      },
      "execution_count": 1,
      "outputs": [
        {
          "output_type": "stream",
          "name": "stdout",
          "text": [
            "Looking in indexes: https://pypi.org/simple, https://us-python.pkg.dev/colab-wheels/public/simple/\n",
            "Collecting kds\n",
            "  Downloading kds-0.1.3-py3-none-any.whl (7.4 kB)\n",
            "Requirement already satisfied: pandas>=0.20.0 in /usr/local/lib/python3.10/dist-packages (from kds) (1.5.3)\n",
            "Requirement already satisfied: numpy>=1.12.0 in /usr/local/lib/python3.10/dist-packages (from kds) (1.22.4)\n",
            "Requirement already satisfied: matplotlib>=1.4.0 in /usr/local/lib/python3.10/dist-packages (from kds) (3.7.1)\n",
            "Requirement already satisfied: cycler>=0.10 in /usr/local/lib/python3.10/dist-packages (from matplotlib>=1.4.0->kds) (0.11.0)\n",
            "Requirement already satisfied: pillow>=6.2.0 in /usr/local/lib/python3.10/dist-packages (from matplotlib>=1.4.0->kds) (8.4.0)\n",
            "Requirement already satisfied: pyparsing>=2.3.1 in /usr/local/lib/python3.10/dist-packages (from matplotlib>=1.4.0->kds) (3.0.9)\n",
            "Requirement already satisfied: contourpy>=1.0.1 in /usr/local/lib/python3.10/dist-packages (from matplotlib>=1.4.0->kds) (1.0.7)\n",
            "Requirement already satisfied: python-dateutil>=2.7 in /usr/local/lib/python3.10/dist-packages (from matplotlib>=1.4.0->kds) (2.8.2)\n",
            "Requirement already satisfied: packaging>=20.0 in /usr/local/lib/python3.10/dist-packages (from matplotlib>=1.4.0->kds) (23.1)\n",
            "Requirement already satisfied: kiwisolver>=1.0.1 in /usr/local/lib/python3.10/dist-packages (from matplotlib>=1.4.0->kds) (1.4.4)\n",
            "Requirement already satisfied: fonttools>=4.22.0 in /usr/local/lib/python3.10/dist-packages (from matplotlib>=1.4.0->kds) (4.39.3)\n",
            "Requirement already satisfied: pytz>=2020.1 in /usr/local/lib/python3.10/dist-packages (from pandas>=0.20.0->kds) (2022.7.1)\n",
            "Requirement already satisfied: six>=1.5 in /usr/local/lib/python3.10/dist-packages (from python-dateutil>=2.7->matplotlib>=1.4.0->kds) (1.16.0)\n",
            "Installing collected packages: kds\n",
            "Successfully installed kds-0.1.3\n"
          ]
        }
      ]
    },
    {
      "cell_type": "code",
      "execution_count": 2,
      "metadata": {
        "id": "kuXKcfuuga9c"
      },
      "outputs": [],
      "source": [
        "import re\n",
        "import pandas as pd \n",
        "pd.set_option('display.max_columns', None) \n",
        "import numpy as np\n",
        "import math\n",
        "import matplotlib.pyplot as plt\n",
        "import seaborn as sns\n",
        "from scipy.stats import zscore\n",
        "\n",
        "from sklearn.svm import SVC\n",
        "from sklearn.tree import DecisionTreeClassifier\n",
        "from sklearn.neighbors import KNeighborsClassifier\n",
        "from sklearn.ensemble import RandomForestClassifier\n",
        "from sklearn.naive_bayes import MultinomialNB\n",
        "from sklearn.linear_model import LogisticRegression\n",
        "from sklearn.metrics import accuracy_score, precision_score, recall_score, f1_score, roc_auc_score, classification_report, confusion_matrix\n",
        "from sklearn.model_selection import train_test_split, GridSearchCV, cross_val_score\n",
        "from keras.models import Sequential\n",
        "from keras.layers import Dense, Dropout\n",
        "from keras.wrappers.scikit_learn import KerasClassifier\n",
        "\n",
        "import xgboost as xgb\n",
        "from tensorflow import keras\n",
        "from sklearn.ensemble import RandomForestClassifier\n",
        "from sklearn.model_selection import RandomizedSearchCV\n",
        "from scipy.stats import randint\n",
        "\n",
        "import kds\n",
        "\n",
        "import warnings\n",
        "warnings.filterwarnings(\"ignore\")"
      ]
    },
    {
      "cell_type": "markdown",
      "metadata": {
        "id": "0mq0t5Jaga9e"
      },
      "source": [
        "## Working directory"
      ]
    },
    {
      "cell_type": "code",
      "execution_count": 3,
      "metadata": {
        "colab": {
          "base_uri": "https://localhost:8080/"
        },
        "id": "7PCZBK8Sga9e",
        "outputId": "9cf1f8a0-514b-46bc-b468-93e36322b82a"
      },
      "outputs": [
        {
          "output_type": "stream",
          "name": "stdout",
          "text": [
            "Mounted at /content/drive\n"
          ]
        }
      ],
      "source": [
        "from google.colab import drive\n",
        "drive.mount('/content/drive')"
      ]
    },
    {
      "cell_type": "code",
      "source": [
        "# File path set and defined to Google Drive where Merged Data File is stored\n",
        "file_path = '/content/drive/MyDrive/IST340_Spring_Lab/'"
      ],
      "metadata": {
        "id": "tF3tqsO-lsfh"
      },
      "execution_count": 4,
      "outputs": []
    },
    {
      "cell_type": "markdown",
      "source": [
        "## Load Merged Data Set"
      ],
      "metadata": {
        "id": "TOeWyn0Kl7EX"
      }
    },
    {
      "cell_type": "code",
      "source": [
        "df = pd.read_csv(file_path + 'merged_raw_data.csv')\n",
        "df.head(10)"
      ],
      "metadata": {
        "colab": {
          "base_uri": "https://localhost:8080/",
          "height": 427
        },
        "id": "gMSaKormmFaF",
        "outputId": "7ae3460d-2200-4820-bd1f-20b2b8aa5e15"
      },
      "execution_count": 5,
      "outputs": [
        {
          "output_type": "execute_result",
          "data": {
            "text/plain": [
              "   StudentID NoPaymentDue  Enlisted  Enrolled          Service    School  \\\n",
              "0       1000          pos         1         1        air_force  ucsd;occ   \n",
              "1        999          pos         1         1  fire_department       smc   \n",
              "2        998          pos         0         1              NaN   ucb;smc   \n",
              "3        996          pos         1         1             navy       smc   \n",
              "4        994          pos         0         1              NaN       uci   \n",
              "5        993          pos         1         1  fire_department       ucb   \n",
              "6        992          pos         1         1          marines  ucsd;smc   \n",
              "7        990          pos         0         1              NaN       smc   \n",
              "8        989          pos         0         1              NaN      ucla   \n",
              "9        987          pos         0         1              NaN       occ   \n",
              "\n",
              "   Units  Disabled  Unemployed Country  Region  Marital_Status Gender  \\\n",
              "0   14.0       NaN  Unemployed     USA       1               1    NaN   \n",
              "1    4.0       NaN         NaN     USA       2               1    NaN   \n",
              "2    2.0       NaN         NaN     USA       5               0    NaN   \n",
              "3   11.0       NaN  Unemployed     USA       3               1    NaN   \n",
              "4    9.0       NaN         NaN     USA       3               1   Male   \n",
              "5    6.0       NaN  Unemployed     USA       1               0    NaN   \n",
              "6   12.0  Disabled         NaN     USA       3               0   Male   \n",
              "7   10.0       NaN         NaN     USA       3               1    NaN   \n",
              "8   12.0       NaN         NaN     USA       3               0    NaN   \n",
              "9   12.0       NaN         NaN     USA       3               1   Male   \n",
              "\n",
              "   Longest_Absence_From_School  Filed_For_Bankruptcy  LongTermPlanningScore  \\\n",
              "0                            7                   NaN               0.843289   \n",
              "1                            4  Filed_For_Bankruptcy               0.662624   \n",
              "2                            1  Filed_For_Bankruptcy               0.994214   \n",
              "3                            7                   NaN               0.889289   \n",
              "4                            1                   NaN               0.860842   \n",
              "5                            4                   NaN               0.809411   \n",
              "6                            7                   NaN               0.941271   \n",
              "7                            4                   NaN               0.553502   \n",
              "8                            9                   NaN               0.693413   \n",
              "9                            5                   NaN               0.824561   \n",
              "\n",
              "  DecisionStyle  PowerOrientedScore  CommunityOrientedScore  Family_Income  \\\n",
              "0     Emotional            0.808111                0.569837       54206.48   \n",
              "1    Analytical            1.000000                0.004697       65238.16   \n",
              "2    Analytical            0.855013                0.441015       67495.76   \n",
              "3     Emotional            0.780557                0.301059       83784.09   \n",
              "4     Emotional            0.829191                0.467755      104457.91   \n",
              "5     Emotional            0.767735                0.044467       99421.84   \n",
              "6     Emotional            0.806621                0.552842       85207.17   \n",
              "7     Emotional            0.561046                0.477419       76995.90   \n",
              "8     Emotional            0.632762                0.632761       58579.26   \n",
              "9     Emotional            0.785739                0.785739      100373.38   \n",
              "\n",
              "  Parent_Education_Level  Credit_Score_Raw  Credit_Score_AgeAdj  Loan_Amount  \\\n",
              "0             Bachelor's          0.639912             0.808111        16823   \n",
              "1            HS or Lower          0.989682             0.597839        16943   \n",
              "2              Doctorate          0.777285             0.441015         6178   \n",
              "3            HS or Lower          0.612762             0.780557        17924   \n",
              "4              Doctorate          0.585587             0.829191        19106   \n",
              "5             Bachelor's          0.473408             0.767735        17135   \n",
              "6            HS or Lower          0.655463             0.806621        18260   \n",
              "7             Bachelor's          0.510042             0.477419        19735   \n",
              "8            HS or Lower          0.525709             0.632762        19899   \n",
              "9              Doctorate          0.501800             0.785739        19587   \n",
              "\n",
              "   HS_Math  HS_Science  HS_English  \n",
              "0     10.0        10.0         9.0  \n",
              "1      9.0         9.0         6.0  \n",
              "2      8.0         9.0         5.0  \n",
              "3      9.0        10.0        10.0  \n",
              "4      9.0         9.0         4.0  \n",
              "5      7.0         8.0         7.0  \n",
              "6      9.0        10.0         8.0  \n",
              "7      6.0         6.0         7.0  \n",
              "8     10.0        10.0         8.0  \n",
              "9      7.0         8.0         8.0  "
            ],
            "text/html": [
              "\n",
              "  <div id=\"df-c89e8051-2513-4fc7-a973-70f9be7c3a6b\">\n",
              "    <div class=\"colab-df-container\">\n",
              "      <div>\n",
              "<style scoped>\n",
              "    .dataframe tbody tr th:only-of-type {\n",
              "        vertical-align: middle;\n",
              "    }\n",
              "\n",
              "    .dataframe tbody tr th {\n",
              "        vertical-align: top;\n",
              "    }\n",
              "\n",
              "    .dataframe thead th {\n",
              "        text-align: right;\n",
              "    }\n",
              "</style>\n",
              "<table border=\"1\" class=\"dataframe\">\n",
              "  <thead>\n",
              "    <tr style=\"text-align: right;\">\n",
              "      <th></th>\n",
              "      <th>StudentID</th>\n",
              "      <th>NoPaymentDue</th>\n",
              "      <th>Enlisted</th>\n",
              "      <th>Enrolled</th>\n",
              "      <th>Service</th>\n",
              "      <th>School</th>\n",
              "      <th>Units</th>\n",
              "      <th>Disabled</th>\n",
              "      <th>Unemployed</th>\n",
              "      <th>Country</th>\n",
              "      <th>Region</th>\n",
              "      <th>Marital_Status</th>\n",
              "      <th>Gender</th>\n",
              "      <th>Longest_Absence_From_School</th>\n",
              "      <th>Filed_For_Bankruptcy</th>\n",
              "      <th>LongTermPlanningScore</th>\n",
              "      <th>DecisionStyle</th>\n",
              "      <th>PowerOrientedScore</th>\n",
              "      <th>CommunityOrientedScore</th>\n",
              "      <th>Family_Income</th>\n",
              "      <th>Parent_Education_Level</th>\n",
              "      <th>Credit_Score_Raw</th>\n",
              "      <th>Credit_Score_AgeAdj</th>\n",
              "      <th>Loan_Amount</th>\n",
              "      <th>HS_Math</th>\n",
              "      <th>HS_Science</th>\n",
              "      <th>HS_English</th>\n",
              "    </tr>\n",
              "  </thead>\n",
              "  <tbody>\n",
              "    <tr>\n",
              "      <th>0</th>\n",
              "      <td>1000</td>\n",
              "      <td>pos</td>\n",
              "      <td>1</td>\n",
              "      <td>1</td>\n",
              "      <td>air_force</td>\n",
              "      <td>ucsd;occ</td>\n",
              "      <td>14.0</td>\n",
              "      <td>NaN</td>\n",
              "      <td>Unemployed</td>\n",
              "      <td>USA</td>\n",
              "      <td>1</td>\n",
              "      <td>1</td>\n",
              "      <td>NaN</td>\n",
              "      <td>7</td>\n",
              "      <td>NaN</td>\n",
              "      <td>0.843289</td>\n",
              "      <td>Emotional</td>\n",
              "      <td>0.808111</td>\n",
              "      <td>0.569837</td>\n",
              "      <td>54206.48</td>\n",
              "      <td>Bachelor's</td>\n",
              "      <td>0.639912</td>\n",
              "      <td>0.808111</td>\n",
              "      <td>16823</td>\n",
              "      <td>10.0</td>\n",
              "      <td>10.0</td>\n",
              "      <td>9.0</td>\n",
              "    </tr>\n",
              "    <tr>\n",
              "      <th>1</th>\n",
              "      <td>999</td>\n",
              "      <td>pos</td>\n",
              "      <td>1</td>\n",
              "      <td>1</td>\n",
              "      <td>fire_department</td>\n",
              "      <td>smc</td>\n",
              "      <td>4.0</td>\n",
              "      <td>NaN</td>\n",
              "      <td>NaN</td>\n",
              "      <td>USA</td>\n",
              "      <td>2</td>\n",
              "      <td>1</td>\n",
              "      <td>NaN</td>\n",
              "      <td>4</td>\n",
              "      <td>Filed_For_Bankruptcy</td>\n",
              "      <td>0.662624</td>\n",
              "      <td>Analytical</td>\n",
              "      <td>1.000000</td>\n",
              "      <td>0.004697</td>\n",
              "      <td>65238.16</td>\n",
              "      <td>HS or Lower</td>\n",
              "      <td>0.989682</td>\n",
              "      <td>0.597839</td>\n",
              "      <td>16943</td>\n",
              "      <td>9.0</td>\n",
              "      <td>9.0</td>\n",
              "      <td>6.0</td>\n",
              "    </tr>\n",
              "    <tr>\n",
              "      <th>2</th>\n",
              "      <td>998</td>\n",
              "      <td>pos</td>\n",
              "      <td>0</td>\n",
              "      <td>1</td>\n",
              "      <td>NaN</td>\n",
              "      <td>ucb;smc</td>\n",
              "      <td>2.0</td>\n",
              "      <td>NaN</td>\n",
              "      <td>NaN</td>\n",
              "      <td>USA</td>\n",
              "      <td>5</td>\n",
              "      <td>0</td>\n",
              "      <td>NaN</td>\n",
              "      <td>1</td>\n",
              "      <td>Filed_For_Bankruptcy</td>\n",
              "      <td>0.994214</td>\n",
              "      <td>Analytical</td>\n",
              "      <td>0.855013</td>\n",
              "      <td>0.441015</td>\n",
              "      <td>67495.76</td>\n",
              "      <td>Doctorate</td>\n",
              "      <td>0.777285</td>\n",
              "      <td>0.441015</td>\n",
              "      <td>6178</td>\n",
              "      <td>8.0</td>\n",
              "      <td>9.0</td>\n",
              "      <td>5.0</td>\n",
              "    </tr>\n",
              "    <tr>\n",
              "      <th>3</th>\n",
              "      <td>996</td>\n",
              "      <td>pos</td>\n",
              "      <td>1</td>\n",
              "      <td>1</td>\n",
              "      <td>navy</td>\n",
              "      <td>smc</td>\n",
              "      <td>11.0</td>\n",
              "      <td>NaN</td>\n",
              "      <td>Unemployed</td>\n",
              "      <td>USA</td>\n",
              "      <td>3</td>\n",
              "      <td>1</td>\n",
              "      <td>NaN</td>\n",
              "      <td>7</td>\n",
              "      <td>NaN</td>\n",
              "      <td>0.889289</td>\n",
              "      <td>Emotional</td>\n",
              "      <td>0.780557</td>\n",
              "      <td>0.301059</td>\n",
              "      <td>83784.09</td>\n",
              "      <td>HS or Lower</td>\n",
              "      <td>0.612762</td>\n",
              "      <td>0.780557</td>\n",
              "      <td>17924</td>\n",
              "      <td>9.0</td>\n",
              "      <td>10.0</td>\n",
              "      <td>10.0</td>\n",
              "    </tr>\n",
              "    <tr>\n",
              "      <th>4</th>\n",
              "      <td>994</td>\n",
              "      <td>pos</td>\n",
              "      <td>0</td>\n",
              "      <td>1</td>\n",
              "      <td>NaN</td>\n",
              "      <td>uci</td>\n",
              "      <td>9.0</td>\n",
              "      <td>NaN</td>\n",
              "      <td>NaN</td>\n",
              "      <td>USA</td>\n",
              "      <td>3</td>\n",
              "      <td>1</td>\n",
              "      <td>Male</td>\n",
              "      <td>1</td>\n",
              "      <td>NaN</td>\n",
              "      <td>0.860842</td>\n",
              "      <td>Emotional</td>\n",
              "      <td>0.829191</td>\n",
              "      <td>0.467755</td>\n",
              "      <td>104457.91</td>\n",
              "      <td>Doctorate</td>\n",
              "      <td>0.585587</td>\n",
              "      <td>0.829191</td>\n",
              "      <td>19106</td>\n",
              "      <td>9.0</td>\n",
              "      <td>9.0</td>\n",
              "      <td>4.0</td>\n",
              "    </tr>\n",
              "    <tr>\n",
              "      <th>5</th>\n",
              "      <td>993</td>\n",
              "      <td>pos</td>\n",
              "      <td>1</td>\n",
              "      <td>1</td>\n",
              "      <td>fire_department</td>\n",
              "      <td>ucb</td>\n",
              "      <td>6.0</td>\n",
              "      <td>NaN</td>\n",
              "      <td>Unemployed</td>\n",
              "      <td>USA</td>\n",
              "      <td>1</td>\n",
              "      <td>0</td>\n",
              "      <td>NaN</td>\n",
              "      <td>4</td>\n",
              "      <td>NaN</td>\n",
              "      <td>0.809411</td>\n",
              "      <td>Emotional</td>\n",
              "      <td>0.767735</td>\n",
              "      <td>0.044467</td>\n",
              "      <td>99421.84</td>\n",
              "      <td>Bachelor's</td>\n",
              "      <td>0.473408</td>\n",
              "      <td>0.767735</td>\n",
              "      <td>17135</td>\n",
              "      <td>7.0</td>\n",
              "      <td>8.0</td>\n",
              "      <td>7.0</td>\n",
              "    </tr>\n",
              "    <tr>\n",
              "      <th>6</th>\n",
              "      <td>992</td>\n",
              "      <td>pos</td>\n",
              "      <td>1</td>\n",
              "      <td>1</td>\n",
              "      <td>marines</td>\n",
              "      <td>ucsd;smc</td>\n",
              "      <td>12.0</td>\n",
              "      <td>Disabled</td>\n",
              "      <td>NaN</td>\n",
              "      <td>USA</td>\n",
              "      <td>3</td>\n",
              "      <td>0</td>\n",
              "      <td>Male</td>\n",
              "      <td>7</td>\n",
              "      <td>NaN</td>\n",
              "      <td>0.941271</td>\n",
              "      <td>Emotional</td>\n",
              "      <td>0.806621</td>\n",
              "      <td>0.552842</td>\n",
              "      <td>85207.17</td>\n",
              "      <td>HS or Lower</td>\n",
              "      <td>0.655463</td>\n",
              "      <td>0.806621</td>\n",
              "      <td>18260</td>\n",
              "      <td>9.0</td>\n",
              "      <td>10.0</td>\n",
              "      <td>8.0</td>\n",
              "    </tr>\n",
              "    <tr>\n",
              "      <th>7</th>\n",
              "      <td>990</td>\n",
              "      <td>pos</td>\n",
              "      <td>0</td>\n",
              "      <td>1</td>\n",
              "      <td>NaN</td>\n",
              "      <td>smc</td>\n",
              "      <td>10.0</td>\n",
              "      <td>NaN</td>\n",
              "      <td>NaN</td>\n",
              "      <td>USA</td>\n",
              "      <td>3</td>\n",
              "      <td>1</td>\n",
              "      <td>NaN</td>\n",
              "      <td>4</td>\n",
              "      <td>NaN</td>\n",
              "      <td>0.553502</td>\n",
              "      <td>Emotional</td>\n",
              "      <td>0.561046</td>\n",
              "      <td>0.477419</td>\n",
              "      <td>76995.90</td>\n",
              "      <td>Bachelor's</td>\n",
              "      <td>0.510042</td>\n",
              "      <td>0.477419</td>\n",
              "      <td>19735</td>\n",
              "      <td>6.0</td>\n",
              "      <td>6.0</td>\n",
              "      <td>7.0</td>\n",
              "    </tr>\n",
              "    <tr>\n",
              "      <th>8</th>\n",
              "      <td>989</td>\n",
              "      <td>pos</td>\n",
              "      <td>0</td>\n",
              "      <td>1</td>\n",
              "      <td>NaN</td>\n",
              "      <td>ucla</td>\n",
              "      <td>12.0</td>\n",
              "      <td>NaN</td>\n",
              "      <td>NaN</td>\n",
              "      <td>USA</td>\n",
              "      <td>3</td>\n",
              "      <td>0</td>\n",
              "      <td>NaN</td>\n",
              "      <td>9</td>\n",
              "      <td>NaN</td>\n",
              "      <td>0.693413</td>\n",
              "      <td>Emotional</td>\n",
              "      <td>0.632762</td>\n",
              "      <td>0.632761</td>\n",
              "      <td>58579.26</td>\n",
              "      <td>HS or Lower</td>\n",
              "      <td>0.525709</td>\n",
              "      <td>0.632762</td>\n",
              "      <td>19899</td>\n",
              "      <td>10.0</td>\n",
              "      <td>10.0</td>\n",
              "      <td>8.0</td>\n",
              "    </tr>\n",
              "    <tr>\n",
              "      <th>9</th>\n",
              "      <td>987</td>\n",
              "      <td>pos</td>\n",
              "      <td>0</td>\n",
              "      <td>1</td>\n",
              "      <td>NaN</td>\n",
              "      <td>occ</td>\n",
              "      <td>12.0</td>\n",
              "      <td>NaN</td>\n",
              "      <td>NaN</td>\n",
              "      <td>USA</td>\n",
              "      <td>3</td>\n",
              "      <td>1</td>\n",
              "      <td>Male</td>\n",
              "      <td>5</td>\n",
              "      <td>NaN</td>\n",
              "      <td>0.824561</td>\n",
              "      <td>Emotional</td>\n",
              "      <td>0.785739</td>\n",
              "      <td>0.785739</td>\n",
              "      <td>100373.38</td>\n",
              "      <td>Doctorate</td>\n",
              "      <td>0.501800</td>\n",
              "      <td>0.785739</td>\n",
              "      <td>19587</td>\n",
              "      <td>7.0</td>\n",
              "      <td>8.0</td>\n",
              "      <td>8.0</td>\n",
              "    </tr>\n",
              "  </tbody>\n",
              "</table>\n",
              "</div>\n",
              "      <button class=\"colab-df-convert\" onclick=\"convertToInteractive('df-c89e8051-2513-4fc7-a973-70f9be7c3a6b')\"\n",
              "              title=\"Convert this dataframe to an interactive table.\"\n",
              "              style=\"display:none;\">\n",
              "        \n",
              "  <svg xmlns=\"http://www.w3.org/2000/svg\" height=\"24px\"viewBox=\"0 0 24 24\"\n",
              "       width=\"24px\">\n",
              "    <path d=\"M0 0h24v24H0V0z\" fill=\"none\"/>\n",
              "    <path d=\"M18.56 5.44l.94 2.06.94-2.06 2.06-.94-2.06-.94-.94-2.06-.94 2.06-2.06.94zm-11 1L8.5 8.5l.94-2.06 2.06-.94-2.06-.94L8.5 2.5l-.94 2.06-2.06.94zm10 10l.94 2.06.94-2.06 2.06-.94-2.06-.94-.94-2.06-.94 2.06-2.06.94z\"/><path d=\"M17.41 7.96l-1.37-1.37c-.4-.4-.92-.59-1.43-.59-.52 0-1.04.2-1.43.59L10.3 9.45l-7.72 7.72c-.78.78-.78 2.05 0 2.83L4 21.41c.39.39.9.59 1.41.59.51 0 1.02-.2 1.41-.59l7.78-7.78 2.81-2.81c.8-.78.8-2.07 0-2.86zM5.41 20L4 18.59l7.72-7.72 1.47 1.35L5.41 20z\"/>\n",
              "  </svg>\n",
              "      </button>\n",
              "      \n",
              "  <style>\n",
              "    .colab-df-container {\n",
              "      display:flex;\n",
              "      flex-wrap:wrap;\n",
              "      gap: 12px;\n",
              "    }\n",
              "\n",
              "    .colab-df-convert {\n",
              "      background-color: #E8F0FE;\n",
              "      border: none;\n",
              "      border-radius: 50%;\n",
              "      cursor: pointer;\n",
              "      display: none;\n",
              "      fill: #1967D2;\n",
              "      height: 32px;\n",
              "      padding: 0 0 0 0;\n",
              "      width: 32px;\n",
              "    }\n",
              "\n",
              "    .colab-df-convert:hover {\n",
              "      background-color: #E2EBFA;\n",
              "      box-shadow: 0px 1px 2px rgba(60, 64, 67, 0.3), 0px 1px 3px 1px rgba(60, 64, 67, 0.15);\n",
              "      fill: #174EA6;\n",
              "    }\n",
              "\n",
              "    [theme=dark] .colab-df-convert {\n",
              "      background-color: #3B4455;\n",
              "      fill: #D2E3FC;\n",
              "    }\n",
              "\n",
              "    [theme=dark] .colab-df-convert:hover {\n",
              "      background-color: #434B5C;\n",
              "      box-shadow: 0px 1px 3px 1px rgba(0, 0, 0, 0.15);\n",
              "      filter: drop-shadow(0px 1px 2px rgba(0, 0, 0, 0.3));\n",
              "      fill: #FFFFFF;\n",
              "    }\n",
              "  </style>\n",
              "\n",
              "      <script>\n",
              "        const buttonEl =\n",
              "          document.querySelector('#df-c89e8051-2513-4fc7-a973-70f9be7c3a6b button.colab-df-convert');\n",
              "        buttonEl.style.display =\n",
              "          google.colab.kernel.accessAllowed ? 'block' : 'none';\n",
              "\n",
              "        async function convertToInteractive(key) {\n",
              "          const element = document.querySelector('#df-c89e8051-2513-4fc7-a973-70f9be7c3a6b');\n",
              "          const dataTable =\n",
              "            await google.colab.kernel.invokeFunction('convertToInteractive',\n",
              "                                                     [key], {});\n",
              "          if (!dataTable) return;\n",
              "\n",
              "          const docLinkHtml = 'Like what you see? Visit the ' +\n",
              "            '<a target=\"_blank\" href=https://colab.research.google.com/notebooks/data_table.ipynb>data table notebook</a>'\n",
              "            + ' to learn more about interactive tables.';\n",
              "          element.innerHTML = '';\n",
              "          dataTable['output_type'] = 'display_data';\n",
              "          await google.colab.output.renderOutput(dataTable, element);\n",
              "          const docLink = document.createElement('div');\n",
              "          docLink.innerHTML = docLinkHtml;\n",
              "          element.appendChild(docLink);\n",
              "        }\n",
              "      </script>\n",
              "    </div>\n",
              "  </div>\n",
              "  "
            ]
          },
          "metadata": {},
          "execution_count": 5
        }
      ]
    },
    {
      "cell_type": "markdown",
      "metadata": {
        "id": "brrntEXGga9u"
      },
      "source": [
        "## Data Preparation"
      ]
    },
    {
      "cell_type": "code",
      "execution_count": 6,
      "metadata": {
        "id": "5Js0L4wQga9u"
      },
      "outputs": [],
      "source": [
        "# Create a copy of the data frame to the data prep\n",
        "df_agg = df.copy()"
      ]
    },
    {
      "cell_type": "markdown",
      "metadata": {
        "id": "203Glxw0ga9u"
      },
      "source": [
        "### Select Data"
      ]
    },
    {
      "cell_type": "markdown",
      "metadata": {
        "id": "T0RYFioBga9u"
      },
      "source": [
        "#### Drop Useless Variables"
      ]
    },
    {
      "cell_type": "code",
      "execution_count": 7,
      "metadata": {
        "colab": {
          "base_uri": "https://localhost:8080/"
        },
        "id": "L5dsuVDgga9u",
        "outputId": "8232dbc0-daa2-42a5-c268-2b9c62cc9c4a"
      },
      "outputs": [
        {
          "output_type": "stream",
          "name": "stdout",
          "text": [
            "Index(['NoPaymentDue', 'Enlisted', 'Enrolled', 'Service', 'School', 'Units',\n",
            "       'Disabled', 'Unemployed', 'Region', 'Marital_Status', 'Gender',\n",
            "       'Longest_Absence_From_School', 'Filed_For_Bankruptcy',\n",
            "       'LongTermPlanningScore', 'DecisionStyle', 'PowerOrientedScore',\n",
            "       'CommunityOrientedScore', 'Family_Income', 'Parent_Education_Level',\n",
            "       'Credit_Score_Raw', 'Credit_Score_AgeAdj', 'Loan_Amount', 'HS_Math',\n",
            "       'HS_Science', 'HS_English'],\n",
            "      dtype='object')\n"
          ]
        }
      ],
      "source": [
        "# StudentID is a unique identifier, and thus, useless for modeling, so we'll drop this variable as well.\n",
        "# USA accounts for most of the records and 1 record is Belize, if we drop Belize, we are left with USA which is useless for modeling, so we will drop Country variable\n",
        "df_agg.drop(['StudentID', 'Country'], axis=1, inplace=True)\n",
        "print(df_agg.columns)"
      ]
    },
    {
      "cell_type": "code",
      "execution_count": 8,
      "metadata": {
        "colab": {
          "base_uri": "https://localhost:8080/"
        },
        "id": "f9dyQS8Tga9v",
        "outputId": "4dd14a16-3a99-47f0-a96e-465410f13920"
      },
      "outputs": [
        {
          "output_type": "execute_result",
          "data": {
            "text/plain": [
              "1    545\n",
              "0    454\n",
              "Name: Marital_Status, dtype: int64"
            ]
          },
          "metadata": {},
          "execution_count": 8
        }
      ],
      "source": [
        "# Marital_Status has a value of 2 which is only 1 record. Per the business, we can drop this record since its not single or married.\n",
        "df_agg = df_agg[df_agg['Marital_Status'] != 2]\n",
        "df_agg['Marital_Status'].value_counts()"
      ]
    },
    {
      "cell_type": "code",
      "execution_count": 9,
      "metadata": {
        "colab": {
          "base_uri": "https://localhost:8080/"
        },
        "id": "v76Wo2Z1ga9v",
        "outputId": "5e5eef45-2feb-4ac4-de83-0ef72663aaa3"
      },
      "outputs": [
        {
          "output_type": "execute_result",
          "data": {
            "text/plain": [
              "Doctorate            303\n",
              "Bachelor's           301\n",
              "HS or Lower          284\n",
              "Master's             107\n",
              "VERY HS or Lower       2\n",
              " VERY HS or Lower      1\n",
              "Name: Parent_Education_Level, dtype: int64"
            ]
          },
          "metadata": {},
          "execution_count": 9
        }
      ],
      "source": [
        "# Parent_Education_Level also has a value as \"GREAT\" for only 1 record. Per the business, we can drop it.\n",
        "df_agg = df_agg[df_agg['Parent_Education_Level'] != 'GREAT']\n",
        "df_agg['Parent_Education_Level'].value_counts()"
      ]
    },
    {
      "cell_type": "markdown",
      "metadata": {
        "id": "qL-0QdBNga9v"
      },
      "source": [
        "### Clean Data"
      ]
    },
    {
      "cell_type": "markdown",
      "metadata": {
        "id": "w5WGJI2Mga9v"
      },
      "source": [
        "#### Group Data "
      ]
    },
    {
      "cell_type": "code",
      "execution_count": 10,
      "metadata": {
        "colab": {
          "base_uri": "https://localhost:8080/"
        },
        "id": "A9tgPsVYga9v",
        "outputId": "d4913ce4-6f77-41ed-94c4-e48325a3785d"
      },
      "outputs": [
        {
          "output_type": "execute_result",
          "data": {
            "text/plain": [
              "Doctorate      303\n",
              "Bachelor's     301\n",
              "HS or Lower    287\n",
              "Master's       107\n",
              "Name: Parent_Education_Level, dtype: int64"
            ]
          },
          "metadata": {},
          "execution_count": 10
        }
      ],
      "source": [
        "# We will group 'HS or lower' and 'VERY HS or Lower' values together\n",
        "df_agg['Parent_Education_Level'] = df_agg['Parent_Education_Level'].apply(lambda x: 'HS or Lower' if x == ' VERY HS or Lower' else x)\n",
        "df_agg['Parent_Education_Level'] = df_agg['Parent_Education_Level'].apply(lambda x: 'HS or Lower' if x == 'VERY HS or Lower' else x)\n",
        "df_agg['Parent_Education_Level'].value_counts()\n",
        "# We will use ordinal encoding"
      ]
    },
    {
      "cell_type": "code",
      "execution_count": 11,
      "metadata": {
        "colab": {
          "base_uri": "https://localhost:8080/"
        },
        "id": "QXeR8oZ7ga9v",
        "outputId": "28f506ac-51c2-48b2-9204-6bee91339d30"
      },
      "outputs": [
        {
          "output_type": "execute_result",
          "data": {
            "text/plain": [
              "1    862\n",
              "0    136\n",
              "Name: Loan_Amount, dtype: int64"
            ]
          },
          "metadata": {},
          "execution_count": 11
        }
      ],
      "source": [
        "# Since 'Loan_Amount' has many outliers that rougly form a group, we will group the data into two categorical groups\n",
        "# If the Loan_Amount is less than 12000, we will group it into 0, otherwise, we will group it into 1\n",
        "df_agg['Loan_Amount'] = df_agg['Loan_Amount'].apply(lambda x: 0 if x < 12000 else 1)\n",
        "\n",
        "df_agg['Loan_Amount'].value_counts() # 1 = high loan group and 0 = low loan group"
      ]
    },
    {
      "cell_type": "markdown",
      "metadata": {
        "id": "YyjNUPhQga9v"
      },
      "source": [
        "#### Missing value imputation with a constant value\n",
        "\n",
        "Here, we will replace the missing values with a constant value that does not appear in the dataset."
      ]
    },
    {
      "cell_type": "code",
      "execution_count": 12,
      "metadata": {
        "id": "beTn2ZR5ga9v"
      },
      "outputs": [],
      "source": [
        "# Replace the missing values in the 'Units' column with 0\n",
        "df_agg['Units'].fillna(0, inplace = True)"
      ]
    },
    {
      "cell_type": "code",
      "execution_count": 13,
      "metadata": {
        "id": "zgVQcmxuga9v"
      },
      "outputs": [],
      "source": [
        "# Disabled: 1, Missing Values: 0\n",
        "df_agg['Disabled'] = df_agg['Disabled'].apply(lambda x: 1 if pd.notnull(x) else 0)"
      ]
    },
    {
      "cell_type": "code",
      "execution_count": 14,
      "metadata": {
        "id": "KMgwHg-uga9v"
      },
      "outputs": [],
      "source": [
        "# Unemployed: 1; Missing Values: 0\n",
        "df_agg['Unemployed'] = df_agg['Unemployed'].apply(lambda x: 1 if pd.notnull(x) else 0)"
      ]
    },
    {
      "cell_type": "code",
      "execution_count": 15,
      "metadata": {
        "id": "7HyOAwRlga9v"
      },
      "outputs": [],
      "source": [
        "# Gender: Male= 1, Female = 0 (Missing Values)\n",
        "df_agg['Gender'] = df_agg['Gender'].apply(lambda x: 1 if pd.notnull(x) else 0)"
      ]
    },
    {
      "cell_type": "code",
      "execution_count": 16,
      "metadata": {
        "id": "_tc-nw58ga9v"
      },
      "outputs": [],
      "source": [
        "# Bankruptcy: Yes = 1, No = 0 (Missing Values)\n",
        "df_agg['Filed_For_Bankruptcy'] = df_agg['Filed_For_Bankruptcy'].apply(lambda x: 1 if pd.notnull(x) else 0)"
      ]
    },
    {
      "cell_type": "markdown",
      "metadata": {
        "id": "I20QTiSqga9w"
      },
      "source": [
        "#### Imputation using Median"
      ]
    },
    {
      "cell_type": "code",
      "execution_count": 17,
      "metadata": {
        "id": "0ukgJax2ga9w"
      },
      "outputs": [],
      "source": [
        "# With 1.6% missing values in HS_English because the data right-skewed, we will replace the missing values using the median imputation method\n",
        "df_agg['HS_English'].fillna(df_agg['HS_English'].median(), inplace=True) # Median = 8.0 so that we don't have to worry about the rounding float into integer"
      ]
    },
    {
      "cell_type": "markdown",
      "metadata": {
        "id": "0E1B2ZSYga9w"
      },
      "source": [
        "### Format Data "
      ]
    },
    {
      "cell_type": "markdown",
      "metadata": {
        "id": "6_9qSznPga9w"
      },
      "source": [
        "Ordinal Encoding of the Data"
      ]
    },
    {
      "cell_type": "code",
      "execution_count": 18,
      "metadata": {
        "colab": {
          "base_uri": "https://localhost:8080/"
        },
        "id": "gXGjoewLga9w",
        "outputId": "7dc85e5d-dfc9-49bc-d321-81b694efb7bb"
      },
      "outputs": [
        {
          "output_type": "execute_result",
          "data": {
            "text/plain": [
              "Doctorate      303\n",
              "Bachelor's     301\n",
              "HS or Lower    287\n",
              "Master's       107\n",
              "Name: Parent_Education_Level, dtype: int64"
            ]
          },
          "metadata": {},
          "execution_count": 18
        }
      ],
      "source": [
        "df_agg['Parent_Education_Level'].value_counts()"
      ]
    },
    {
      "cell_type": "code",
      "execution_count": 19,
      "metadata": {
        "colab": {
          "base_uri": "https://localhost:8080/"
        },
        "id": "fDPk2_mfga9w",
        "outputId": "c317c1df-69a5-4c4f-af6e-93c1ccb5856a"
      },
      "outputs": [
        {
          "output_type": "execute_result",
          "data": {
            "text/plain": [
              "3    303\n",
              "1    301\n",
              "0    287\n",
              "2    107\n",
              "Name: Parent_Education_Level, dtype: int64"
            ]
          },
          "metadata": {},
          "execution_count": 19
        }
      ],
      "source": [
        "# Ordinal Encoding for Parent_Education_Level: HS or Lower > Bachelor's > Master's > Doctorate\n",
        "df_agg['Parent_Education_Level'] = df_agg['Parent_Education_Level'].map({'HS or Lower': 0, 'Bachelor\\'s': 1, 'Master\\'s': 2, 'Doctorate': 3})\n",
        "df_agg['Parent_Education_Level'].value_counts()"
      ]
    },
    {
      "cell_type": "code",
      "execution_count": 20,
      "metadata": {
        "colab": {
          "base_uri": "https://localhost:8080/"
        },
        "id": "vgDEhiPLga9w",
        "outputId": "81f37b2c-b97f-4b47-cf71-3896fe09f231"
      },
      "outputs": [
        {
          "output_type": "execute_result",
          "data": {
            "text/plain": [
              "4    119\n",
              "5    109\n",
              "3    104\n",
              "0    100\n",
              "7     99\n",
              "2     96\n",
              "6     95\n",
              "1     93\n",
              "8     93\n",
              "9     90\n",
              "Name: Longest_Absence_From_School, dtype: int64"
            ]
          },
          "metadata": {},
          "execution_count": 20
        }
      ],
      "source": [
        "# Convert the Longest_Absence_From_School variable from object to numeric\n",
        "df_agg['Longest_Absence_From_School'] = df_agg['Longest_Absence_From_School'].astype('int64')\n",
        "\n",
        "df_agg['Longest_Absence_From_School'].value_counts()"
      ]
    },
    {
      "cell_type": "markdown",
      "metadata": {
        "id": "WPazglCnga9w"
      },
      "source": [
        "#### Binary Encoding"
      ]
    },
    {
      "cell_type": "code",
      "execution_count": 21,
      "metadata": {
        "colab": {
          "base_uri": "https://localhost:8080/"
        },
        "id": "5jU7MlYUga9w",
        "outputId": "54517195-260b-424c-e882-4c86b207e40f"
      },
      "outputs": [
        {
          "output_type": "execute_result",
          "data": {
            "text/plain": [
              "Emotional     912\n",
              "Analytical     86\n",
              "Name: DecisionStyle, dtype: int64"
            ]
          },
          "metadata": {},
          "execution_count": 21
        }
      ],
      "source": [
        "df_agg['DecisionStyle'].value_counts()"
      ]
    },
    {
      "cell_type": "code",
      "execution_count": 22,
      "metadata": {
        "colab": {
          "base_uri": "https://localhost:8080/"
        },
        "id": "h6ccq4RYga9w",
        "outputId": "53b41dfc-c059-4ee4-ab3e-592761faed5a"
      },
      "outputs": [
        {
          "output_type": "execute_result",
          "data": {
            "text/plain": [
              "1    912\n",
              "0     86\n",
              "Name: DecisionStyle, dtype: int64"
            ]
          },
          "metadata": {},
          "execution_count": 22
        }
      ],
      "source": [
        "# Utilize binary encoding for the DecisionStyle variable in case we need to use some models that require numeric data\n",
        "df_agg['DecisionStyle'] = df_agg['DecisionStyle'].map({'Analytical': 0, 'Emotional': 1})\n",
        "\n",
        "df_agg['DecisionStyle'].value_counts()"
      ]
    },
    {
      "cell_type": "markdown",
      "metadata": {
        "id": "OSOHsShiga9w"
      },
      "source": [
        "#### Normalize the Data"
      ]
    },
    {
      "cell_type": "code",
      "execution_count": 23,
      "metadata": {
        "id": "dMK0JpEzga9x"
      },
      "outputs": [],
      "source": [
        "from sklearn.preprocessing import MinMaxScaler\n",
        "\n",
        "scaler = MinMaxScaler()\n",
        "df_agg['Family_Income_normalized'] = scaler.fit_transform(df_agg[['Family_Income']])\n",
        "\n",
        "# drop the original Family_Income column\n",
        "df_agg.drop(['Family_Income'], axis=1, inplace=True)"
      ]
    },
    {
      "cell_type": "code",
      "execution_count": 24,
      "metadata": {
        "colab": {
          "base_uri": "https://localhost:8080/",
          "height": 156
        },
        "id": "aucTHTbdga9x",
        "outputId": "edaa1a24-bf51-4ebd-dcda-8424b99b1b23"
      },
      "outputs": [
        {
          "output_type": "display_data",
          "data": {
            "text/plain": [
              "0    0.239471\n",
              "1    0.377550\n",
              "2    0.405808\n",
              "3    0.609683\n",
              "4    0.868450\n",
              "5    0.805415\n",
              "Name: Family_Income_normalized, dtype: float64"
            ]
          },
          "metadata": {}
        },
        {
          "output_type": "display_data",
          "data": {
            "text/plain": [
              "(998, 25)"
            ]
          },
          "metadata": {}
        }
      ],
      "source": [
        "display(df_agg.loc[:5,'Family_Income_normalized'], df_agg.shape)"
      ]
    },
    {
      "cell_type": "markdown",
      "metadata": {
        "id": "Xp1AnNX8ga9x"
      },
      "source": [
        "### Construct Data"
      ]
    },
    {
      "cell_type": "code",
      "execution_count": 25,
      "metadata": {
        "colab": {
          "base_uri": "https://localhost:8080/",
          "height": 223
        },
        "id": "Pet4_5FTga9x",
        "outputId": "6539fb23-db52-4de4-c177-0efbdff71302"
      },
      "outputs": [
        {
          "output_type": "display_data",
          "data": {
            "text/plain": [
              "   School_smc  School_ucb  School_uci  School_ucla  School_ucsd\n",
              "0           0           0           0            0            1\n",
              "1           1           0           0            0            0\n",
              "2           1           1           0            0            0\n",
              "3           1           0           0            0            0\n",
              "4           0           0           1            0            0"
            ],
            "text/html": [
              "\n",
              "  <div id=\"df-649a90c9-58c1-4c68-9214-53275bbde2a5\">\n",
              "    <div class=\"colab-df-container\">\n",
              "      <div>\n",
              "<style scoped>\n",
              "    .dataframe tbody tr th:only-of-type {\n",
              "        vertical-align: middle;\n",
              "    }\n",
              "\n",
              "    .dataframe tbody tr th {\n",
              "        vertical-align: top;\n",
              "    }\n",
              "\n",
              "    .dataframe thead th {\n",
              "        text-align: right;\n",
              "    }\n",
              "</style>\n",
              "<table border=\"1\" class=\"dataframe\">\n",
              "  <thead>\n",
              "    <tr style=\"text-align: right;\">\n",
              "      <th></th>\n",
              "      <th>School_smc</th>\n",
              "      <th>School_ucb</th>\n",
              "      <th>School_uci</th>\n",
              "      <th>School_ucla</th>\n",
              "      <th>School_ucsd</th>\n",
              "    </tr>\n",
              "  </thead>\n",
              "  <tbody>\n",
              "    <tr>\n",
              "      <th>0</th>\n",
              "      <td>0</td>\n",
              "      <td>0</td>\n",
              "      <td>0</td>\n",
              "      <td>0</td>\n",
              "      <td>1</td>\n",
              "    </tr>\n",
              "    <tr>\n",
              "      <th>1</th>\n",
              "      <td>1</td>\n",
              "      <td>0</td>\n",
              "      <td>0</td>\n",
              "      <td>0</td>\n",
              "      <td>0</td>\n",
              "    </tr>\n",
              "    <tr>\n",
              "      <th>2</th>\n",
              "      <td>1</td>\n",
              "      <td>1</td>\n",
              "      <td>0</td>\n",
              "      <td>0</td>\n",
              "      <td>0</td>\n",
              "    </tr>\n",
              "    <tr>\n",
              "      <th>3</th>\n",
              "      <td>1</td>\n",
              "      <td>0</td>\n",
              "      <td>0</td>\n",
              "      <td>0</td>\n",
              "      <td>0</td>\n",
              "    </tr>\n",
              "    <tr>\n",
              "      <th>4</th>\n",
              "      <td>0</td>\n",
              "      <td>0</td>\n",
              "      <td>1</td>\n",
              "      <td>0</td>\n",
              "      <td>0</td>\n",
              "    </tr>\n",
              "  </tbody>\n",
              "</table>\n",
              "</div>\n",
              "      <button class=\"colab-df-convert\" onclick=\"convertToInteractive('df-649a90c9-58c1-4c68-9214-53275bbde2a5')\"\n",
              "              title=\"Convert this dataframe to an interactive table.\"\n",
              "              style=\"display:none;\">\n",
              "        \n",
              "  <svg xmlns=\"http://www.w3.org/2000/svg\" height=\"24px\"viewBox=\"0 0 24 24\"\n",
              "       width=\"24px\">\n",
              "    <path d=\"M0 0h24v24H0V0z\" fill=\"none\"/>\n",
              "    <path d=\"M18.56 5.44l.94 2.06.94-2.06 2.06-.94-2.06-.94-.94-2.06-.94 2.06-2.06.94zm-11 1L8.5 8.5l.94-2.06 2.06-.94-2.06-.94L8.5 2.5l-.94 2.06-2.06.94zm10 10l.94 2.06.94-2.06 2.06-.94-2.06-.94-.94-2.06-.94 2.06-2.06.94z\"/><path d=\"M17.41 7.96l-1.37-1.37c-.4-.4-.92-.59-1.43-.59-.52 0-1.04.2-1.43.59L10.3 9.45l-7.72 7.72c-.78.78-.78 2.05 0 2.83L4 21.41c.39.39.9.59 1.41.59.51 0 1.02-.2 1.41-.59l7.78-7.78 2.81-2.81c.8-.78.8-2.07 0-2.86zM5.41 20L4 18.59l7.72-7.72 1.47 1.35L5.41 20z\"/>\n",
              "  </svg>\n",
              "      </button>\n",
              "      \n",
              "  <style>\n",
              "    .colab-df-container {\n",
              "      display:flex;\n",
              "      flex-wrap:wrap;\n",
              "      gap: 12px;\n",
              "    }\n",
              "\n",
              "    .colab-df-convert {\n",
              "      background-color: #E8F0FE;\n",
              "      border: none;\n",
              "      border-radius: 50%;\n",
              "      cursor: pointer;\n",
              "      display: none;\n",
              "      fill: #1967D2;\n",
              "      height: 32px;\n",
              "      padding: 0 0 0 0;\n",
              "      width: 32px;\n",
              "    }\n",
              "\n",
              "    .colab-df-convert:hover {\n",
              "      background-color: #E2EBFA;\n",
              "      box-shadow: 0px 1px 2px rgba(60, 64, 67, 0.3), 0px 1px 3px 1px rgba(60, 64, 67, 0.15);\n",
              "      fill: #174EA6;\n",
              "    }\n",
              "\n",
              "    [theme=dark] .colab-df-convert {\n",
              "      background-color: #3B4455;\n",
              "      fill: #D2E3FC;\n",
              "    }\n",
              "\n",
              "    [theme=dark] .colab-df-convert:hover {\n",
              "      background-color: #434B5C;\n",
              "      box-shadow: 0px 1px 3px 1px rgba(0, 0, 0, 0.15);\n",
              "      filter: drop-shadow(0px 1px 2px rgba(0, 0, 0, 0.3));\n",
              "      fill: #FFFFFF;\n",
              "    }\n",
              "  </style>\n",
              "\n",
              "      <script>\n",
              "        const buttonEl =\n",
              "          document.querySelector('#df-649a90c9-58c1-4c68-9214-53275bbde2a5 button.colab-df-convert');\n",
              "        buttonEl.style.display =\n",
              "          google.colab.kernel.accessAllowed ? 'block' : 'none';\n",
              "\n",
              "        async function convertToInteractive(key) {\n",
              "          const element = document.querySelector('#df-649a90c9-58c1-4c68-9214-53275bbde2a5');\n",
              "          const dataTable =\n",
              "            await google.colab.kernel.invokeFunction('convertToInteractive',\n",
              "                                                     [key], {});\n",
              "          if (!dataTable) return;\n",
              "\n",
              "          const docLinkHtml = 'Like what you see? Visit the ' +\n",
              "            '<a target=\"_blank\" href=https://colab.research.google.com/notebooks/data_table.ipynb>data table notebook</a>'\n",
              "            + ' to learn more about interactive tables.';\n",
              "          element.innerHTML = '';\n",
              "          dataTable['output_type'] = 'display_data';\n",
              "          await google.colab.output.renderOutput(dataTable, element);\n",
              "          const docLink = document.createElement('div');\n",
              "          docLink.innerHTML = docLinkHtml;\n",
              "          element.appendChild(docLink);\n",
              "        }\n",
              "      </script>\n",
              "    </div>\n",
              "  </div>\n",
              "  "
            ]
          },
          "metadata": {}
        },
        {
          "output_type": "display_data",
          "data": {
            "text/plain": [
              "(998, 30)"
            ]
          },
          "metadata": {}
        }
      ],
      "source": [
        "# Perform one-hot encoding on the 'School' column, considering the aggregated values\n",
        "# Set the separator to ';'\n",
        "school_dummies = df_agg['School'].str.get_dummies(sep=';')\n",
        "\n",
        "# Add a 'School' prefix to the one-hot encoded columns\n",
        "school_dummies.columns = ['School_' + col for col in school_dummies.columns]\n",
        "\n",
        "# Concatenate the original DataFrame with the one-hot encoded columns\n",
        "df_agg_encoded = pd.concat([df_agg, school_dummies], axis=1)\n",
        "\n",
        "# Drop the original 'School' column\n",
        "df_agg_encoded.drop('School', axis=1, inplace=True)\n",
        "\n",
        "display(df_agg_encoded.iloc[:5,25:], df_agg_encoded.shape)"
      ]
    },
    {
      "cell_type": "code",
      "execution_count": 26,
      "metadata": {
        "colab": {
          "base_uri": "https://localhost:8080/",
          "height": 223
        },
        "id": "Tl_I7Z4Aga9x",
        "outputId": "815a8c37-2e9a-4044-9b85-35e91938cace"
      },
      "outputs": [
        {
          "output_type": "display_data",
          "data": {
            "text/plain": [
              "   Service_air_force  Service_army  Service_fire_department  \\\n",
              "0                  1             0                        0   \n",
              "1                  0             0                        1   \n",
              "2                  0             0                        0   \n",
              "3                  0             0                        0   \n",
              "4                  0             0                        0   \n",
              "\n",
              "   Service_foreign_legion  Service_marines  Service_navy  Service_peace_corps  \n",
              "0                       0                0             0                    0  \n",
              "1                       0                0             0                    0  \n",
              "2                       0                0             0                    0  \n",
              "3                       0                0             1                    0  \n",
              "4                       0                0             0                    0  "
            ],
            "text/html": [
              "\n",
              "  <div id=\"df-59de2c0d-cc60-4ee7-81ce-0304949b3972\">\n",
              "    <div class=\"colab-df-container\">\n",
              "      <div>\n",
              "<style scoped>\n",
              "    .dataframe tbody tr th:only-of-type {\n",
              "        vertical-align: middle;\n",
              "    }\n",
              "\n",
              "    .dataframe tbody tr th {\n",
              "        vertical-align: top;\n",
              "    }\n",
              "\n",
              "    .dataframe thead th {\n",
              "        text-align: right;\n",
              "    }\n",
              "</style>\n",
              "<table border=\"1\" class=\"dataframe\">\n",
              "  <thead>\n",
              "    <tr style=\"text-align: right;\">\n",
              "      <th></th>\n",
              "      <th>Service_air_force</th>\n",
              "      <th>Service_army</th>\n",
              "      <th>Service_fire_department</th>\n",
              "      <th>Service_foreign_legion</th>\n",
              "      <th>Service_marines</th>\n",
              "      <th>Service_navy</th>\n",
              "      <th>Service_peace_corps</th>\n",
              "    </tr>\n",
              "  </thead>\n",
              "  <tbody>\n",
              "    <tr>\n",
              "      <th>0</th>\n",
              "      <td>1</td>\n",
              "      <td>0</td>\n",
              "      <td>0</td>\n",
              "      <td>0</td>\n",
              "      <td>0</td>\n",
              "      <td>0</td>\n",
              "      <td>0</td>\n",
              "    </tr>\n",
              "    <tr>\n",
              "      <th>1</th>\n",
              "      <td>0</td>\n",
              "      <td>0</td>\n",
              "      <td>1</td>\n",
              "      <td>0</td>\n",
              "      <td>0</td>\n",
              "      <td>0</td>\n",
              "      <td>0</td>\n",
              "    </tr>\n",
              "    <tr>\n",
              "      <th>2</th>\n",
              "      <td>0</td>\n",
              "      <td>0</td>\n",
              "      <td>0</td>\n",
              "      <td>0</td>\n",
              "      <td>0</td>\n",
              "      <td>0</td>\n",
              "      <td>0</td>\n",
              "    </tr>\n",
              "    <tr>\n",
              "      <th>3</th>\n",
              "      <td>0</td>\n",
              "      <td>0</td>\n",
              "      <td>0</td>\n",
              "      <td>0</td>\n",
              "      <td>0</td>\n",
              "      <td>1</td>\n",
              "      <td>0</td>\n",
              "    </tr>\n",
              "    <tr>\n",
              "      <th>4</th>\n",
              "      <td>0</td>\n",
              "      <td>0</td>\n",
              "      <td>0</td>\n",
              "      <td>0</td>\n",
              "      <td>0</td>\n",
              "      <td>0</td>\n",
              "      <td>0</td>\n",
              "    </tr>\n",
              "  </tbody>\n",
              "</table>\n",
              "</div>\n",
              "      <button class=\"colab-df-convert\" onclick=\"convertToInteractive('df-59de2c0d-cc60-4ee7-81ce-0304949b3972')\"\n",
              "              title=\"Convert this dataframe to an interactive table.\"\n",
              "              style=\"display:none;\">\n",
              "        \n",
              "  <svg xmlns=\"http://www.w3.org/2000/svg\" height=\"24px\"viewBox=\"0 0 24 24\"\n",
              "       width=\"24px\">\n",
              "    <path d=\"M0 0h24v24H0V0z\" fill=\"none\"/>\n",
              "    <path d=\"M18.56 5.44l.94 2.06.94-2.06 2.06-.94-2.06-.94-.94-2.06-.94 2.06-2.06.94zm-11 1L8.5 8.5l.94-2.06 2.06-.94-2.06-.94L8.5 2.5l-.94 2.06-2.06.94zm10 10l.94 2.06.94-2.06 2.06-.94-2.06-.94-.94-2.06-.94 2.06-2.06.94z\"/><path d=\"M17.41 7.96l-1.37-1.37c-.4-.4-.92-.59-1.43-.59-.52 0-1.04.2-1.43.59L10.3 9.45l-7.72 7.72c-.78.78-.78 2.05 0 2.83L4 21.41c.39.39.9.59 1.41.59.51 0 1.02-.2 1.41-.59l7.78-7.78 2.81-2.81c.8-.78.8-2.07 0-2.86zM5.41 20L4 18.59l7.72-7.72 1.47 1.35L5.41 20z\"/>\n",
              "  </svg>\n",
              "      </button>\n",
              "      \n",
              "  <style>\n",
              "    .colab-df-container {\n",
              "      display:flex;\n",
              "      flex-wrap:wrap;\n",
              "      gap: 12px;\n",
              "    }\n",
              "\n",
              "    .colab-df-convert {\n",
              "      background-color: #E8F0FE;\n",
              "      border: none;\n",
              "      border-radius: 50%;\n",
              "      cursor: pointer;\n",
              "      display: none;\n",
              "      fill: #1967D2;\n",
              "      height: 32px;\n",
              "      padding: 0 0 0 0;\n",
              "      width: 32px;\n",
              "    }\n",
              "\n",
              "    .colab-df-convert:hover {\n",
              "      background-color: #E2EBFA;\n",
              "      box-shadow: 0px 1px 2px rgba(60, 64, 67, 0.3), 0px 1px 3px 1px rgba(60, 64, 67, 0.15);\n",
              "      fill: #174EA6;\n",
              "    }\n",
              "\n",
              "    [theme=dark] .colab-df-convert {\n",
              "      background-color: #3B4455;\n",
              "      fill: #D2E3FC;\n",
              "    }\n",
              "\n",
              "    [theme=dark] .colab-df-convert:hover {\n",
              "      background-color: #434B5C;\n",
              "      box-shadow: 0px 1px 3px 1px rgba(0, 0, 0, 0.15);\n",
              "      filter: drop-shadow(0px 1px 2px rgba(0, 0, 0, 0.3));\n",
              "      fill: #FFFFFF;\n",
              "    }\n",
              "  </style>\n",
              "\n",
              "      <script>\n",
              "        const buttonEl =\n",
              "          document.querySelector('#df-59de2c0d-cc60-4ee7-81ce-0304949b3972 button.colab-df-convert');\n",
              "        buttonEl.style.display =\n",
              "          google.colab.kernel.accessAllowed ? 'block' : 'none';\n",
              "\n",
              "        async function convertToInteractive(key) {\n",
              "          const element = document.querySelector('#df-59de2c0d-cc60-4ee7-81ce-0304949b3972');\n",
              "          const dataTable =\n",
              "            await google.colab.kernel.invokeFunction('convertToInteractive',\n",
              "                                                     [key], {});\n",
              "          if (!dataTable) return;\n",
              "\n",
              "          const docLinkHtml = 'Like what you see? Visit the ' +\n",
              "            '<a target=\"_blank\" href=https://colab.research.google.com/notebooks/data_table.ipynb>data table notebook</a>'\n",
              "            + ' to learn more about interactive tables.';\n",
              "          element.innerHTML = '';\n",
              "          dataTable['output_type'] = 'display_data';\n",
              "          await google.colab.output.renderOutput(dataTable, element);\n",
              "          const docLink = document.createElement('div');\n",
              "          docLink.innerHTML = docLinkHtml;\n",
              "          element.appendChild(docLink);\n",
              "        }\n",
              "      </script>\n",
              "    </div>\n",
              "  </div>\n",
              "  "
            ]
          },
          "metadata": {}
        },
        {
          "output_type": "display_data",
          "data": {
            "text/plain": [
              "(998, 36)"
            ]
          },
          "metadata": {}
        }
      ],
      "source": [
        "# Same as above, do one-hot encoding on the 'Service' column, considering the aggregated values\n",
        "# Set the separator to ';'\n",
        "service_dummies = df_agg_encoded['Service'].str.get_dummies(sep=';')\n",
        "\n",
        "# Add a 'Service' prefix to the one-hot encoded columns\n",
        "service_dummies.columns = ['Service_' + col for col in service_dummies.columns]\n",
        "\n",
        "# Concatenate the original DataFrame with the one-hot encoded columns\n",
        "df_agg_encoded = pd.concat([df_agg_encoded, service_dummies], axis=1)\n",
        "\n",
        "# Drop the original 'Service' column\n",
        "df_agg_encoded.drop('Service', axis=1, inplace=True)\n",
        "\n",
        "display(df_agg_encoded.iloc[:5,29:], df_agg_encoded.shape)"
      ]
    },
    {
      "cell_type": "code",
      "execution_count": 27,
      "metadata": {
        "id": "TUUpfe-xga9x"
      },
      "outputs": [],
      "source": [
        "df_agg_prep = df_agg_encoded.copy() # Save a copy of the cleaned data for Task A\n",
        "\n",
        "# save as csv file called\n",
        "df_agg_prep.to_csv(file_path + 'merge_prep_final.csv', index=False)"
      ]
    },
    {
      "cell_type": "markdown",
      "metadata": {
        "id": "qNk6sarkga9x"
      },
      "source": [
        "## Modeling"
      ]
    },
    {
      "cell_type": "markdown",
      "metadata": {
        "id": "BmEQfRGNga9x"
      },
      "source": [
        "### Encode Target Variable for A1"
      ]
    },
    {
      "cell_type": "code",
      "execution_count": 28,
      "metadata": {
        "id": "dEAw-12mga9x"
      },
      "outputs": [],
      "source": [
        "# Target event is NoPaymentDue  = ‘pos’\n",
        "# We will encode the target variable to 1 if NoPaymentDue = ‘pos’ else 0\n",
        "df_a1 = df_agg_prep.copy()\n",
        "df_a1['NoPaymentDue'] = df_agg_prep['NoPaymentDue'].map({'pos': 1, 'neg': 0})\n"
      ]
    },
    {
      "cell_type": "code",
      "source": [
        "# Create a function that will perform exploratory data analysis on a specified column in a DataFrame, displaying basic statistics and visualizations.\n",
        "def data_exploration(df, column):\n",
        "    col_type = df[column].dtype\n",
        "\n",
        "    if col_type == 'object' or col_type == 'category': \n",
        "        unique_values = df[column].nunique()\n",
        "        print(f\"Counts and percentages of unique values in {column}:\\n\")\n",
        "        count_pct = pd.concat([df[column].value_counts(), df[column].value_counts(normalize=True) * 100], axis=1)\n",
        "        count_pct.columns = ['Count', 'Percentage']\n",
        "        print(count_pct)\n",
        "        if unique_values < 10:   \n",
        "            plt.figure(figsize=(8, 6))\n",
        "            sns.countplot(data=df, x=column)\n",
        "            plt.title(f\"Bar chart of {column}\") # Bar plot\n",
        "            plt.show()\n",
        "        else:\n",
        "            bins_num = df[column].nunique()\n",
        "            sns.histplot(data=df, x=column, bins=bins_num, kde=True) # Histogram\n",
        "            plt.title(f\"Histogram of {column}\")\n",
        "            plt.xticks(rotation=90, fontsize=7, ha=\"center\")\n",
        "            plt.show()\n",
        "    \n",
        "    elif df[column].nunique() >= 10:\n",
        "         mean = df[column].mean() # mean\n",
        "         std_dev = df[column].std() # standard deviation\n",
        "         # Calculate interquartile range (IQR)\n",
        "         q1 = df[column].quantile(0.25)\n",
        "         q3 = df[column].quantile(0.75)\n",
        "         iqr = q3 - q1 # interquartile range\n",
        "         outlier_range = (q1 - 1.5*iqr, q3 + 1.5*iqr) # outlier range is 1.5 times of IQR\n",
        "         outliers = df[(df[column] < outlier_range[0]) | (df[column] > outlier_range[1])]\n",
        "         outliers = outliers[column].values # outlier values\n",
        "\n",
        "         print(f\"Mean of {column}: {mean:.2f}\")\n",
        "         print(f\"Standard deviation of {column}: {std_dev:.2f}\")\n",
        "         print(f\"Number of outliers in {column}: {len(outliers)}\")\n",
        "         print(\"Outliers values:\")\n",
        "         print(outliers)\n",
        "\n",
        "         plt.figure(figsize=(8, 6))\n",
        "         sns.boxplot(data=df, x=column)\n",
        "         plt.title(f\"Box plot of {column}\") # Box plot\n",
        "         \n",
        "         plt.figure(figsize=(8, 6))\n",
        "         sns.histplot(data=df, x=column, bins=10, kde=True) # Histogram that has 10 bins\n",
        "         plt.title(f\"Histogram of {column}\")\n",
        "         plt.show()\n",
        "    else:\n",
        "        unique_values = df[column].nunique()\n",
        "        print(f\"Counts and percentages of unique values in {column}:\\n\")\n",
        "        count_pct = pd.concat([df[column].value_counts(), df[column].value_counts(normalize=True) * 100], axis=1)\n",
        "        count_pct.columns = ['Count', 'Percentage']\n",
        "        print(count_pct)\n",
        "        plt.figure(figsize=(8, 6))\n",
        "        sns.histplot(data=df, x=column, kde=True) # Histogram\n",
        "        plt.title(f\"Histogram of {column}\")\n",
        "        plt.show()"
      ],
      "metadata": {
        "id": "B__b2JUR1Cj_"
      },
      "execution_count": 29,
      "outputs": []
    },
    {
      "cell_type": "code",
      "execution_count": 30,
      "metadata": {
        "colab": {
          "base_uri": "https://localhost:8080/",
          "height": 651
        },
        "id": "ji4lIAAxga9y",
        "outputId": "81c12475-3e9b-437f-ff66-b8ddfb6f2a43"
      },
      "outputs": [
        {
          "output_type": "stream",
          "name": "stdout",
          "text": [
            "Counts and percentages of unique values in NoPaymentDue:\n",
            "\n",
            "   Count  Percentage\n",
            "1    641   64.228457\n",
            "0    357   35.771543\n"
          ]
        },
        {
          "output_type": "display_data",
          "data": {
            "text/plain": [
              "<Figure size 800x600 with 1 Axes>"
            ],
            "image/png": "[encoded data removed]"
          },
          "metadata": {}
        }
      ],
      "source": [
        "data_exploration(df_a1, 'NoPaymentDue') # Target variable is imbalanced\n",
        "# Model accuracy must be greater than 0.64 to be considered better than the baseline model"
      ]
    },
    {
      "cell_type": "markdown",
      "metadata": {
        "id": "3zRg9cKWga9y"
      },
      "source": [
        "### Generate Test Design"
      ]
    },
    {
      "cell_type": "markdown",
      "metadata": {
        "id": "NekdnbF5ga9y"
      },
      "source": [
        "#### Data Splitting"
      ]
    },
    {
      "cell_type": "code",
      "execution_count": 31,
      "metadata": {
        "colab": {
          "base_uri": "https://localhost:8080/"
        },
        "id": "gEBu1PM5ga9y",
        "outputId": "2ae28820-ddd6-405e-e0d5-96ac1b3ee8e7"
      },
      "outputs": [
        {
          "output_type": "stream",
          "name": "stdout",
          "text": [
            "The length of training set: 698\n",
            "The length of testing  set: 300\n"
          ]
        }
      ],
      "source": [
        "# Split the data into training and testing sets - 70% training, 30% testing - Using stratified sampling\n",
        "X = df_a1.drop('NoPaymentDue', axis=1)\n",
        "y = df_a1['NoPaymentDue']\n",
        "X_train, X_test, y_train, y_test = train_test_split(X, y, test_size=0.3, random_state=666, stratify=y)\n",
        "\n",
        "print(\"The length of training set:\", len(X_train))\n",
        "print(\"The length of testing  set:\", len(y_test))"
      ]
    },
    {
      "cell_type": "markdown",
      "source": [
        "### SVM"
      ],
      "metadata": {
        "id": "rL_3KqeQkuCm"
      }
    },
    {
      "cell_type": "code",
      "source": [
        "# Train an SVM model with a linear kernel\n",
        "svm_model = SVC(kernel='linear', random_state=666)\n",
        "svm_model.fit(X_train, y_train)\n",
        "\n",
        "# Make predictions using the SVM model\n",
        "y_pred_svm = svm_model.predict(X_test)\n",
        "\n",
        "# Evaluate the performance of the SVM model\n",
        "print(\"Confusion Matrix:\")\n",
        "print(confusion_matrix(y_test, y_pred_svm))\n",
        "print(\"\\nClassification Report:\")\n",
        "print(classification_report(y_test, y_pred_svm))\n",
        "print(\"\\nAccuracy Score:\")\n",
        "print(accuracy_score(y_test, y_pred_svm))"
      ],
      "metadata": {
        "colab": {
          "base_uri": "https://localhost:8080/"
        },
        "id": "yxkBvZBZktf4",
        "outputId": "490042a6-0f06-488a-b452-68c399e9586e"
      },
      "execution_count": 32,
      "outputs": [
        {
          "output_type": "stream",
          "name": "stdout",
          "text": [
            "Confusion Matrix:\n",
            "[[106   1]\n",
            " [  2 191]]\n",
            "\n",
            "Classification Report:\n",
            "              precision    recall  f1-score   support\n",
            "\n",
            "           0       0.98      0.99      0.99       107\n",
            "           1       0.99      0.99      0.99       193\n",
            "\n",
            "    accuracy                           0.99       300\n",
            "   macro avg       0.99      0.99      0.99       300\n",
            "weighted avg       0.99      0.99      0.99       300\n",
            "\n",
            "\n",
            "Accuracy Score:\n",
            "0.99\n"
          ]
        }
      ]
    },
    {
      "cell_type": "code",
      "source": [
        "# Perform 5-fold cross-validation on the scaled data\n",
        "cv_scores = cross_val_score(svm_model, X, y, cv=5, scoring='accuracy')\n",
        "\n",
        "print(\"Cross-Validation Scores:\", cv_scores)\n",
        "print(\"Average Cross-Validation Score:\", np.mean(cv_scores))\n",
        "\n",
        "# Check for overfitting by comparing performance on the training and test sets\n",
        "y_pred_train_svm = svm_model.predict(X_train)\n",
        "train_accuracy = accuracy_score(y_train, y_pred_train_svm)\n",
        "test_accuracy = accuracy_score(y_test, y_pred_svm)\n",
        "\n",
        "print(\"Training Set Accuracy:\", train_accuracy)\n",
        "print(\"Test Set Accuracy:\", test_accuracy)\n",
        "\n",
        "if train_accuracy > test_accuracy:\n",
        "    difference = train_accuracy - test_accuracy\n",
        "    print(\"The training accuracy is higher than test accuracy by\", difference)\n",
        "    if difference > 0.1:  # Arbitrary threshold, adjust as needed\n",
        "        print(\"There might be overfitting\")\n",
        "    else:\n",
        "        print(\"The difference is small, overfitting might not be an issue\")\n",
        "else:\n",
        "    print(\"Overfitting is not an issue\")"
      ],
      "metadata": {
        "colab": {
          "base_uri": "https://localhost:8080/"
        },
        "id": "vHKGj7GHk5lZ",
        "outputId": "8b96e222-4b4e-481c-96f9-336fd2b4adc5"
      },
      "execution_count": 33,
      "outputs": [
        {
          "output_type": "stream",
          "name": "stdout",
          "text": [
            "Cross-Validation Scores: [0.985      0.995      0.98       0.98492462 0.96984925]\n",
            "Average Cross-Validation Score: 0.9829547738693467\n",
            "Training Set Accuracy: 0.9856733524355301\n",
            "Test Set Accuracy: 0.99\n",
            "Overfitting is not an issue\n"
          ]
        }
      ]
    },
    {
      "cell_type": "markdown",
      "source": [
        "Since we gain extremlly  high scores with SVM, we check the over fitting problem by using cross validation.\n",
        "As it shows, there is no over fitting problem, so we will keep this model and see if the performance is consistent among different models."
      ],
      "metadata": {
        "id": "2WFzqZLulLou"
      }
    },
    {
      "cell_type": "markdown",
      "source": [
        "### DECISION TREE"
      ],
      "metadata": {
        "id": "gA1nOuullUDC"
      }
    },
    {
      "cell_type": "code",
      "source": [
        "# Define the hyperparameter grid\n",
        "param_grid = {\n",
        "    'max_depth': [3, 5, 7, 9, 11, None],\n",
        "    'min_samples_split': [2, 5, 10, 20],\n",
        "    'min_samples_leaf': [1, 2, 5, 10, int(len(X_train)*0.03), int(len(X_train)*0.06)],\n",
        "    'criterion': ['gini', 'entropy']\n",
        "}\n",
        "\n",
        "# Create the decision tree classifier model\n",
        "dt_model = DecisionTreeClassifier(random_state=666)\n",
        "\n",
        "# Create the grid search object\n",
        "grid_search = GridSearchCV(estimator=dt_model, param_grid=param_grid, scoring='accuracy', cv=5, n_jobs=-1)\n",
        "\n",
        "# Fit the grid search object to the training data\n",
        "grid_search.fit(X_train, y_train)\n",
        "\n",
        "# Display the best hyperparameters found\n",
        "print(\"Best Hyperparameters:\")\n",
        "print(grid_search.best_params_)\n",
        "\n",
        "# Get the best model from grid search\n",
        "best_dt_model = grid_search.best_estimator_"
      ],
      "metadata": {
        "colab": {
          "base_uri": "https://localhost:8080/"
        },
        "id": "zV4gahjNlN6I",
        "outputId": "3554a761-8eae-4572-bd63-7eb450e75bfa"
      },
      "execution_count": 34,
      "outputs": [
        {
          "output_type": "stream",
          "name": "stdout",
          "text": [
            "Best Hyperparameters:\n",
            "{'criterion': 'entropy', 'max_depth': 3, 'min_samples_leaf': 1, 'min_samples_split': 2}\n"
          ]
        }
      ]
    },
    {
      "cell_type": "code",
      "source": [
        "# Create the decision tree classifier model\n",
        "dt_model = DecisionTreeClassifier(random_state=666, **grid_search.best_params_)\n",
        "\n",
        "# Train the model\n",
        "dt_model.fit(X_train, y_train)\n",
        "\n",
        "# Make predictions on the test set\n",
        "y_pred_dt = dt_model.predict(X_test)\n",
        "\n",
        "# Display the confusion matrix, classification report, and accuracy score\n",
        "print(\"Confusion Matrix:\")\n",
        "print(confusion_matrix(y_test, y_pred_dt))\n",
        "print(\"\\nClassification Report:\")\n",
        "print(classification_report(y_test, y_pred_dt))\n",
        "print(\"\\nAccuracy Score:\")\n",
        "print(accuracy_score(y_test, y_pred_dt))"
      ],
      "metadata": {
        "colab": {
          "base_uri": "https://localhost:8080/"
        },
        "id": "WNUFdkLClcIw",
        "outputId": "d182983e-7855-4818-8c11-c49488330aab"
      },
      "execution_count": 35,
      "outputs": [
        {
          "output_type": "stream",
          "name": "stdout",
          "text": [
            "Confusion Matrix:\n",
            "[[101   6]\n",
            " [  2 191]]\n",
            "\n",
            "Classification Report:\n",
            "              precision    recall  f1-score   support\n",
            "\n",
            "           0       0.98      0.94      0.96       107\n",
            "           1       0.97      0.99      0.98       193\n",
            "\n",
            "    accuracy                           0.97       300\n",
            "   macro avg       0.98      0.97      0.97       300\n",
            "weighted avg       0.97      0.97      0.97       300\n",
            "\n",
            "\n",
            "Accuracy Score:\n",
            "0.9733333333333334\n"
          ]
        }
      ]
    },
    {
      "cell_type": "markdown",
      "source": [
        "The result looks good. We will check the structure of the tree if needed later."
      ],
      "metadata": {
        "id": "JD7tAobIlot2"
      }
    },
    {
      "cell_type": "markdown",
      "source": [
        "### KNN"
      ],
      "metadata": {
        "id": "cheLuQ8vpS4V"
      }
    },
    {
      "cell_type": "code",
      "source": [
        "# Define the hyperparameter grid\n",
        "param_grid = {'n_neighbors': list(range(1, 31))}\n",
        "knn = KNeighborsClassifier()\n",
        "knn_grid = GridSearchCV(knn, param_grid, cv=5, scoring='accuracy', n_jobs=-1)\n",
        "knn_grid.fit(X_train, y_train)\n",
        "\n",
        "print(\"Best Hyperparameters:\")\n",
        "print(knn_grid.best_params_)"
      ],
      "metadata": {
        "colab": {
          "base_uri": "https://localhost:8080/"
        },
        "id": "JJMplC5flf46",
        "outputId": "ed820d42-59fe-4625-890c-427ac6d9bf0b"
      },
      "execution_count": 36,
      "outputs": [
        {
          "output_type": "stream",
          "name": "stdout",
          "text": [
            "Best Hyperparameters:\n",
            "{'n_neighbors': 16}\n"
          ]
        }
      ]
    },
    {
      "cell_type": "code",
      "source": [
        "# Get the best model from grid search\n",
        "knn_model = KNeighborsClassifier(**knn_grid.best_params_)\n",
        "\n",
        "# Train the model\n",
        "knn_model.fit(X_train, y_train)\n",
        "\n",
        "# Make predictions on the test set\n",
        "y_pred_knn = knn_model.predict(X_test)\n",
        "\n",
        "# Display the confusion matrix, classification report, and accuracy score\n",
        "print(\"Confusion Matrix:\")\n",
        "print(confusion_matrix(y_test, y_pred_knn))\n",
        "print(\"\\nClassification Report:\")\n",
        "print(classification_report(y_test, y_pred_knn))\n",
        "print(\"\\nAccuracy Score:\")\n",
        "print(accuracy_score(y_test, y_pred_knn))"
      ],
      "metadata": {
        "colab": {
          "base_uri": "https://localhost:8080/"
        },
        "id": "AxEQoSlopXbr",
        "outputId": "2c65b464-a255-4a74-eac2-fe7c319143c7"
      },
      "execution_count": 37,
      "outputs": [
        {
          "output_type": "stream",
          "name": "stdout",
          "text": [
            "Confusion Matrix:\n",
            "[[ 92  15]\n",
            " [ 44 149]]\n",
            "\n",
            "Classification Report:\n",
            "              precision    recall  f1-score   support\n",
            "\n",
            "           0       0.68      0.86      0.76       107\n",
            "           1       0.91      0.77      0.83       193\n",
            "\n",
            "    accuracy                           0.80       300\n",
            "   macro avg       0.79      0.82      0.80       300\n",
            "weighted avg       0.83      0.80      0.81       300\n",
            "\n",
            "\n",
            "Accuracy Score:\n",
            "0.8033333333333333\n"
          ]
        }
      ]
    },
    {
      "cell_type": "markdown",
      "source": [
        "KNN's performance can degrade in high-dimensional feature spaces, as the distance between points becomes less meaningful in higher dimensions.\n",
        "Therefore, we think this is reason why KNN has a lower performance than SVM and Decision Tree."
      ],
      "metadata": {
        "id": "R0smNlMNpd3R"
      }
    },
    {
      "cell_type": "markdown",
      "metadata": {
        "id": "58jWT6mnga9y"
      },
      "source": [
        "### XGBOOST\n",
        "\n",
        "We will experiment with an XGBoost Classifer in Sklearn."
      ]
    },
    {
      "cell_type": "code",
      "execution_count": 38,
      "metadata": {
        "colab": {
          "base_uri": "https://localhost:8080/"
        },
        "id": "oVYR4MKDga9y",
        "outputId": "f21e3ba4-84e8-4861-eab9-f61ee2d01d59"
      },
      "outputs": [
        {
          "output_type": "stream",
          "name": "stdout",
          "text": [
            "Confusion Matrix:\n",
            "[[102   5]\n",
            " [  1 192]]\n",
            "\n",
            "Classification Report:\n",
            "              precision    recall  f1-score   support\n",
            "\n",
            "           0       0.99      0.95      0.97       107\n",
            "           1       0.97      0.99      0.98       193\n",
            "\n",
            "    accuracy                           0.98       300\n",
            "   macro avg       0.98      0.97      0.98       300\n",
            "weighted avg       0.98      0.98      0.98       300\n",
            "\n",
            "\n",
            "Accuracy Score:\n",
            "0.98\n"
          ]
        }
      ],
      "source": [
        "# Train the XGB model\n",
        "xgb_model = xgb.XGBClassifier(random_state=666) # Initialize xgboost classifier \n",
        "\n",
        "# Fit the model to the training data\n",
        "xgb_model.fit(X_train, y_train)\n",
        "y_pred_xgb = xgb_model.predict(X_test) # Get predictions\n",
        "\n",
        "# Evaluate the performance of the XGB Model\n",
        "print(\"Confusion Matrix:\")\n",
        "print(confusion_matrix(y_test, y_pred_xgb))\n",
        "print(\"\\nClassification Report:\")\n",
        "print(classification_report(y_test, y_pred_xgb))\n",
        "print(\"\\nAccuracy Score:\")\n",
        "print(accuracy_score(y_test, y_pred_xgb))"
      ]
    },
    {
      "cell_type": "code",
      "execution_count": 39,
      "metadata": {
        "colab": {
          "base_uri": "https://localhost:8080/"
        },
        "id": "PtfcxiwYga9y",
        "outputId": "a5b8c1f9-6a9d-4e5b-bae2-6477a4a4f913"
      },
      "outputs": [
        {
          "output_type": "stream",
          "name": "stdout",
          "text": [
            "Cross-Validation Scores: [0.975      0.99       0.975      0.9798995  0.96984925]\n",
            "Average Cross-Validation Score: 0.9779497487437185\n",
            "XGB Training Set Accuracy: 1.0\n",
            "XGB Test Set Accuracy: 0.98\n",
            "The training accuracy is higher than test accuracy by 0.020000000000000018\n",
            "The difference is small, overfitting might not be an issue\n"
          ]
        }
      ],
      "source": [
        "# Perform 5-fold cross-validation on the scaled data\n",
        "cv_scores_xgb = cross_val_score(xgb_model, X, y, cv=5, scoring='accuracy')\n",
        "\n",
        "print(\"Cross-Validation Scores:\", cv_scores_xgb)\n",
        "print(\"Average Cross-Validation Score:\", np.mean(cv_scores_xgb))\n",
        "\n",
        "# Check for overfitting by comparing performance on the training and test sets\n",
        "y_pred_train_xgb = xgb_model.predict(X_train)\n",
        "train_accuracy_xgb = accuracy_score(y_train, y_pred_train_xgb)\n",
        "test_accuracy_xgb = accuracy_score(y_test, y_pred_xgb)\n",
        "\n",
        "print(\"XGB Training Set Accuracy:\", train_accuracy_xgb)\n",
        "print(\"XGB Test Set Accuracy:\", test_accuracy_xgb)\n",
        "\n",
        "if train_accuracy_xgb > test_accuracy_xgb:\n",
        "    difference_xgb = train_accuracy_xgb - test_accuracy_xgb\n",
        "    print(\"The training accuracy is higher than test accuracy by\", difference_xgb)\n",
        "    if difference_xgb > 0.1:  # Arbitrary threshold, adjust as needed\n",
        "        print(\"There might be overfitting\")\n",
        "    else:\n",
        "        print(\"The difference is small, overfitting might not be an issue\")\n",
        "else:\n",
        "    print(\"Overfitting is not an issue\")\n"
      ]
    },
    {
      "cell_type": "markdown",
      "metadata": {
        "id": "oVkJIXNQga9y"
      },
      "source": [
        "Because the difference is by 0.02, overfitting might not be an issue, so we'll keep this model."
      ]
    },
    {
      "cell_type": "markdown",
      "metadata": {
        "id": "xn2tIoizga9y"
      },
      "source": [
        "### Naive Bayes"
      ]
    },
    {
      "cell_type": "code",
      "source": [
        "mnb_model = MultinomialNB(fit_prior = False, alpha = 0.01)\n",
        "\n",
        "# Train the model\n",
        "mnb_model.fit(X_train, y_train)\n",
        "\n",
        "# Make predictions on the test set\n",
        "y_pred_mnb = mnb_model.predict(X_test)\n",
        "\n",
        "# Display the confusion matrix, classification report, and accuracy score\n",
        "print(\"Confusion Matrix:\")\n",
        "print(confusion_matrix(y_test, y_pred_mnb))\n",
        "print(\"\\nClassification Report:\")\n",
        "print(classification_report(y_test, y_pred_mnb))\n",
        "print(\"\\nAccuracy Score:\")\n",
        "print(accuracy_score(y_test, y_pred_mnb))"
      ],
      "metadata": {
        "colab": {
          "base_uri": "https://localhost:8080/"
        },
        "id": "K_CzhsrqFnna",
        "outputId": "336ddb10-520d-482f-db83-c640ad29d92c"
      },
      "execution_count": 40,
      "outputs": [
        {
          "output_type": "stream",
          "name": "stdout",
          "text": [
            "Confusion Matrix:\n",
            "[[101   6]\n",
            " [  9 184]]\n",
            "\n",
            "Classification Report:\n",
            "              precision    recall  f1-score   support\n",
            "\n",
            "           0       0.92      0.94      0.93       107\n",
            "           1       0.97      0.95      0.96       193\n",
            "\n",
            "    accuracy                           0.95       300\n",
            "   macro avg       0.94      0.95      0.95       300\n",
            "weighted avg       0.95      0.95      0.95       300\n",
            "\n",
            "\n",
            "Accuracy Score:\n",
            "0.95\n"
          ]
        }
      ]
    },
    {
      "cell_type": "markdown",
      "source": [
        "It is suprising that Naive Bayes has a good performance as fit_prior is set to False when the target variable is imbalanced."
      ],
      "metadata": {
        "id": "jLZ9N5rPqT1F"
      }
    },
    {
      "cell_type": "markdown",
      "source": [
        "### MLP"
      ],
      "metadata": {
        "id": "kQWcedQWrkzF"
      }
    },
    {
      "cell_type": "code",
      "source": [
        "# Function to create a Keras model with specified hyperparameters\n",
        "def create_model(optimizer='adam', neurons=32, dropout_rate=0.2):\n",
        "    model = Sequential()\n",
        "    model.add(Dense(neurons, activation='relu', input_shape=(X_train.shape[1],))) # dim is 35\n",
        "    model.add(Dropout(dropout_rate))\n",
        "    model.add(Dense(neurons, activation='relu'))\n",
        "    model.add(Dropout(dropout_rate))\n",
        "    model.add(Dense(1, activation='sigmoid'))\n",
        "    \n",
        "    model.compile(optimizer=optimizer, loss='binary_crossentropy', metrics=['accuracy'])\n",
        "    return model\n",
        "\n",
        "# Wrap the Keras model with the KerasClassifier\n",
        "model_mlp = KerasClassifier(build_fn=create_model, verbose=0)\n",
        "\n",
        "# Define the grid search parameters\n",
        "param_grid = {\n",
        "    'optimizer': ['adam', 'rmsprop'],\n",
        "    'neurons': [32, 64, 128],\n",
        "    'dropout_rate': [0.1, 0.2, 0.3],\n",
        "    'batch_size': [16, 32, 64],\n",
        "    'epochs': [50, 100]\n",
        "}\n",
        "\n",
        "# Create the GridSearchCV object\n",
        "grid = GridSearchCV(estimator=model_mlp , param_grid=param_grid, scoring='accuracy', n_jobs=-1, cv=3)\n",
        "\n",
        "# Fit the grid search to the data\n",
        "grid_result = grid.fit(X_train, y_train)\n",
        "\n",
        "# Print the best hyperparameters\n",
        "print(\"Best Hyperparameters:\")\n",
        "print(grid_result.best_params_)"
      ],
      "metadata": {
        "colab": {
          "base_uri": "https://localhost:8080/"
        },
        "id": "7FoIRoBGriqg",
        "outputId": "57f1dc91-b48f-4b2b-818f-a062c96d4497"
      },
      "execution_count": 41,
      "outputs": [
        {
          "output_type": "stream",
          "name": "stdout",
          "text": [
            "Best Hyperparameters:\n",
            "{'batch_size': 16, 'dropout_rate': 0.3, 'epochs': 100, 'neurons': 128, 'optimizer': 'adam'}\n"
          ]
        }
      ]
    },
    {
      "cell_type": "code",
      "source": [
        "# Create the best model based on the grid search with further manual tuning\n",
        "mlp_model = Sequential()\n",
        "mlp_model.add(Dense(128, activation='relu', input_dim=X_train.shape[1]))\n",
        "mlp_model.add(Dropout(0.2))\n",
        "mlp_model.add(Dense(128, activation='relu'))\n",
        "mlp_model.add(Dropout(0.2))\n",
        "mlp_model.add(Dense(1, activation='sigmoid'))\n",
        "\n",
        "mlp_model.compile(optimizer=keras.optimizers.RMSprop(), loss='binary_crossentropy', metrics=['accuracy'])\n",
        "mlp_model.fit(X_train, y_train, validation_split=0.33, batch_size=32, epochs=100, verbose=0)\n",
        "\n",
        "y_pred_mlp = mlp_model.predict(X_test, verbose=0)\n",
        "\n",
        "# Print the results\n",
        "print(\"Confusion Matrix:\")\n",
        "print(confusion_matrix(y_test, y_pred_mlp.round())) # round() to convert probabilities to 0/1\n",
        "\n",
        "print(\"\\nClassification Report:\")\n",
        "print(classification_report(y_test, y_pred_mlp.round()))\n",
        "\n",
        "print(\"\\nAccuracy Score:\")\n",
        "print(accuracy_score(y_test, y_pred_mlp.round()))"
      ],
      "metadata": {
        "colab": {
          "base_uri": "https://localhost:8080/"
        },
        "id": "8exDx8rLrsNv",
        "outputId": "62f6ce93-9235-4b64-ccc3-ab4a45d91f31"
      },
      "execution_count": 42,
      "outputs": [
        {
          "output_type": "stream",
          "name": "stdout",
          "text": [
            "Confusion Matrix:\n",
            "[[100   7]\n",
            " [  1 192]]\n",
            "\n",
            "Classification Report:\n",
            "              precision    recall  f1-score   support\n",
            "\n",
            "           0       0.99      0.93      0.96       107\n",
            "           1       0.96      0.99      0.98       193\n",
            "\n",
            "    accuracy                           0.97       300\n",
            "   macro avg       0.98      0.96      0.97       300\n",
            "weighted avg       0.97      0.97      0.97       300\n",
            "\n",
            "\n",
            "Accuracy Score:\n",
            "0.9733333333333334\n"
          ]
        }
      ]
    },
    {
      "cell_type": "markdown",
      "source": [
        "It is such a compuationally expensive model. And the accuracy is not as good as SVM and Decision Tree. "
      ],
      "metadata": {
        "id": "wDXmKEitr3FV"
      }
    },
    {
      "cell_type": "markdown",
      "source": [
        "### Random Forest"
      ],
      "metadata": {
        "id": "gGycvQmkr_Pz"
      }
    },
    {
      "cell_type": "code",
      "source": [
        "# Create a Random Forest Classifier\n",
        "model_rf = RandomForestClassifier(random_state=666)\n",
        "\n",
        "# Define the random search parameters\n",
        "param_dist = {\n",
        "    'n_estimators': randint(50, 200),\n",
        "    'max_depth': randint(3, 30),\n",
        "    'min_samples_split': randint(2, 10),\n",
        "    'min_samples_leaf': randint(1, 10),\n",
        "    'criterion': ['gini', 'entropy']\n",
        "}\n",
        "\n",
        "# Create the RandomizedSearchCV object\n",
        "random_search = RandomizedSearchCV(estimator=model_rf, param_distributions=param_dist, scoring='accuracy', n_iter=50, n_jobs=-1, cv=3, random_state=666)\n",
        "\n",
        "# Fit the random search to the data\n",
        "random_search.fit(X_train, y_train)\n",
        "\n",
        "# Print the best hyperparameters\n",
        "print(\"Best Hyperparameters:\")\n",
        "print(random_search.best_params_)\n",
        "\n",
        "# Evaluate the best model on the test set\n",
        "rf_model = random_search.best_estimator_\n",
        "y_pred_rf = rf_model.predict(X_test)\n",
        "\n",
        "# Print the results\n",
        "print(\"Confusion Matrix:\")\n",
        "print(confusion_matrix(y_test, y_pred_rf))\n",
        "\n",
        "print(\"\\nClassification Report:\")\n",
        "print(classification_report(y_test, y_pred_rf))\n",
        "\n",
        "print(\"\\nAccuracy Score:\")\n",
        "print(accuracy_score(y_test, y_pred_rf))"
      ],
      "metadata": {
        "colab": {
          "base_uri": "https://localhost:8080/"
        },
        "id": "1W1eFy6jsCSh",
        "outputId": "a771b149-a7e7-4564-e05d-d642581e8449"
      },
      "execution_count": 43,
      "outputs": [
        {
          "output_type": "stream",
          "name": "stdout",
          "text": [
            "Best Hyperparameters:\n",
            "{'criterion': 'gini', 'max_depth': 18, 'min_samples_leaf': 1, 'min_samples_split': 8, 'n_estimators': 130}\n",
            "Confusion Matrix:\n",
            "[[101   6]\n",
            " [  2 191]]\n",
            "\n",
            "Classification Report:\n",
            "              precision    recall  f1-score   support\n",
            "\n",
            "           0       0.98      0.94      0.96       107\n",
            "           1       0.97      0.99      0.98       193\n",
            "\n",
            "    accuracy                           0.97       300\n",
            "   macro avg       0.98      0.97      0.97       300\n",
            "weighted avg       0.97      0.97      0.97       300\n",
            "\n",
            "\n",
            "Accuracy Score:\n",
            "0.9733333333333334\n"
          ]
        }
      ]
    },
    {
      "cell_type": "markdown",
      "source": [
        "### Logistic Regression"
      ],
      "metadata": {
        "id": "Yo_4BxEPsIbS"
      }
    },
    {
      "cell_type": "code",
      "source": [
        "# Train a Logistic Regression model \n",
        "lr_model = LogisticRegression(C=30, penalty='l2',max_iter=100,solver='liblinear', random_state=666)\n",
        "lr_model.fit(X_train, y_train)\n",
        "\n",
        "# Predict on the test set\n",
        "y_pred_lr = lr_model.predict(X_test)\n",
        "\n",
        "# Print the results\n",
        "print(\"Confusion Matrix:\")\n",
        "print(confusion_matrix(y_test, y_pred_lr))\n",
        "\n",
        "print(\"\\nClassification Report:\")\n",
        "print(classification_report(y_test, y_pred_lr))\n",
        "\n",
        "print(\"\\nAccuracy Score:\")\n",
        "print(accuracy_score(y_test, y_pred_lr))"
      ],
      "metadata": {
        "colab": {
          "base_uri": "https://localhost:8080/"
        },
        "id": "oh-P0rEesGcK",
        "outputId": "e8b63c34-7b4d-4dab-89c2-fc2a222e605d"
      },
      "execution_count": 44,
      "outputs": [
        {
          "output_type": "stream",
          "name": "stdout",
          "text": [
            "Confusion Matrix:\n",
            "[[107   0]\n",
            " [  1 192]]\n",
            "\n",
            "Classification Report:\n",
            "              precision    recall  f1-score   support\n",
            "\n",
            "           0       0.99      1.00      1.00       107\n",
            "           1       1.00      0.99      1.00       193\n",
            "\n",
            "    accuracy                           1.00       300\n",
            "   macro avg       1.00      1.00      1.00       300\n",
            "weighted avg       1.00      1.00      1.00       300\n",
            "\n",
            "\n",
            "Accuracy Score:\n",
            "0.9966666666666667\n"
          ]
        }
      ]
    },
    {
      "cell_type": "code",
      "source": [
        "# Perform 5-fold cross-validation on the scaled data\n",
        "cv_scores = cross_val_score(lr_model, X, y, cv=5, scoring='accuracy')\n",
        "\n",
        "print(\"Cross-Validation Scores:\", cv_scores)\n",
        "print(\"Average Cross-Validation Score:\", np.mean(cv_scores))\n",
        "\n",
        "# Check for overfitting by comparing performance on the training and test sets\n",
        "y_pred_train_lr = lr_model.predict(X_train)\n",
        "train_accuracy = accuracy_score(y_train, y_pred_train_lr)\n",
        "test_accuracy = accuracy_score(y_test, y_pred_lr)\n",
        "\n",
        "print(\"Training Set Accuracy:\", train_accuracy)\n",
        "print(\"Test Set Accuracy:\", test_accuracy)\n",
        "\n",
        "if train_accuracy > test_accuracy:\n",
        "    difference = train_accuracy - test_accuracy\n",
        "    print(\"The training accuracy is higher than test accuracy by\", difference)\n",
        "    if difference > 0.1:  # Arbitrary threshold, adjust as needed\n",
        "        print(\"There might be overfitting\")\n",
        "    else:\n",
        "        print(\"The difference is small, overfitting might not be an issue\")\n",
        "else:\n",
        "    print(\"Overfitting is not an issue\")"
      ],
      "metadata": {
        "colab": {
          "base_uri": "https://localhost:8080/"
        },
        "id": "NTwC6-TxsRVY",
        "outputId": "5f1c7ae4-7624-4a14-c195-97acba070ebd"
      },
      "execution_count": 45,
      "outputs": [
        {
          "output_type": "stream",
          "name": "stdout",
          "text": [
            "Cross-Validation Scores: [0.985      0.995      0.985      0.98492462 0.9798995 ]\n",
            "Average Cross-Validation Score: 0.9859648241206032\n",
            "Training Set Accuracy: 0.994269340974212\n",
            "Test Set Accuracy: 0.9966666666666667\n",
            "Overfitting is not an issue\n"
          ]
        }
      ]
    },
    {
      "cell_type": "markdown",
      "source": [
        "## Assess Models"
      ],
      "metadata": {
        "id": "GRcOCfvGscWk"
      }
    },
    {
      "cell_type": "code",
      "source": [
        "# define a function to get metrics\n",
        "def get_metrics(model, X_test, y_test):\n",
        "    y_pred = model.predict(X_test)\n",
        "    \n",
        "    # If the model is a Keras model (Sequential)\n",
        "    if isinstance(model, keras.Sequential): # for mlp\n",
        "        y_probs = model.predict(X_test, verbose=0)\n",
        "        y_pred = y_probs.round().ravel() # convert probabilities to 0/1\n",
        "        \n",
        "    elif hasattr(model, \"predict_proba\"): \n",
        "        y_probs = model.predict_proba(X_test)[:, 1]\n",
        "    else:\n",
        "        y_probs = model.decision_function(X_test) # for svm, dt\n",
        "\n",
        "    # Calculate metrics\n",
        "    accuracy = round(accuracy_score(y_test, y_pred), 4)\n",
        "    precision = round(precision_score(y_test, y_pred), 4)\n",
        "    recall = round(recall_score(y_test, y_pred), 4)\n",
        "    f1 = round(f1_score(y_test, y_pred), 4)\n",
        "    auc_roc = round(roc_auc_score(y_test, y_probs), 4)\n",
        "\n",
        "    # Calculate the lift value at 2nd decile (20%)\n",
        "    lift_table = kds.metrics.decile_table(y_test, y_pred.round(),labels=False)\n",
        "    lift_table['lift_value'] = (lift_table['cum_resp_pct'] - lift_table['cum_cust_pct'])/(lift_table['cum_resp_pct_wiz'] - lift_table['cum_cust_pct'])\n",
        "    sec_lift_score = lift_table[lift_table['decile'] == 2]['lift_value'].values[0]\n",
        "\n",
        "    # calculate the stability\n",
        "    if np.all(np.diff(lift_table.loc[:2, 'resp_rate']) <= 0) == True: # if the response rate is decreasing monotonically until second decile, the model is stable\n",
        "        stab_score = 1\n",
        "    else:\n",
        "        stab_score = 0\n",
        "\n",
        "    return {\"Accuracy\": accuracy, \"Precision\": precision, \"Recall\": recall, \"F1\": f1, \"AUC_ROC\": auc_roc, \"Lift_Score\": sec_lift_score, \"Stability\": stab_score}"
      ],
      "metadata": {
        "id": "WhpHfg8csb7w"
      },
      "execution_count": 46,
      "outputs": []
    },
    {
      "cell_type": "code",
      "source": [
        "svm_metrics = get_metrics(svm_model, X_test, y_test)\n",
        "dt_metrics = get_metrics(dt_model, X_test, y_test)\n",
        "knn_metrics = get_metrics(knn_model, X_test, y_test)\n",
        "xgb_metrics = get_metrics(xgb_model, X_test, y_test)\n",
        "mnb_metrics = get_metrics(mnb_model, X_test, y_test)\n",
        "mlp_metrics = get_metrics(mlp_model, X_test, y_test)\n",
        "rf_metrics = get_metrics(rf_model, X_test, y_test)\n",
        "lr_metrics = get_metrics(lr_model, X_test, y_test)"
      ],
      "metadata": {
        "colab": {
          "base_uri": "https://localhost:8080/"
        },
        "id": "TQmpgRgmskQ4",
        "outputId": "18447711-e060-44e2-c783-2d37df1f1180"
      },
      "execution_count": 47,
      "outputs": [
        {
          "output_type": "stream",
          "name": "stdout",
          "text": [
            "10/10 [==============================] - 0s 2ms/step\n"
          ]
        }
      ]
    },
    {
      "cell_type": "code",
      "source": [
        "# Create a list of dictionaries containing model names and their metrics\n",
        "all_metrics = [\n",
        "    {\"Model\": \"SVM\", **svm_metrics},\n",
        "    {\"Model\": \"DT\", **dt_metrics},\n",
        "    {\"Model\": \"KNN\", **knn_metrics},\n",
        "    {\"Model\": \"XGB\", **xgb_metrics},\n",
        "    {\"Model\": \"MNB\", **mnb_metrics},\n",
        "    {\"Model\": \"MLP\", **mlp_metrics},\n",
        "    {\"Model\": \"RF\", **rf_metrics},\n",
        "    {\"Model\": \"LR\", **lr_metrics}\n",
        "]\n",
        "\n",
        "# Convert the list of dictionaries into DataFrame\n",
        "metrics_df = pd.DataFrame(all_metrics)\n",
        "\n",
        "metrics_df"
      ],
      "metadata": {
        "colab": {
          "base_uri": "https://localhost:8080/",
          "height": 300
        },
        "id": "Dwus3U5csuXs",
        "outputId": "85e8dbef-91fc-4ed2-b3aa-ecda29424e68"
      },
      "execution_count": 48,
      "outputs": [
        {
          "output_type": "execute_result",
          "data": {
            "text/plain": [
              "  Model  Accuracy  Precision  Recall      F1  AUC_ROC  Lift_Score  Stability\n",
              "0   SVM    0.9900     0.9948  0.9896  0.9922   0.9996    1.000000          1\n",
              "1    DT    0.9733     0.9695  0.9896  0.9795   0.9964    0.906566          1\n",
              "2   KNN    0.8033     0.9085  0.7720  0.8347   0.8687    0.766324          0\n",
              "3   XGB    0.9800     0.9746  0.9948  0.9846   0.9997    0.859848          0\n",
              "4   MNB    0.9500     0.9684  0.9534  0.9608   0.9888    0.813131          0\n",
              "5   MLP    0.9733     0.9648  0.9948  0.9796   0.9984    0.953283          0\n",
              "6    RF    0.9733     0.9695  0.9896  0.9795   0.9983    0.906566          0\n",
              "7    LR    0.9967     1.0000  0.9948  0.9974   1.0000    1.000000          1"
            ],
            "text/html": [
              "\n",
              "  <div id=\"df-dd4699b3-b00e-469f-aa35-e9ab3aa376e9\">\n",
              "    <div class=\"colab-df-container\">\n",
              "      <div>\n",
              "<style scoped>\n",
              "    .dataframe tbody tr th:only-of-type {\n",
              "        vertical-align: middle;\n",
              "    }\n",
              "\n",
              "    .dataframe tbody tr th {\n",
              "        vertical-align: top;\n",
              "    }\n",
              "\n",
              "    .dataframe thead th {\n",
              "        text-align: right;\n",
              "    }\n",
              "</style>\n",
              "<table border=\"1\" class=\"dataframe\">\n",
              "  <thead>\n",
              "    <tr style=\"text-align: right;\">\n",
              "      <th></th>\n",
              "      <th>Model</th>\n",
              "      <th>Accuracy</th>\n",
              "      <th>Precision</th>\n",
              "      <th>Recall</th>\n",
              "      <th>F1</th>\n",
              "      <th>AUC_ROC</th>\n",
              "      <th>Lift_Score</th>\n",
              "      <th>Stability</th>\n",
              "    </tr>\n",
              "  </thead>\n",
              "  <tbody>\n",
              "    <tr>\n",
              "      <th>0</th>\n",
              "      <td>SVM</td>\n",
              "      <td>0.9900</td>\n",
              "      <td>0.9948</td>\n",
              "      <td>0.9896</td>\n",
              "      <td>0.9922</td>\n",
              "      <td>0.9996</td>\n",
              "      <td>1.000000</td>\n",
              "      <td>1</td>\n",
              "    </tr>\n",
              "    <tr>\n",
              "      <th>1</th>\n",
              "      <td>DT</td>\n",
              "      <td>0.9733</td>\n",
              "      <td>0.9695</td>\n",
              "      <td>0.9896</td>\n",
              "      <td>0.9795</td>\n",
              "      <td>0.9964</td>\n",
              "      <td>0.906566</td>\n",
              "      <td>1</td>\n",
              "    </tr>\n",
              "    <tr>\n",
              "      <th>2</th>\n",
              "      <td>KNN</td>\n",
              "      <td>0.8033</td>\n",
              "      <td>0.9085</td>\n",
              "      <td>0.7720</td>\n",
              "      <td>0.8347</td>\n",
              "      <td>0.8687</td>\n",
              "      <td>0.766324</td>\n",
              "      <td>0</td>\n",
              "    </tr>\n",
              "    <tr>\n",
              "      <th>3</th>\n",
              "      <td>XGB</td>\n",
              "      <td>0.9800</td>\n",
              "      <td>0.9746</td>\n",
              "      <td>0.9948</td>\n",
              "      <td>0.9846</td>\n",
              "      <td>0.9997</td>\n",
              "      <td>0.859848</td>\n",
              "      <td>0</td>\n",
              "    </tr>\n",
              "    <tr>\n",
              "      <th>4</th>\n",
              "      <td>MNB</td>\n",
              "      <td>0.9500</td>\n",
              "      <td>0.9684</td>\n",
              "      <td>0.9534</td>\n",
              "      <td>0.9608</td>\n",
              "      <td>0.9888</td>\n",
              "      <td>0.813131</td>\n",
              "      <td>0</td>\n",
              "    </tr>\n",
              "    <tr>\n",
              "      <th>5</th>\n",
              "      <td>MLP</td>\n",
              "      <td>0.9733</td>\n",
              "      <td>0.9648</td>\n",
              "      <td>0.9948</td>\n",
              "      <td>0.9796</td>\n",
              "      <td>0.9984</td>\n",
              "      <td>0.953283</td>\n",
              "      <td>0</td>\n",
              "    </tr>\n",
              "    <tr>\n",
              "      <th>6</th>\n",
              "      <td>RF</td>\n",
              "      <td>0.9733</td>\n",
              "      <td>0.9695</td>\n",
              "      <td>0.9896</td>\n",
              "      <td>0.9795</td>\n",
              "      <td>0.9983</td>\n",
              "      <td>0.906566</td>\n",
              "      <td>0</td>\n",
              "    </tr>\n",
              "    <tr>\n",
              "      <th>7</th>\n",
              "      <td>LR</td>\n",
              "      <td>0.9967</td>\n",
              "      <td>1.0000</td>\n",
              "      <td>0.9948</td>\n",
              "      <td>0.9974</td>\n",
              "      <td>1.0000</td>\n",
              "      <td>1.000000</td>\n",
              "      <td>1</td>\n",
              "    </tr>\n",
              "  </tbody>\n",
              "</table>\n",
              "</div>\n",
              "      <button class=\"colab-df-convert\" onclick=\"convertToInteractive('df-dd4699b3-b00e-469f-aa35-e9ab3aa376e9')\"\n",
              "              title=\"Convert this dataframe to an interactive table.\"\n",
              "              style=\"display:none;\">\n",
              "        \n",
              "  <svg xmlns=\"http://www.w3.org/2000/svg\" height=\"24px\"viewBox=\"0 0 24 24\"\n",
              "       width=\"24px\">\n",
              "    <path d=\"M0 0h24v24H0V0z\" fill=\"none\"/>\n",
              "    <path d=\"M18.56 5.44l.94 2.06.94-2.06 2.06-.94-2.06-.94-.94-2.06-.94 2.06-2.06.94zm-11 1L8.5 8.5l.94-2.06 2.06-.94-2.06-.94L8.5 2.5l-.94 2.06-2.06.94zm10 10l.94 2.06.94-2.06 2.06-.94-2.06-.94-.94-2.06-.94 2.06-2.06.94z\"/><path d=\"M17.41 7.96l-1.37-1.37c-.4-.4-.92-.59-1.43-.59-.52 0-1.04.2-1.43.59L10.3 9.45l-7.72 7.72c-.78.78-.78 2.05 0 2.83L4 21.41c.39.39.9.59 1.41.59.51 0 1.02-.2 1.41-.59l7.78-7.78 2.81-2.81c.8-.78.8-2.07 0-2.86zM5.41 20L4 18.59l7.72-7.72 1.47 1.35L5.41 20z\"/>\n",
              "  </svg>\n",
              "      </button>\n",
              "      \n",
              "  <style>\n",
              "    .colab-df-container {\n",
              "      display:flex;\n",
              "      flex-wrap:wrap;\n",
              "      gap: 12px;\n",
              "    }\n",
              "\n",
              "    .colab-df-convert {\n",
              "      background-color: #E8F0FE;\n",
              "      border: none;\n",
              "      border-radius: 50%;\n",
              "      cursor: pointer;\n",
              "      display: none;\n",
              "      fill: #1967D2;\n",
              "      height: 32px;\n",
              "      padding: 0 0 0 0;\n",
              "      width: 32px;\n",
              "    }\n",
              "\n",
              "    .colab-df-convert:hover {\n",
              "      background-color: #E2EBFA;\n",
              "      box-shadow: 0px 1px 2px rgba(60, 64, 67, 0.3), 0px 1px 3px 1px rgba(60, 64, 67, 0.15);\n",
              "      fill: #174EA6;\n",
              "    }\n",
              "\n",
              "    [theme=dark] .colab-df-convert {\n",
              "      background-color: #3B4455;\n",
              "      fill: #D2E3FC;\n",
              "    }\n",
              "\n",
              "    [theme=dark] .colab-df-convert:hover {\n",
              "      background-color: #434B5C;\n",
              "      box-shadow: 0px 1px 3px 1px rgba(0, 0, 0, 0.15);\n",
              "      filter: drop-shadow(0px 1px 2px rgba(0, 0, 0, 0.3));\n",
              "      fill: #FFFFFF;\n",
              "    }\n",
              "  </style>\n",
              "\n",
              "      <script>\n",
              "        const buttonEl =\n",
              "          document.querySelector('#df-dd4699b3-b00e-469f-aa35-e9ab3aa376e9 button.colab-df-convert');\n",
              "        buttonEl.style.display =\n",
              "          google.colab.kernel.accessAllowed ? 'block' : 'none';\n",
              "\n",
              "        async function convertToInteractive(key) {\n",
              "          const element = document.querySelector('#df-dd4699b3-b00e-469f-aa35-e9ab3aa376e9');\n",
              "          const dataTable =\n",
              "            await google.colab.kernel.invokeFunction('convertToInteractive',\n",
              "                                                     [key], {});\n",
              "          if (!dataTable) return;\n",
              "\n",
              "          const docLinkHtml = 'Like what you see? Visit the ' +\n",
              "            '<a target=\"_blank\" href=https://colab.research.google.com/notebooks/data_table.ipynb>data table notebook</a>'\n",
              "            + ' to learn more about interactive tables.';\n",
              "          element.innerHTML = '';\n",
              "          dataTable['output_type'] = 'display_data';\n",
              "          await google.colab.output.renderOutput(dataTable, element);\n",
              "          const docLink = document.createElement('div');\n",
              "          docLink.innerHTML = docLinkHtml;\n",
              "          element.appendChild(docLink);\n",
              "        }\n",
              "      </script>\n",
              "    </div>\n",
              "  </div>\n",
              "  "
            ]
          },
          "metadata": {},
          "execution_count": 48
        }
      ]
    },
    {
      "cell_type": "markdown",
      "source": [
        "### Lift Check for Yuri\n",
        "Lift at the 3rd decile"
      ],
      "metadata": {
        "id": "e83yth-ntLir"
      }
    },
    {
      "cell_type": "code",
      "source": [
        "# Create function for calculating lift for all models\n",
        "def lift_cal(y_pred, decile):\n",
        "  lift_table = kds.metrics.decile_table(y_test, y_pred.round())\n",
        "  lift_table['lift_value'] = (lift_table['cum_resp_pct'] - lift_table['cum_cust_pct'])/(lift_table['cum_resp_pct_wiz'] - lift_table['cum_cust_pct'])\n",
        "  third_lift_value = lift_table[lift_table['decile'] == decile]['lift_value'].values[0]\n",
        "  print(lift_table)\n",
        "  print('-----------------------')\n",
        "  print('The lift value of decile_%1i is %4.3f.' %(decile, third_lift_value))\n",
        "  return lift_table"
      ],
      "metadata": {
        "id": "yMF1gVaCtK1Y"
      },
      "execution_count": 49,
      "outputs": []
    },
    {
      "cell_type": "code",
      "source": [
        "lift_table_svm = lift_cal(y_pred_svm, 3)"
      ],
      "metadata": {
        "colab": {
          "base_uri": "https://localhost:8080/"
        },
        "id": "b9tAo4-nujYV",
        "outputId": "6726ab2b-9f60-4735-cb65-a187c0240ed5"
      },
      "execution_count": 50,
      "outputs": [
        {
          "output_type": "stream",
          "name": "stdout",
          "text": [
            "LABELS INFO:\n",
            "\n",
            " prob_min         : Minimum probability in a particular decile\n",
            " prob_max         : Minimum probability in a particular decile\n",
            " prob_avg         : Average probability in a particular decile\n",
            " cnt_events       : Count of events in a particular decile\n",
            " cnt_resp         : Count of responders in a particular decile\n",
            " cnt_non_resp     : Count of non-responders in a particular decile\n",
            " cnt_resp_rndm    : Count of responders if events assigned randomly in a particular decile\n",
            " cnt_resp_wiz     : Count of best possible responders in a particular decile\n",
            " resp_rate        : Response Rate in a particular decile [(cnt_resp/cnt_cust)*100]\n",
            " cum_events       : Cumulative sum of events decile-wise \n",
            " cum_resp         : Cumulative sum of responders decile-wise \n",
            " cum_resp_wiz     : Cumulative sum of best possible responders decile-wise \n",
            " cum_non_resp     : Cumulative sum of non-responders decile-wise \n",
            " cum_events_pct   : Cumulative sum of percentages of events decile-wise \n",
            " cum_resp_pct     : Cumulative sum of percentages of responders decile-wise \n",
            " cum_resp_pct_wiz : Cumulative sum of percentages of best possible responders decile-wise \n",
            " cum_non_resp_pct : Cumulative sum of percentages of non-responders decile-wise \n",
            " KS               : KS Statistic decile-wise \n",
            " lift             : Cumuative Lift Value decile-wise\n",
            "   decile  prob_min  prob_max  prob_avg  cnt_cust  cnt_resp  cnt_non_resp  \\\n",
            "0       1       1.0       1.0       1.0      30.0      30.0           0.0   \n",
            "1       2       1.0       1.0       1.0      30.0      30.0           0.0   \n",
            "2       3       1.0       1.0       1.0      30.0      30.0           0.0   \n",
            "3       4       1.0       1.0       1.0      30.0      30.0           0.0   \n",
            "4       5       1.0       1.0       1.0      30.0      29.0           1.0   \n",
            "5       6       1.0       1.0       1.0      30.0      30.0           0.0   \n",
            "6       7       0.0       1.0       0.4      30.0      13.0          17.0   \n",
            "7       8       0.0       0.0       0.0      30.0       0.0          30.0   \n",
            "8       9       0.0       0.0       0.0      30.0       1.0          29.0   \n",
            "9      10       0.0       0.0       0.0      30.0       0.0          30.0   \n",
            "\n",
            "   cnt_resp_rndm  cnt_resp_wiz  resp_rate  cum_cust  cum_resp  cum_resp_wiz  \\\n",
            "0           19.3            30    100.000      30.0      30.0            30   \n",
            "1           19.3            30    100.000      60.0      60.0            60   \n",
            "2           19.3            30    100.000      90.0      90.0            90   \n",
            "3           19.3            30    100.000     120.0     120.0           120   \n",
            "4           19.3            30     96.667     150.0     149.0           150   \n",
            "5           19.3            30    100.000     180.0     179.0           180   \n",
            "6           19.3            13     43.333     210.0     192.0           193   \n",
            "7           19.3             0      0.000     240.0     192.0           193   \n",
            "8           19.3             0      3.333     270.0     193.0           193   \n",
            "9           19.3             0      0.000     300.0     193.0           193   \n",
            "\n",
            "   cum_non_resp  cum_cust_pct  cum_resp_pct  cum_resp_pct_wiz  \\\n",
            "0           0.0          10.0        15.544            15.544   \n",
            "1           0.0          20.0        31.088            31.088   \n",
            "2           0.0          30.0        46.632            46.632   \n",
            "3           0.0          40.0        62.176            62.176   \n",
            "4           1.0          50.0        77.202            77.720   \n",
            "5           1.0          60.0        92.746            93.264   \n",
            "6          18.0          70.0        99.482           100.000   \n",
            "7          48.0          80.0        99.482           100.000   \n",
            "8          77.0          90.0       100.000           100.000   \n",
            "9         107.0         100.0       100.000           100.000   \n",
            "\n",
            "   cum_non_resp_pct      KS   lift  lift_value  \n",
            "0             0.000  15.544  1.554    1.000000  \n",
            "1             0.000  31.088  1.554    1.000000  \n",
            "2             0.000  46.632  1.554    1.000000  \n",
            "3             0.000  62.176  1.554    1.000000  \n",
            "4             0.935  76.267  1.544    0.981313  \n",
            "5             0.935  91.811  1.546    0.984428  \n",
            "6            16.822  82.660  1.421    0.982733  \n",
            "7            44.860  54.622  1.244    0.974100  \n",
            "8            71.963  28.037  1.111    1.000000  \n",
            "9           100.000   0.000  1.000         NaN  \n",
            "-----------------------\n",
            "The lift value of decile_3 is 1.000.\n"
          ]
        }
      ]
    },
    {
      "cell_type": "code",
      "source": [
        "lift_table_dt = lift_cal(y_pred_dt, 3)"
      ],
      "metadata": {
        "colab": {
          "base_uri": "https://localhost:8080/"
        },
        "id": "xHnHgPkDvGg-",
        "outputId": "3ebb93c5-983f-4c67-880f-2096faeaff6e"
      },
      "execution_count": 51,
      "outputs": [
        {
          "output_type": "stream",
          "name": "stdout",
          "text": [
            "LABELS INFO:\n",
            "\n",
            " prob_min         : Minimum probability in a particular decile\n",
            " prob_max         : Minimum probability in a particular decile\n",
            " prob_avg         : Average probability in a particular decile\n",
            " cnt_events       : Count of events in a particular decile\n",
            " cnt_resp         : Count of responders in a particular decile\n",
            " cnt_non_resp     : Count of non-responders in a particular decile\n",
            " cnt_resp_rndm    : Count of responders if events assigned randomly in a particular decile\n",
            " cnt_resp_wiz     : Count of best possible responders in a particular decile\n",
            " resp_rate        : Response Rate in a particular decile [(cnt_resp/cnt_cust)*100]\n",
            " cum_events       : Cumulative sum of events decile-wise \n",
            " cum_resp         : Cumulative sum of responders decile-wise \n",
            " cum_resp_wiz     : Cumulative sum of best possible responders decile-wise \n",
            " cum_non_resp     : Cumulative sum of non-responders decile-wise \n",
            " cum_events_pct   : Cumulative sum of percentages of events decile-wise \n",
            " cum_resp_pct     : Cumulative sum of percentages of responders decile-wise \n",
            " cum_resp_pct_wiz : Cumulative sum of percentages of best possible responders decile-wise \n",
            " cum_non_resp_pct : Cumulative sum of percentages of non-responders decile-wise \n",
            " KS               : KS Statistic decile-wise \n",
            " lift             : Cumuative Lift Value decile-wise\n",
            "   decile  prob_min  prob_max  prob_avg  cnt_cust  cnt_resp  cnt_non_resp  \\\n",
            "0       1       1.0       1.0     1.000      30.0      29.0           1.0   \n",
            "1       2       1.0       1.0     1.000      30.0      29.0           1.0   \n",
            "2       3       1.0       1.0     1.000      30.0      29.0           1.0   \n",
            "3       4       1.0       1.0     1.000      30.0      29.0           1.0   \n",
            "4       5       1.0       1.0     1.000      30.0      28.0           2.0   \n",
            "5       6       1.0       1.0     1.000      30.0      30.0           0.0   \n",
            "6       7       0.0       1.0     0.567      30.0      17.0          13.0   \n",
            "7       8       0.0       0.0     0.000      30.0       0.0          30.0   \n",
            "8       9       0.0       0.0     0.000      30.0       0.0          30.0   \n",
            "9      10       0.0       0.0     0.000      30.0       2.0          28.0   \n",
            "\n",
            "   cnt_resp_rndm  cnt_resp_wiz  resp_rate  cum_cust  cum_resp  cum_resp_wiz  \\\n",
            "0           19.3            30     96.667      30.0      29.0            30   \n",
            "1           19.3            30     96.667      60.0      58.0            60   \n",
            "2           19.3            30     96.667      90.0      87.0            90   \n",
            "3           19.3            30     96.667     120.0     116.0           120   \n",
            "4           19.3            30     93.333     150.0     144.0           150   \n",
            "5           19.3            30    100.000     180.0     174.0           180   \n",
            "6           19.3            13     56.667     210.0     191.0           193   \n",
            "7           19.3             0      0.000     240.0     191.0           193   \n",
            "8           19.3             0      0.000     270.0     191.0           193   \n",
            "9           19.3             0      6.667     300.0     193.0           193   \n",
            "\n",
            "   cum_non_resp  cum_cust_pct  cum_resp_pct  cum_resp_pct_wiz  \\\n",
            "0           1.0          10.0        15.026            15.544   \n",
            "1           2.0          20.0        30.052            31.088   \n",
            "2           3.0          30.0        45.078            46.632   \n",
            "3           4.0          40.0        60.104            62.176   \n",
            "4           6.0          50.0        74.611            77.720   \n",
            "5           6.0          60.0        90.155            93.264   \n",
            "6          19.0          70.0        98.964           100.000   \n",
            "7          49.0          80.0        98.964           100.000   \n",
            "8          79.0          90.0        98.964           100.000   \n",
            "9         107.0         100.0       100.000           100.000   \n",
            "\n",
            "   cum_non_resp_pct      KS   lift  lift_value  \n",
            "0             0.935  14.091  1.503    0.906566  \n",
            "1             1.869  28.183  1.503    0.906566  \n",
            "2             2.804  42.274  1.503    0.906566  \n",
            "3             3.738  56.366  1.503    0.906566  \n",
            "4             5.607  69.004  1.492    0.887843  \n",
            "5             5.607  84.548  1.503    0.906536  \n",
            "6            17.757  81.207  1.414    0.965467  \n",
            "7            45.794  53.170  1.237    0.948200  \n",
            "8            73.832  25.132  1.100    0.896400  \n",
            "9           100.000   0.000  1.000         NaN  \n",
            "-----------------------\n",
            "The lift value of decile_3 is 0.907.\n"
          ]
        }
      ]
    },
    {
      "cell_type": "code",
      "source": [
        "lift_table_knn = lift_cal(y_pred_knn, 3)"
      ],
      "metadata": {
        "colab": {
          "base_uri": "https://localhost:8080/"
        },
        "id": "zi64yA1RvJwe",
        "outputId": "0d095378-5cbc-4420-ea72-cd475cb9f479"
      },
      "execution_count": 52,
      "outputs": [
        {
          "output_type": "stream",
          "name": "stdout",
          "text": [
            "LABELS INFO:\n",
            "\n",
            " prob_min         : Minimum probability in a particular decile\n",
            " prob_max         : Minimum probability in a particular decile\n",
            " prob_avg         : Average probability in a particular decile\n",
            " cnt_events       : Count of events in a particular decile\n",
            " cnt_resp         : Count of responders in a particular decile\n",
            " cnt_non_resp     : Count of non-responders in a particular decile\n",
            " cnt_resp_rndm    : Count of responders if events assigned randomly in a particular decile\n",
            " cnt_resp_wiz     : Count of best possible responders in a particular decile\n",
            " resp_rate        : Response Rate in a particular decile [(cnt_resp/cnt_cust)*100]\n",
            " cum_events       : Cumulative sum of events decile-wise \n",
            " cum_resp         : Cumulative sum of responders decile-wise \n",
            " cum_resp_wiz     : Cumulative sum of best possible responders decile-wise \n",
            " cum_non_resp     : Cumulative sum of non-responders decile-wise \n",
            " cum_events_pct   : Cumulative sum of percentages of events decile-wise \n",
            " cum_resp_pct     : Cumulative sum of percentages of responders decile-wise \n",
            " cum_resp_pct_wiz : Cumulative sum of percentages of best possible responders decile-wise \n",
            " cum_non_resp_pct : Cumulative sum of percentages of non-responders decile-wise \n",
            " KS               : KS Statistic decile-wise \n",
            " lift             : Cumuative Lift Value decile-wise\n",
            "   decile  prob_min  prob_max  prob_avg  cnt_cust  cnt_resp  cnt_non_resp  \\\n",
            "0       1       1.0       1.0     1.000      30.0      26.0           4.0   \n",
            "1       2       1.0       1.0     1.000      30.0      29.0           1.0   \n",
            "2       3       1.0       1.0     1.000      30.0      28.0           2.0   \n",
            "3       4       1.0       1.0     1.000      30.0      25.0           5.0   \n",
            "4       5       1.0       1.0     1.000      30.0      27.0           3.0   \n",
            "5       6       0.0       1.0     0.467      30.0      16.0          14.0   \n",
            "6       7       0.0       0.0     0.000      30.0       8.0          22.0   \n",
            "7       8       0.0       0.0     0.000      30.0      11.0          19.0   \n",
            "8       9       0.0       0.0     0.000      30.0       8.0          22.0   \n",
            "9      10       0.0       0.0     0.000      30.0      15.0          15.0   \n",
            "\n",
            "   cnt_resp_rndm  cnt_resp_wiz  resp_rate  cum_cust  cum_resp  cum_resp_wiz  \\\n",
            "0           19.3            30     86.667      30.0      26.0            30   \n",
            "1           19.3            30     96.667      60.0      55.0            60   \n",
            "2           19.3            30     93.333      90.0      83.0            90   \n",
            "3           19.3            30     83.333     120.0     108.0           120   \n",
            "4           19.3            30     90.000     150.0     135.0           150   \n",
            "5           19.3            30     53.333     180.0     151.0           180   \n",
            "6           19.3            13     26.667     210.0     159.0           193   \n",
            "7           19.3             0     36.667     240.0     170.0           193   \n",
            "8           19.3             0     26.667     270.0     178.0           193   \n",
            "9           19.3             0     50.000     300.0     193.0           193   \n",
            "\n",
            "   cum_non_resp  cum_cust_pct  cum_resp_pct  cum_resp_pct_wiz  \\\n",
            "0           4.0          10.0        13.472            15.544   \n",
            "1           5.0          20.0        28.497            31.088   \n",
            "2           7.0          30.0        43.005            46.632   \n",
            "3          12.0          40.0        55.959            62.176   \n",
            "4          15.0          50.0        69.948            77.720   \n",
            "5          29.0          60.0        78.238            93.264   \n",
            "6          51.0          70.0        82.383           100.000   \n",
            "7          70.0          80.0        88.083           100.000   \n",
            "8          92.0          90.0        92.228           100.000   \n",
            "9         107.0         100.0       100.000           100.000   \n",
            "\n",
            "   cum_non_resp_pct      KS   lift  lift_value  \n",
            "0             3.738   9.734  1.347    0.626263  \n",
            "1             4.673  23.824  1.425    0.766324  \n",
            "2             6.542  36.463  1.434    0.781926  \n",
            "3            11.215  44.744  1.399    0.719652  \n",
            "4            14.019  55.929  1.399    0.719625  \n",
            "5            27.103  51.135  1.304    0.548280  \n",
            "6            47.664  34.719  1.177    0.412767  \n",
            "7            65.421  22.662  1.101    0.404150  \n",
            "8            85.981   6.247  1.025    0.222800  \n",
            "9           100.000   0.000  1.000         NaN  \n",
            "-----------------------\n",
            "The lift value of decile_3 is 0.782.\n"
          ]
        }
      ]
    },
    {
      "cell_type": "code",
      "source": [
        "lift_table_xgb = lift_cal(y_pred_xgb, 3)"
      ],
      "metadata": {
        "colab": {
          "base_uri": "https://localhost:8080/"
        },
        "id": "ExeY1GnKyv1_",
        "outputId": "dbe7d0f6-40d1-485a-cfa0-aea2047ec165"
      },
      "execution_count": 53,
      "outputs": [
        {
          "output_type": "stream",
          "name": "stdout",
          "text": [
            "LABELS INFO:\n",
            "\n",
            " prob_min         : Minimum probability in a particular decile\n",
            " prob_max         : Minimum probability in a particular decile\n",
            " prob_avg         : Average probability in a particular decile\n",
            " cnt_events       : Count of events in a particular decile\n",
            " cnt_resp         : Count of responders in a particular decile\n",
            " cnt_non_resp     : Count of non-responders in a particular decile\n",
            " cnt_resp_rndm    : Count of responders if events assigned randomly in a particular decile\n",
            " cnt_resp_wiz     : Count of best possible responders in a particular decile\n",
            " resp_rate        : Response Rate in a particular decile [(cnt_resp/cnt_cust)*100]\n",
            " cum_events       : Cumulative sum of events decile-wise \n",
            " cum_resp         : Cumulative sum of responders decile-wise \n",
            " cum_resp_wiz     : Cumulative sum of best possible responders decile-wise \n",
            " cum_non_resp     : Cumulative sum of non-responders decile-wise \n",
            " cum_events_pct   : Cumulative sum of percentages of events decile-wise \n",
            " cum_resp_pct     : Cumulative sum of percentages of responders decile-wise \n",
            " cum_resp_pct_wiz : Cumulative sum of percentages of best possible responders decile-wise \n",
            " cum_non_resp_pct : Cumulative sum of percentages of non-responders decile-wise \n",
            " KS               : KS Statistic decile-wise \n",
            " lift             : Cumuative Lift Value decile-wise\n",
            "   decile  prob_min  prob_max  prob_avg  cnt_cust  cnt_resp  cnt_non_resp  \\\n",
            "0       1       1.0       1.0     1.000      30.0      28.0           2.0   \n",
            "1       2       1.0       1.0     1.000      30.0      29.0           1.0   \n",
            "2       3       1.0       1.0     1.000      30.0      29.0           1.0   \n",
            "3       4       1.0       1.0     1.000      30.0      30.0           0.0   \n",
            "4       5       1.0       1.0     1.000      30.0      30.0           0.0   \n",
            "5       6       1.0       1.0     1.000      30.0      29.0           1.0   \n",
            "6       7       0.0       1.0     0.567      30.0      17.0          13.0   \n",
            "7       8       0.0       0.0     0.000      30.0       0.0          30.0   \n",
            "8       9       0.0       0.0     0.000      30.0       0.0          30.0   \n",
            "9      10       0.0       0.0     0.000      30.0       1.0          29.0   \n",
            "\n",
            "   cnt_resp_rndm  cnt_resp_wiz  resp_rate  cum_cust  cum_resp  cum_resp_wiz  \\\n",
            "0           19.3            30     93.333      30.0      28.0            30   \n",
            "1           19.3            30     96.667      60.0      57.0            60   \n",
            "2           19.3            30     96.667      90.0      86.0            90   \n",
            "3           19.3            30    100.000     120.0     116.0           120   \n",
            "4           19.3            30    100.000     150.0     146.0           150   \n",
            "5           19.3            30     96.667     180.0     175.0           180   \n",
            "6           19.3            13     56.667     210.0     192.0           193   \n",
            "7           19.3             0      0.000     240.0     192.0           193   \n",
            "8           19.3             0      0.000     270.0     192.0           193   \n",
            "9           19.3             0      3.333     300.0     193.0           193   \n",
            "\n",
            "   cum_non_resp  cum_cust_pct  cum_resp_pct  cum_resp_pct_wiz  \\\n",
            "0           2.0          10.0        14.508            15.544   \n",
            "1           3.0          20.0        29.534            31.088   \n",
            "2           4.0          30.0        44.560            46.632   \n",
            "3           4.0          40.0        60.104            62.176   \n",
            "4           4.0          50.0        75.648            77.720   \n",
            "5           5.0          60.0        90.674            93.264   \n",
            "6          18.0          70.0        99.482           100.000   \n",
            "7          48.0          80.0        99.482           100.000   \n",
            "8          78.0          90.0        99.482           100.000   \n",
            "9         107.0         100.0       100.000           100.000   \n",
            "\n",
            "   cum_non_resp_pct      KS   lift  lift_value  \n",
            "0             1.869  12.639  1.451    0.813131  \n",
            "1             2.804  26.730  1.477    0.859848  \n",
            "2             3.738  40.822  1.485    0.875421  \n",
            "3             3.738  56.366  1.503    0.906566  \n",
            "4             3.738  71.910  1.513    0.925253  \n",
            "5             4.673  86.001  1.511    0.922138  \n",
            "6            16.822  82.660  1.421    0.982733  \n",
            "7            44.860  54.622  1.244    0.974100  \n",
            "8            72.897  26.585  1.105    0.948200  \n",
            "9           100.000   0.000  1.000         NaN  \n",
            "-----------------------\n",
            "The lift value of decile_3 is 0.875.\n"
          ]
        }
      ]
    },
    {
      "cell_type": "code",
      "source": [
        "lift_table_mnb = lift_cal(y_pred_mnb, 3)"
      ],
      "metadata": {
        "colab": {
          "base_uri": "https://localhost:8080/"
        },
        "id": "omZkqMpazBd3",
        "outputId": "9ae2e8a0-48cd-46cc-a6b4-ee761878b016"
      },
      "execution_count": 54,
      "outputs": [
        {
          "output_type": "stream",
          "name": "stdout",
          "text": [
            "LABELS INFO:\n",
            "\n",
            " prob_min         : Minimum probability in a particular decile\n",
            " prob_max         : Minimum probability in a particular decile\n",
            " prob_avg         : Average probability in a particular decile\n",
            " cnt_events       : Count of events in a particular decile\n",
            " cnt_resp         : Count of responders in a particular decile\n",
            " cnt_non_resp     : Count of non-responders in a particular decile\n",
            " cnt_resp_rndm    : Count of responders if events assigned randomly in a particular decile\n",
            " cnt_resp_wiz     : Count of best possible responders in a particular decile\n",
            " resp_rate        : Response Rate in a particular decile [(cnt_resp/cnt_cust)*100]\n",
            " cum_events       : Cumulative sum of events decile-wise \n",
            " cum_resp         : Cumulative sum of responders decile-wise \n",
            " cum_resp_wiz     : Cumulative sum of best possible responders decile-wise \n",
            " cum_non_resp     : Cumulative sum of non-responders decile-wise \n",
            " cum_events_pct   : Cumulative sum of percentages of events decile-wise \n",
            " cum_resp_pct     : Cumulative sum of percentages of responders decile-wise \n",
            " cum_resp_pct_wiz : Cumulative sum of percentages of best possible responders decile-wise \n",
            " cum_non_resp_pct : Cumulative sum of percentages of non-responders decile-wise \n",
            " KS               : KS Statistic decile-wise \n",
            " lift             : Cumuative Lift Value decile-wise\n",
            "   decile  prob_min  prob_max  prob_avg  cnt_cust  cnt_resp  cnt_non_resp  \\\n",
            "0       1       1.0       1.0     1.000      30.0      27.0           3.0   \n",
            "1       2       1.0       1.0     1.000      30.0      29.0           1.0   \n",
            "2       3       1.0       1.0     1.000      30.0      29.0           1.0   \n",
            "3       4       1.0       1.0     1.000      30.0      30.0           0.0   \n",
            "4       5       1.0       1.0     1.000      30.0      30.0           0.0   \n",
            "5       6       1.0       1.0     1.000      30.0      29.0           1.0   \n",
            "6       7       0.0       1.0     0.333      30.0      11.0          19.0   \n",
            "7       8       0.0       0.0     0.000      30.0       2.0          28.0   \n",
            "8       9       0.0       0.0     0.000      30.0       2.0          28.0   \n",
            "9      10       0.0       0.0     0.000      30.0       4.0          26.0   \n",
            "\n",
            "   cnt_resp_rndm  cnt_resp_wiz  resp_rate  cum_cust  cum_resp  cum_resp_wiz  \\\n",
            "0           19.3            30     90.000      30.0      27.0            30   \n",
            "1           19.3            30     96.667      60.0      56.0            60   \n",
            "2           19.3            30     96.667      90.0      85.0            90   \n",
            "3           19.3            30    100.000     120.0     115.0           120   \n",
            "4           19.3            30    100.000     150.0     145.0           150   \n",
            "5           19.3            30     96.667     180.0     174.0           180   \n",
            "6           19.3            13     36.667     210.0     185.0           193   \n",
            "7           19.3             0      6.667     240.0     187.0           193   \n",
            "8           19.3             0      6.667     270.0     189.0           193   \n",
            "9           19.3             0     13.333     300.0     193.0           193   \n",
            "\n",
            "   cum_non_resp  cum_cust_pct  cum_resp_pct  cum_resp_pct_wiz  \\\n",
            "0           3.0          10.0        13.990            15.544   \n",
            "1           4.0          20.0        29.016            31.088   \n",
            "2           5.0          30.0        44.041            46.632   \n",
            "3           5.0          40.0        59.585            62.176   \n",
            "4           5.0          50.0        75.130            77.720   \n",
            "5           6.0          60.0        90.155            93.264   \n",
            "6          25.0          70.0        95.855           100.000   \n",
            "7          53.0          80.0        96.891           100.000   \n",
            "8          81.0          90.0        97.927           100.000   \n",
            "9         107.0         100.0       100.000           100.000   \n",
            "\n",
            "   cum_non_resp_pct      KS   lift  lift_value  \n",
            "0             2.804  11.186  1.399    0.719697  \n",
            "1             3.738  25.278  1.451    0.813131  \n",
            "2             4.673  39.368  1.468    0.844216  \n",
            "3             4.673  54.912  1.490    0.883162  \n",
            "4             4.673  70.457  1.503    0.906566  \n",
            "5             5.607  84.548  1.503    0.906536  \n",
            "6            23.364  72.491  1.369    0.861833  \n",
            "7            49.533  47.358  1.211    0.844550  \n",
            "8            75.701  22.226  1.088    0.792700  \n",
            "9           100.000   0.000  1.000         NaN  \n",
            "-----------------------\n",
            "The lift value of decile_3 is 0.844.\n"
          ]
        }
      ]
    },
    {
      "cell_type": "code",
      "source": [
        "lift_table_mlp = lift_cal(y_pred_mlp, 3)"
      ],
      "metadata": {
        "colab": {
          "base_uri": "https://localhost:8080/"
        },
        "id": "9THPcV0kzERH",
        "outputId": "88d71297-ce2e-446e-9358-cbacd7094157"
      },
      "execution_count": 55,
      "outputs": [
        {
          "output_type": "stream",
          "name": "stdout",
          "text": [
            "LABELS INFO:\n",
            "\n",
            " prob_min         : Minimum probability in a particular decile\n",
            " prob_max         : Minimum probability in a particular decile\n",
            " prob_avg         : Average probability in a particular decile\n",
            " cnt_events       : Count of events in a particular decile\n",
            " cnt_resp         : Count of responders in a particular decile\n",
            " cnt_non_resp     : Count of non-responders in a particular decile\n",
            " cnt_resp_rndm    : Count of responders if events assigned randomly in a particular decile\n",
            " cnt_resp_wiz     : Count of best possible responders in a particular decile\n",
            " resp_rate        : Response Rate in a particular decile [(cnt_resp/cnt_cust)*100]\n",
            " cum_events       : Cumulative sum of events decile-wise \n",
            " cum_resp         : Cumulative sum of responders decile-wise \n",
            " cum_resp_wiz     : Cumulative sum of best possible responders decile-wise \n",
            " cum_non_resp     : Cumulative sum of non-responders decile-wise \n",
            " cum_events_pct   : Cumulative sum of percentages of events decile-wise \n",
            " cum_resp_pct     : Cumulative sum of percentages of responders decile-wise \n",
            " cum_resp_pct_wiz : Cumulative sum of percentages of best possible responders decile-wise \n",
            " cum_non_resp_pct : Cumulative sum of percentages of non-responders decile-wise \n",
            " KS               : KS Statistic decile-wise \n",
            " lift             : Cumuative Lift Value decile-wise\n",
            "   decile  prob_min  prob_max  prob_avg  cnt_cust  cnt_resp  cnt_non_resp  \\\n",
            "0       1       1.0       1.0     1.000      30.0      29.0           1.0   \n",
            "1       2       1.0       1.0     1.000      30.0      30.0           0.0   \n",
            "2       3       1.0       1.0     1.000      30.0      29.0           1.0   \n",
            "3       4       1.0       1.0     1.000      30.0      29.0           1.0   \n",
            "4       5       1.0       1.0     1.000      30.0      29.0           1.0   \n",
            "5       6       1.0       1.0     1.000      30.0      27.0           3.0   \n",
            "6       7       0.0       1.0     0.633      30.0      19.0          11.0   \n",
            "7       8       0.0       0.0     0.000      30.0       0.0          30.0   \n",
            "8       9       0.0       0.0     0.000      30.0       1.0          29.0   \n",
            "9      10       0.0       0.0     0.000      30.0       0.0          30.0   \n",
            "\n",
            "   cnt_resp_rndm  cnt_resp_wiz  resp_rate  cum_cust  cum_resp  cum_resp_wiz  \\\n",
            "0           19.3            30     96.667      30.0      29.0            30   \n",
            "1           19.3            30    100.000      60.0      59.0            60   \n",
            "2           19.3            30     96.667      90.0      88.0            90   \n",
            "3           19.3            30     96.667     120.0     117.0           120   \n",
            "4           19.3            30     96.667     150.0     146.0           150   \n",
            "5           19.3            30     90.000     180.0     173.0           180   \n",
            "6           19.3            13     63.333     210.0     192.0           193   \n",
            "7           19.3             0      0.000     240.0     192.0           193   \n",
            "8           19.3             0      3.333     270.0     193.0           193   \n",
            "9           19.3             0      0.000     300.0     193.0           193   \n",
            "\n",
            "   cum_non_resp  cum_cust_pct  cum_resp_pct  cum_resp_pct_wiz  \\\n",
            "0           1.0          10.0        15.026            15.544   \n",
            "1           1.0          20.0        30.570            31.088   \n",
            "2           2.0          30.0        45.596            46.632   \n",
            "3           3.0          40.0        60.622            62.176   \n",
            "4           4.0          50.0        75.648            77.720   \n",
            "5           7.0          60.0        89.637            93.264   \n",
            "6          18.0          70.0        99.482           100.000   \n",
            "7          48.0          80.0        99.482           100.000   \n",
            "8          77.0          90.0       100.000           100.000   \n",
            "9         107.0         100.0       100.000           100.000   \n",
            "\n",
            "   cum_non_resp_pct      KS   lift  lift_value  \n",
            "0             0.935  14.091  1.503    0.906566  \n",
            "1             0.935  29.635  1.528    0.953283  \n",
            "2             1.869  43.727  1.520    0.937710  \n",
            "3             2.804  57.818  1.516    0.929924  \n",
            "4             3.738  71.910  1.513    0.925253  \n",
            "5             6.542  83.095  1.494    0.890963  \n",
            "6            16.822  82.660  1.421    0.982733  \n",
            "7            44.860  54.622  1.244    0.974100  \n",
            "8            71.963  28.037  1.111    1.000000  \n",
            "9           100.000   0.000  1.000         NaN  \n",
            "-----------------------\n",
            "The lift value of decile_3 is 0.938.\n"
          ]
        }
      ]
    },
    {
      "cell_type": "code",
      "source": [
        "lift_table_rf = lift_cal(y_pred_rf, 3)"
      ],
      "metadata": {
        "colab": {
          "base_uri": "https://localhost:8080/"
        },
        "id": "WF9uKhNdzIhq",
        "outputId": "97619301-54e9-460c-881b-d288a510f1f1"
      },
      "execution_count": 56,
      "outputs": [
        {
          "output_type": "stream",
          "name": "stdout",
          "text": [
            "LABELS INFO:\n",
            "\n",
            " prob_min         : Minimum probability in a particular decile\n",
            " prob_max         : Minimum probability in a particular decile\n",
            " prob_avg         : Average probability in a particular decile\n",
            " cnt_events       : Count of events in a particular decile\n",
            " cnt_resp         : Count of responders in a particular decile\n",
            " cnt_non_resp     : Count of non-responders in a particular decile\n",
            " cnt_resp_rndm    : Count of responders if events assigned randomly in a particular decile\n",
            " cnt_resp_wiz     : Count of best possible responders in a particular decile\n",
            " resp_rate        : Response Rate in a particular decile [(cnt_resp/cnt_cust)*100]\n",
            " cum_events       : Cumulative sum of events decile-wise \n",
            " cum_resp         : Cumulative sum of responders decile-wise \n",
            " cum_resp_wiz     : Cumulative sum of best possible responders decile-wise \n",
            " cum_non_resp     : Cumulative sum of non-responders decile-wise \n",
            " cum_events_pct   : Cumulative sum of percentages of events decile-wise \n",
            " cum_resp_pct     : Cumulative sum of percentages of responders decile-wise \n",
            " cum_resp_pct_wiz : Cumulative sum of percentages of best possible responders decile-wise \n",
            " cum_non_resp_pct : Cumulative sum of percentages of non-responders decile-wise \n",
            " KS               : KS Statistic decile-wise \n",
            " lift             : Cumuative Lift Value decile-wise\n",
            "   decile  prob_min  prob_max  prob_avg  cnt_cust  cnt_resp  cnt_non_resp  \\\n",
            "0       1       1.0       1.0     1.000      30.0      28.0           2.0   \n",
            "1       2       1.0       1.0     1.000      30.0      30.0           0.0   \n",
            "2       3       1.0       1.0     1.000      30.0      29.0           1.0   \n",
            "3       4       1.0       1.0     1.000      30.0      30.0           0.0   \n",
            "4       5       1.0       1.0     1.000      30.0      29.0           1.0   \n",
            "5       6       1.0       1.0     1.000      30.0      29.0           1.0   \n",
            "6       7       0.0       1.0     0.567      30.0      16.0          14.0   \n",
            "7       8       0.0       0.0     0.000      30.0       0.0          30.0   \n",
            "8       9       0.0       0.0     0.000      30.0       1.0          29.0   \n",
            "9      10       0.0       0.0     0.000      30.0       1.0          29.0   \n",
            "\n",
            "   cnt_resp_rndm  cnt_resp_wiz  resp_rate  cum_cust  cum_resp  cum_resp_wiz  \\\n",
            "0           19.3            30     93.333      30.0      28.0            30   \n",
            "1           19.3            30    100.000      60.0      58.0            60   \n",
            "2           19.3            30     96.667      90.0      87.0            90   \n",
            "3           19.3            30    100.000     120.0     117.0           120   \n",
            "4           19.3            30     96.667     150.0     146.0           150   \n",
            "5           19.3            30     96.667     180.0     175.0           180   \n",
            "6           19.3            13     53.333     210.0     191.0           193   \n",
            "7           19.3             0      0.000     240.0     191.0           193   \n",
            "8           19.3             0      3.333     270.0     192.0           193   \n",
            "9           19.3             0      3.333     300.0     193.0           193   \n",
            "\n",
            "   cum_non_resp  cum_cust_pct  cum_resp_pct  cum_resp_pct_wiz  \\\n",
            "0           2.0          10.0        14.508            15.544   \n",
            "1           2.0          20.0        30.052            31.088   \n",
            "2           3.0          30.0        45.078            46.632   \n",
            "3           3.0          40.0        60.622            62.176   \n",
            "4           4.0          50.0        75.648            77.720   \n",
            "5           5.0          60.0        90.674            93.264   \n",
            "6          19.0          70.0        98.964           100.000   \n",
            "7          49.0          80.0        98.964           100.000   \n",
            "8          78.0          90.0        99.482           100.000   \n",
            "9         107.0         100.0       100.000           100.000   \n",
            "\n",
            "   cum_non_resp_pct      KS   lift  lift_value  \n",
            "0             1.869  12.639  1.451    0.813131  \n",
            "1             1.869  28.183  1.503    0.906566  \n",
            "2             2.804  42.274  1.503    0.906566  \n",
            "3             2.804  57.818  1.516    0.929924  \n",
            "4             3.738  71.910  1.513    0.925253  \n",
            "5             4.673  86.001  1.511    0.922138  \n",
            "6            17.757  81.207  1.414    0.965467  \n",
            "7            45.794  53.170  1.237    0.948200  \n",
            "8            72.897  26.585  1.105    0.948200  \n",
            "9           100.000   0.000  1.000         NaN  \n",
            "-----------------------\n",
            "The lift value of decile_3 is 0.907.\n"
          ]
        }
      ]
    },
    {
      "cell_type": "code",
      "source": [
        "lift_table_lr = lift_cal(y_pred_lr, 3)"
      ],
      "metadata": {
        "colab": {
          "base_uri": "https://localhost:8080/"
        },
        "id": "2DwZ_YhqzK3O",
        "outputId": "19692f04-38ef-4676-e7c0-ed8b66ab6c27"
      },
      "execution_count": 57,
      "outputs": [
        {
          "output_type": "stream",
          "name": "stdout",
          "text": [
            "LABELS INFO:\n",
            "\n",
            " prob_min         : Minimum probability in a particular decile\n",
            " prob_max         : Minimum probability in a particular decile\n",
            " prob_avg         : Average probability in a particular decile\n",
            " cnt_events       : Count of events in a particular decile\n",
            " cnt_resp         : Count of responders in a particular decile\n",
            " cnt_non_resp     : Count of non-responders in a particular decile\n",
            " cnt_resp_rndm    : Count of responders if events assigned randomly in a particular decile\n",
            " cnt_resp_wiz     : Count of best possible responders in a particular decile\n",
            " resp_rate        : Response Rate in a particular decile [(cnt_resp/cnt_cust)*100]\n",
            " cum_events       : Cumulative sum of events decile-wise \n",
            " cum_resp         : Cumulative sum of responders decile-wise \n",
            " cum_resp_wiz     : Cumulative sum of best possible responders decile-wise \n",
            " cum_non_resp     : Cumulative sum of non-responders decile-wise \n",
            " cum_events_pct   : Cumulative sum of percentages of events decile-wise \n",
            " cum_resp_pct     : Cumulative sum of percentages of responders decile-wise \n",
            " cum_resp_pct_wiz : Cumulative sum of percentages of best possible responders decile-wise \n",
            " cum_non_resp_pct : Cumulative sum of percentages of non-responders decile-wise \n",
            " KS               : KS Statistic decile-wise \n",
            " lift             : Cumuative Lift Value decile-wise\n",
            "   decile  prob_min  prob_max  prob_avg  cnt_cust  cnt_resp  cnt_non_resp  \\\n",
            "0       1       1.0       1.0       1.0      30.0      30.0           0.0   \n",
            "1       2       1.0       1.0       1.0      30.0      30.0           0.0   \n",
            "2       3       1.0       1.0       1.0      30.0      30.0           0.0   \n",
            "3       4       1.0       1.0       1.0      30.0      30.0           0.0   \n",
            "4       5       1.0       1.0       1.0      30.0      30.0           0.0   \n",
            "5       6       1.0       1.0       1.0      30.0      30.0           0.0   \n",
            "6       7       0.0       1.0       0.4      30.0      12.0          18.0   \n",
            "7       8       0.0       0.0       0.0      30.0       0.0          30.0   \n",
            "8       9       0.0       0.0       0.0      30.0       1.0          29.0   \n",
            "9      10       0.0       0.0       0.0      30.0       0.0          30.0   \n",
            "\n",
            "   cnt_resp_rndm  cnt_resp_wiz  resp_rate  cum_cust  cum_resp  cum_resp_wiz  \\\n",
            "0           19.3            30    100.000      30.0      30.0            30   \n",
            "1           19.3            30    100.000      60.0      60.0            60   \n",
            "2           19.3            30    100.000      90.0      90.0            90   \n",
            "3           19.3            30    100.000     120.0     120.0           120   \n",
            "4           19.3            30    100.000     150.0     150.0           150   \n",
            "5           19.3            30    100.000     180.0     180.0           180   \n",
            "6           19.3            13     40.000     210.0     192.0           193   \n",
            "7           19.3             0      0.000     240.0     192.0           193   \n",
            "8           19.3             0      3.333     270.0     193.0           193   \n",
            "9           19.3             0      0.000     300.0     193.0           193   \n",
            "\n",
            "   cum_non_resp  cum_cust_pct  cum_resp_pct  cum_resp_pct_wiz  \\\n",
            "0           0.0          10.0        15.544            15.544   \n",
            "1           0.0          20.0        31.088            31.088   \n",
            "2           0.0          30.0        46.632            46.632   \n",
            "3           0.0          40.0        62.176            62.176   \n",
            "4           0.0          50.0        77.720            77.720   \n",
            "5           0.0          60.0        93.264            93.264   \n",
            "6          18.0          70.0        99.482           100.000   \n",
            "7          48.0          80.0        99.482           100.000   \n",
            "8          77.0          90.0       100.000           100.000   \n",
            "9         107.0         100.0       100.000           100.000   \n",
            "\n",
            "   cum_non_resp_pct      KS   lift  lift_value  \n",
            "0             0.000  15.544  1.554    1.000000  \n",
            "1             0.000  31.088  1.554    1.000000  \n",
            "2             0.000  46.632  1.554    1.000000  \n",
            "3             0.000  62.176  1.554    1.000000  \n",
            "4             0.000  77.720  1.554    1.000000  \n",
            "5             0.000  93.264  1.554    1.000000  \n",
            "6            16.822  82.660  1.421    0.982733  \n",
            "7            44.860  54.622  1.244    0.974100  \n",
            "8            71.963  28.037  1.111    1.000000  \n",
            "9           100.000   0.000  1.000         NaN  \n",
            "-----------------------\n",
            "The lift value of decile_3 is 1.000.\n"
          ]
        }
      ]
    },
    {
      "cell_type": "markdown",
      "source": [
        "# Task A4:\n",
        "After reviewing the outputs of the previous tasks, some of the end-user experts remarked that it might also be useful to incorporate the fact that it was more costly to misclassify a person from whom a payment was really due than to misclassify a person from whom no payment was due. Ms. Imani Kuhn suggested that they should research the relevant costs.\n",
        "\n",
        "The result of their research was that there were an:\n",
        "* average profit of 817.00 for correctly classifying a person for whom a  payment was really due\n",
        "* average profit of 245.00 for correctly classifying a person for whom no payment was really due\n",
        "* average loss of 671.00 for misclassifying a person for whom\n",
        "a payment was really due\n",
        "* average loss of 465.00 for misclassifying a person for whom no payment was really due\n",
        "\n",
        "The target event is NoPaymentDue = ‘pos’."
      ],
      "metadata": {
        "id": "_n6cRORN1J67"
      }
    },
    {
      "cell_type": "code",
      "source": [
        "# Create profit and loss values\n",
        "profit_TP = 817\n",
        "profit_TN = 245\n",
        "loss_FP = 671\n",
        "loss_FN = 465\n",
        "\n",
        "# Create AVG Worst Profit\n",
        "avg_worst_profit = loss_FP*0 + loss_FN*0"
      ],
      "metadata": {
        "id": "w4EHH3YwYn52"
      },
      "execution_count": 135,
      "outputs": []
    },
    {
      "cell_type": "markdown",
      "source": [
        "## SVM"
      ],
      "metadata": {
        "id": "DW7-PUtkW6VE"
      }
    },
    {
      "cell_type": "code",
      "source": [
        "svm_matrix_table = pd.DataFrame(confusion_matrix(y_test, y_pred_svm),\n",
        "             columns=['Predicted Pos', 'Predicted Neg'],\n",
        "             index=['True Pos', 'True Neg']\n",
        ")\n",
        "\n",
        "svm_matrix_table"
      ],
      "metadata": {
        "colab": {
          "base_uri": "https://localhost:8080/",
          "height": 112
        },
        "id": "L-oXti8kWgrc",
        "outputId": "1f313002-b745-4b2b-9380-fcbc74a16e88"
      },
      "execution_count": 169,
      "outputs": [
        {
          "output_type": "execute_result",
          "data": {
            "text/plain": [
              "          Predicted Pos  Predicted Neg\n",
              "True Pos            106              1\n",
              "True Neg              2            191"
            ],
            "text/html": [
              "\n",
              "  <div id=\"df-fed0ba1b-317b-4b4b-981d-9c6ebe574fdb\">\n",
              "    <div class=\"colab-df-container\">\n",
              "      <div>\n",
              "<style scoped>\n",
              "    .dataframe tbody tr th:only-of-type {\n",
              "        vertical-align: middle;\n",
              "    }\n",
              "\n",
              "    .dataframe tbody tr th {\n",
              "        vertical-align: top;\n",
              "    }\n",
              "\n",
              "    .dataframe thead th {\n",
              "        text-align: right;\n",
              "    }\n",
              "</style>\n",
              "<table border=\"1\" class=\"dataframe\">\n",
              "  <thead>\n",
              "    <tr style=\"text-align: right;\">\n",
              "      <th></th>\n",
              "      <th>Predicted Pos</th>\n",
              "      <th>Predicted Neg</th>\n",
              "    </tr>\n",
              "  </thead>\n",
              "  <tbody>\n",
              "    <tr>\n",
              "      <th>True Pos</th>\n",
              "      <td>106</td>\n",
              "      <td>1</td>\n",
              "    </tr>\n",
              "    <tr>\n",
              "      <th>True Neg</th>\n",
              "      <td>2</td>\n",
              "      <td>191</td>\n",
              "    </tr>\n",
              "  </tbody>\n",
              "</table>\n",
              "</div>\n",
              "      <button class=\"colab-df-convert\" onclick=\"convertToInteractive('df-fed0ba1b-317b-4b4b-981d-9c6ebe574fdb')\"\n",
              "              title=\"Convert this dataframe to an interactive table.\"\n",
              "              style=\"display:none;\">\n",
              "        \n",
              "  <svg xmlns=\"http://www.w3.org/2000/svg\" height=\"24px\"viewBox=\"0 0 24 24\"\n",
              "       width=\"24px\">\n",
              "    <path d=\"M0 0h24v24H0V0z\" fill=\"none\"/>\n",
              "    <path d=\"M18.56 5.44l.94 2.06.94-2.06 2.06-.94-2.06-.94-.94-2.06-.94 2.06-2.06.94zm-11 1L8.5 8.5l.94-2.06 2.06-.94-2.06-.94L8.5 2.5l-.94 2.06-2.06.94zm10 10l.94 2.06.94-2.06 2.06-.94-2.06-.94-.94-2.06-.94 2.06-2.06.94z\"/><path d=\"M17.41 7.96l-1.37-1.37c-.4-.4-.92-.59-1.43-.59-.52 0-1.04.2-1.43.59L10.3 9.45l-7.72 7.72c-.78.78-.78 2.05 0 2.83L4 21.41c.39.39.9.59 1.41.59.51 0 1.02-.2 1.41-.59l7.78-7.78 2.81-2.81c.8-.78.8-2.07 0-2.86zM5.41 20L4 18.59l7.72-7.72 1.47 1.35L5.41 20z\"/>\n",
              "  </svg>\n",
              "      </button>\n",
              "      \n",
              "  <style>\n",
              "    .colab-df-container {\n",
              "      display:flex;\n",
              "      flex-wrap:wrap;\n",
              "      gap: 12px;\n",
              "    }\n",
              "\n",
              "    .colab-df-convert {\n",
              "      background-color: #E8F0FE;\n",
              "      border: none;\n",
              "      border-radius: 50%;\n",
              "      cursor: pointer;\n",
              "      display: none;\n",
              "      fill: #1967D2;\n",
              "      height: 32px;\n",
              "      padding: 0 0 0 0;\n",
              "      width: 32px;\n",
              "    }\n",
              "\n",
              "    .colab-df-convert:hover {\n",
              "      background-color: #E2EBFA;\n",
              "      box-shadow: 0px 1px 2px rgba(60, 64, 67, 0.3), 0px 1px 3px 1px rgba(60, 64, 67, 0.15);\n",
              "      fill: #174EA6;\n",
              "    }\n",
              "\n",
              "    [theme=dark] .colab-df-convert {\n",
              "      background-color: #3B4455;\n",
              "      fill: #D2E3FC;\n",
              "    }\n",
              "\n",
              "    [theme=dark] .colab-df-convert:hover {\n",
              "      background-color: #434B5C;\n",
              "      box-shadow: 0px 1px 3px 1px rgba(0, 0, 0, 0.15);\n",
              "      filter: drop-shadow(0px 1px 2px rgba(0, 0, 0, 0.3));\n",
              "      fill: #FFFFFF;\n",
              "    }\n",
              "  </style>\n",
              "\n",
              "      <script>\n",
              "        const buttonEl =\n",
              "          document.querySelector('#df-fed0ba1b-317b-4b4b-981d-9c6ebe574fdb button.colab-df-convert');\n",
              "        buttonEl.style.display =\n",
              "          google.colab.kernel.accessAllowed ? 'block' : 'none';\n",
              "\n",
              "        async function convertToInteractive(key) {\n",
              "          const element = document.querySelector('#df-fed0ba1b-317b-4b4b-981d-9c6ebe574fdb');\n",
              "          const dataTable =\n",
              "            await google.colab.kernel.invokeFunction('convertToInteractive',\n",
              "                                                     [key], {});\n",
              "          if (!dataTable) return;\n",
              "\n",
              "          const docLinkHtml = 'Like what you see? Visit the ' +\n",
              "            '<a target=\"_blank\" href=https://colab.research.google.com/notebooks/data_table.ipynb>data table notebook</a>'\n",
              "            + ' to learn more about interactive tables.';\n",
              "          element.innerHTML = '';\n",
              "          dataTable['output_type'] = 'display_data';\n",
              "          await google.colab.output.renderOutput(dataTable, element);\n",
              "          const docLink = document.createElement('div');\n",
              "          docLink.innerHTML = docLinkHtml;\n",
              "          element.appendChild(docLink);\n",
              "        }\n",
              "      </script>\n",
              "    </div>\n",
              "  </div>\n",
              "  "
            ]
          },
          "metadata": {},
          "execution_count": 169
        }
      ]
    },
    {
      "cell_type": "code",
      "source": [
        "# Define True Positive, True Negative, False Positive, and False Negative\n",
        "TP = svm_matrix_table.iloc[0][0] # Index of the number of loan cases misclassified as Neg\n",
        "TN = svm_matrix_table.iloc[1][1] # Index of the number of loan cases misclassified as Pos\n",
        "FP = svm_matrix_table.iloc[0][1] # Index of the number of loan cases misclassified as Neg\n",
        "FN = svm_matrix_table.iloc[1][0] # Index of the number of loan cases misclassified as Pos"
      ],
      "metadata": {
        "id": "_IaSrF55b7Ch"
      },
      "execution_count": 170,
      "outputs": []
    },
    {
      "cell_type": "code",
      "source": [
        "# Calculate Best Possible Profit\n",
        "svm_bpp = (TP*profit_TP + TN*profit_TN)\n",
        "print(svm_bpp)\n",
        "\n",
        "# Calculate AVG Best Possible Profit\n",
        "svm_avg_bpp = svm_bpp/len(y_test)\n",
        "print(svm_avg_bpp)\n",
        "\n",
        "# Calculate Profit\n",
        "svm_profit = (TP*profit_TP + TN*profit_TN) - (FP*loss_FP + FN*loss_FN)\n",
        "print(svm_profit)\n",
        "\n",
        "# Calculate AVG Profit per case\n",
        "svm_avg_profit = svm_profit/len(y_test)\n",
        "print(svm_avg_profit)\n",
        "\n",
        "# Calculate normalized score\n",
        "svm_score = (svm_avg_profit - avg_worst_profit)/(svm_avg_bpp - avg_worst_profit)\n",
        "print(svm_score)"
      ],
      "metadata": {
        "colab": {
          "base_uri": "https://localhost:8080/"
        },
        "id": "dKF-mb0wfIzR",
        "outputId": "991d2696-5d4c-414d-c891-4482b2f883d1"
      },
      "execution_count": 171,
      "outputs": [
        {
          "output_type": "stream",
          "name": "stdout",
          "text": [
            "133397\n",
            "444.6566666666667\n",
            "131796\n",
            "439.32\n",
            "0.9879982308447716\n"
          ]
        }
      ]
    },
    {
      "cell_type": "markdown",
      "source": [
        "## DT"
      ],
      "metadata": {
        "id": "vt5P5Hvdip3d"
      }
    },
    {
      "cell_type": "code",
      "source": [
        "dt_matrix_table = pd.DataFrame(confusion_matrix(y_test, y_pred_dt),\n",
        "             columns=['Predicted Pos', 'Predicted Neg'],\n",
        "             index=['True Pos', 'True Neg']\n",
        ")\n",
        "\n",
        "dt_matrix_table"
      ],
      "metadata": {
        "colab": {
          "base_uri": "https://localhost:8080/",
          "height": 112
        },
        "outputId": "997cbd88-d7d6-4691-9f74-22c7d1838ed8",
        "id": "-zXgAqQTip3e"
      },
      "execution_count": 172,
      "outputs": [
        {
          "output_type": "execute_result",
          "data": {
            "text/plain": [
              "          Predicted Pos  Predicted Neg\n",
              "True Pos            101              6\n",
              "True Neg              2            191"
            ],
            "text/html": [
              "\n",
              "  <div id=\"df-4c0afb07-9935-4804-8147-e50ac83184be\">\n",
              "    <div class=\"colab-df-container\">\n",
              "      <div>\n",
              "<style scoped>\n",
              "    .dataframe tbody tr th:only-of-type {\n",
              "        vertical-align: middle;\n",
              "    }\n",
              "\n",
              "    .dataframe tbody tr th {\n",
              "        vertical-align: top;\n",
              "    }\n",
              "\n",
              "    .dataframe thead th {\n",
              "        text-align: right;\n",
              "    }\n",
              "</style>\n",
              "<table border=\"1\" class=\"dataframe\">\n",
              "  <thead>\n",
              "    <tr style=\"text-align: right;\">\n",
              "      <th></th>\n",
              "      <th>Predicted Pos</th>\n",
              "      <th>Predicted Neg</th>\n",
              "    </tr>\n",
              "  </thead>\n",
              "  <tbody>\n",
              "    <tr>\n",
              "      <th>True Pos</th>\n",
              "      <td>101</td>\n",
              "      <td>6</td>\n",
              "    </tr>\n",
              "    <tr>\n",
              "      <th>True Neg</th>\n",
              "      <td>2</td>\n",
              "      <td>191</td>\n",
              "    </tr>\n",
              "  </tbody>\n",
              "</table>\n",
              "</div>\n",
              "      <button class=\"colab-df-convert\" onclick=\"convertToInteractive('df-4c0afb07-9935-4804-8147-e50ac83184be')\"\n",
              "              title=\"Convert this dataframe to an interactive table.\"\n",
              "              style=\"display:none;\">\n",
              "        \n",
              "  <svg xmlns=\"http://www.w3.org/2000/svg\" height=\"24px\"viewBox=\"0 0 24 24\"\n",
              "       width=\"24px\">\n",
              "    <path d=\"M0 0h24v24H0V0z\" fill=\"none\"/>\n",
              "    <path d=\"M18.56 5.44l.94 2.06.94-2.06 2.06-.94-2.06-.94-.94-2.06-.94 2.06-2.06.94zm-11 1L8.5 8.5l.94-2.06 2.06-.94-2.06-.94L8.5 2.5l-.94 2.06-2.06.94zm10 10l.94 2.06.94-2.06 2.06-.94-2.06-.94-.94-2.06-.94 2.06-2.06.94z\"/><path d=\"M17.41 7.96l-1.37-1.37c-.4-.4-.92-.59-1.43-.59-.52 0-1.04.2-1.43.59L10.3 9.45l-7.72 7.72c-.78.78-.78 2.05 0 2.83L4 21.41c.39.39.9.59 1.41.59.51 0 1.02-.2 1.41-.59l7.78-7.78 2.81-2.81c.8-.78.8-2.07 0-2.86zM5.41 20L4 18.59l7.72-7.72 1.47 1.35L5.41 20z\"/>\n",
              "  </svg>\n",
              "      </button>\n",
              "      \n",
              "  <style>\n",
              "    .colab-df-container {\n",
              "      display:flex;\n",
              "      flex-wrap:wrap;\n",
              "      gap: 12px;\n",
              "    }\n",
              "\n",
              "    .colab-df-convert {\n",
              "      background-color: #E8F0FE;\n",
              "      border: none;\n",
              "      border-radius: 50%;\n",
              "      cursor: pointer;\n",
              "      display: none;\n",
              "      fill: #1967D2;\n",
              "      height: 32px;\n",
              "      padding: 0 0 0 0;\n",
              "      width: 32px;\n",
              "    }\n",
              "\n",
              "    .colab-df-convert:hover {\n",
              "      background-color: #E2EBFA;\n",
              "      box-shadow: 0px 1px 2px rgba(60, 64, 67, 0.3), 0px 1px 3px 1px rgba(60, 64, 67, 0.15);\n",
              "      fill: #174EA6;\n",
              "    }\n",
              "\n",
              "    [theme=dark] .colab-df-convert {\n",
              "      background-color: #3B4455;\n",
              "      fill: #D2E3FC;\n",
              "    }\n",
              "\n",
              "    [theme=dark] .colab-df-convert:hover {\n",
              "      background-color: #434B5C;\n",
              "      box-shadow: 0px 1px 3px 1px rgba(0, 0, 0, 0.15);\n",
              "      filter: drop-shadow(0px 1px 2px rgba(0, 0, 0, 0.3));\n",
              "      fill: #FFFFFF;\n",
              "    }\n",
              "  </style>\n",
              "\n",
              "      <script>\n",
              "        const buttonEl =\n",
              "          document.querySelector('#df-4c0afb07-9935-4804-8147-e50ac83184be button.colab-df-convert');\n",
              "        buttonEl.style.display =\n",
              "          google.colab.kernel.accessAllowed ? 'block' : 'none';\n",
              "\n",
              "        async function convertToInteractive(key) {\n",
              "          const element = document.querySelector('#df-4c0afb07-9935-4804-8147-e50ac83184be');\n",
              "          const dataTable =\n",
              "            await google.colab.kernel.invokeFunction('convertToInteractive',\n",
              "                                                     [key], {});\n",
              "          if (!dataTable) return;\n",
              "\n",
              "          const docLinkHtml = 'Like what you see? Visit the ' +\n",
              "            '<a target=\"_blank\" href=https://colab.research.google.com/notebooks/data_table.ipynb>data table notebook</a>'\n",
              "            + ' to learn more about interactive tables.';\n",
              "          element.innerHTML = '';\n",
              "          dataTable['output_type'] = 'display_data';\n",
              "          await google.colab.output.renderOutput(dataTable, element);\n",
              "          const docLink = document.createElement('div');\n",
              "          docLink.innerHTML = docLinkHtml;\n",
              "          element.appendChild(docLink);\n",
              "        }\n",
              "      </script>\n",
              "    </div>\n",
              "  </div>\n",
              "  "
            ]
          },
          "metadata": {},
          "execution_count": 172
        }
      ]
    },
    {
      "cell_type": "code",
      "source": [
        "# Define True Positive, True Negative, False Positive, and False Negative\n",
        "TP = dt_matrix_table.iloc[0][0] # Index of the number of loan cases misclassified as Neg\n",
        "TN = dt_matrix_table.iloc[1][1] # Index of the number of loan cases misclassified as Pos\n",
        "FP = dt_matrix_table.iloc[0][1] # Index of the number of loan cases misclassified as Neg\n",
        "FN = dt_matrix_table.iloc[1][0] # Index of the number of loan cases misclassified as Pos"
      ],
      "metadata": {
        "id": "z6L_C_K7ip3e"
      },
      "execution_count": 173,
      "outputs": []
    },
    {
      "cell_type": "code",
      "source": [
        "# Calculate Best Possible Profit\n",
        "dt_bpp = (TP*profit_TP + TN*profit_TN)\n",
        "print(dt_bpp)\n",
        "\n",
        "# Calculate AVG Best Possible Profit\n",
        "dt_avg_bpp = dt_bpp/len(y_test)\n",
        "print(dt_avg_bpp)\n",
        "\n",
        "# Calculate Profit\n",
        "dt_profit = (TP*profit_TP + TN*profit_TN) - (FP*loss_FP + FN*loss_FN)\n",
        "print(dt_profit)\n",
        "\n",
        "# Calculate AVG Profit per case\n",
        "dt_avg_profit = dt_profit/len(y_test)\n",
        "print(dt_avg_profit)\n",
        "\n",
        "# Calculate normalized score\n",
        "dt_score = (dt_avg_profit - avg_worst_profit)/(dt_avg_bpp - avg_worst_profit)\n",
        "print(dt_score)"
      ],
      "metadata": {
        "colab": {
          "base_uri": "https://localhost:8080/"
        },
        "outputId": "583d4d59-bde8-492b-b975-efe780ae6870",
        "id": "JHJ3pWmKip3e"
      },
      "execution_count": 174,
      "outputs": [
        {
          "output_type": "stream",
          "name": "stdout",
          "text": [
            "129312\n",
            "431.04\n",
            "124356\n",
            "414.52\n",
            "0.9616740905716405\n"
          ]
        }
      ]
    },
    {
      "cell_type": "markdown",
      "source": [
        "## KNN"
      ],
      "metadata": {
        "id": "BzDNRy8akPBB"
      }
    },
    {
      "cell_type": "code",
      "source": [
        "knn_matrix_table = pd.DataFrame(confusion_matrix(y_test, y_pred_knn),\n",
        "             columns=['Predicted Pos', 'Predicted Neg'],\n",
        "             index=['True Pos', 'True Neg']\n",
        ")\n",
        "\n",
        "knn_matrix_table"
      ],
      "metadata": {
        "colab": {
          "base_uri": "https://localhost:8080/",
          "height": 112
        },
        "outputId": "49ef5c81-2413-46f6-f35a-05440725a8ee",
        "id": "oaZI5GTmkPBB"
      },
      "execution_count": 175,
      "outputs": [
        {
          "output_type": "execute_result",
          "data": {
            "text/plain": [
              "          Predicted Pos  Predicted Neg\n",
              "True Pos             92             15\n",
              "True Neg             44            149"
            ],
            "text/html": [
              "\n",
              "  <div id=\"df-53bc692d-b8db-4813-9d12-651be32d6eb0\">\n",
              "    <div class=\"colab-df-container\">\n",
              "      <div>\n",
              "<style scoped>\n",
              "    .dataframe tbody tr th:only-of-type {\n",
              "        vertical-align: middle;\n",
              "    }\n",
              "\n",
              "    .dataframe tbody tr th {\n",
              "        vertical-align: top;\n",
              "    }\n",
              "\n",
              "    .dataframe thead th {\n",
              "        text-align: right;\n",
              "    }\n",
              "</style>\n",
              "<table border=\"1\" class=\"dataframe\">\n",
              "  <thead>\n",
              "    <tr style=\"text-align: right;\">\n",
              "      <th></th>\n",
              "      <th>Predicted Pos</th>\n",
              "      <th>Predicted Neg</th>\n",
              "    </tr>\n",
              "  </thead>\n",
              "  <tbody>\n",
              "    <tr>\n",
              "      <th>True Pos</th>\n",
              "      <td>92</td>\n",
              "      <td>15</td>\n",
              "    </tr>\n",
              "    <tr>\n",
              "      <th>True Neg</th>\n",
              "      <td>44</td>\n",
              "      <td>149</td>\n",
              "    </tr>\n",
              "  </tbody>\n",
              "</table>\n",
              "</div>\n",
              "      <button class=\"colab-df-convert\" onclick=\"convertToInteractive('df-53bc692d-b8db-4813-9d12-651be32d6eb0')\"\n",
              "              title=\"Convert this dataframe to an interactive table.\"\n",
              "              style=\"display:none;\">\n",
              "        \n",
              "  <svg xmlns=\"http://www.w3.org/2000/svg\" height=\"24px\"viewBox=\"0 0 24 24\"\n",
              "       width=\"24px\">\n",
              "    <path d=\"M0 0h24v24H0V0z\" fill=\"none\"/>\n",
              "    <path d=\"M18.56 5.44l.94 2.06.94-2.06 2.06-.94-2.06-.94-.94-2.06-.94 2.06-2.06.94zm-11 1L8.5 8.5l.94-2.06 2.06-.94-2.06-.94L8.5 2.5l-.94 2.06-2.06.94zm10 10l.94 2.06.94-2.06 2.06-.94-2.06-.94-.94-2.06-.94 2.06-2.06.94z\"/><path d=\"M17.41 7.96l-1.37-1.37c-.4-.4-.92-.59-1.43-.59-.52 0-1.04.2-1.43.59L10.3 9.45l-7.72 7.72c-.78.78-.78 2.05 0 2.83L4 21.41c.39.39.9.59 1.41.59.51 0 1.02-.2 1.41-.59l7.78-7.78 2.81-2.81c.8-.78.8-2.07 0-2.86zM5.41 20L4 18.59l7.72-7.72 1.47 1.35L5.41 20z\"/>\n",
              "  </svg>\n",
              "      </button>\n",
              "      \n",
              "  <style>\n",
              "    .colab-df-container {\n",
              "      display:flex;\n",
              "      flex-wrap:wrap;\n",
              "      gap: 12px;\n",
              "    }\n",
              "\n",
              "    .colab-df-convert {\n",
              "      background-color: #E8F0FE;\n",
              "      border: none;\n",
              "      border-radius: 50%;\n",
              "      cursor: pointer;\n",
              "      display: none;\n",
              "      fill: #1967D2;\n",
              "      height: 32px;\n",
              "      padding: 0 0 0 0;\n",
              "      width: 32px;\n",
              "    }\n",
              "\n",
              "    .colab-df-convert:hover {\n",
              "      background-color: #E2EBFA;\n",
              "      box-shadow: 0px 1px 2px rgba(60, 64, 67, 0.3), 0px 1px 3px 1px rgba(60, 64, 67, 0.15);\n",
              "      fill: #174EA6;\n",
              "    }\n",
              "\n",
              "    [theme=dark] .colab-df-convert {\n",
              "      background-color: #3B4455;\n",
              "      fill: #D2E3FC;\n",
              "    }\n",
              "\n",
              "    [theme=dark] .colab-df-convert:hover {\n",
              "      background-color: #434B5C;\n",
              "      box-shadow: 0px 1px 3px 1px rgba(0, 0, 0, 0.15);\n",
              "      filter: drop-shadow(0px 1px 2px rgba(0, 0, 0, 0.3));\n",
              "      fill: #FFFFFF;\n",
              "    }\n",
              "  </style>\n",
              "\n",
              "      <script>\n",
              "        const buttonEl =\n",
              "          document.querySelector('#df-53bc692d-b8db-4813-9d12-651be32d6eb0 button.colab-df-convert');\n",
              "        buttonEl.style.display =\n",
              "          google.colab.kernel.accessAllowed ? 'block' : 'none';\n",
              "\n",
              "        async function convertToInteractive(key) {\n",
              "          const element = document.querySelector('#df-53bc692d-b8db-4813-9d12-651be32d6eb0');\n",
              "          const dataTable =\n",
              "            await google.colab.kernel.invokeFunction('convertToInteractive',\n",
              "                                                     [key], {});\n",
              "          if (!dataTable) return;\n",
              "\n",
              "          const docLinkHtml = 'Like what you see? Visit the ' +\n",
              "            '<a target=\"_blank\" href=https://colab.research.google.com/notebooks/data_table.ipynb>data table notebook</a>'\n",
              "            + ' to learn more about interactive tables.';\n",
              "          element.innerHTML = '';\n",
              "          dataTable['output_type'] = 'display_data';\n",
              "          await google.colab.output.renderOutput(dataTable, element);\n",
              "          const docLink = document.createElement('div');\n",
              "          docLink.innerHTML = docLinkHtml;\n",
              "          element.appendChild(docLink);\n",
              "        }\n",
              "      </script>\n",
              "    </div>\n",
              "  </div>\n",
              "  "
            ]
          },
          "metadata": {},
          "execution_count": 175
        }
      ]
    },
    {
      "cell_type": "code",
      "source": [
        "# Define True Positive, True Negative, False Positive, and False Negative\n",
        "TP = knn_matrix_table.iloc[0][0] # Index of the number of loan cases misclassified as Neg\n",
        "TN = knn_matrix_table.iloc[1][1] # Index of the number of loan cases misclassified as Pos\n",
        "FP = knn_matrix_table.iloc[0][1] # Index of the number of loan cases misclassified as Neg\n",
        "FN = knn_matrix_table.iloc[1][0] # Index of the number of loan cases misclassified as Pos"
      ],
      "metadata": {
        "id": "K9nw1awgkPBC"
      },
      "execution_count": 176,
      "outputs": []
    },
    {
      "cell_type": "code",
      "source": [
        "# Calculate Best Possible Profit\n",
        "knn_bpp = (TP*profit_TP + TN*profit_TN)\n",
        "print(knn_bpp)\n",
        "\n",
        "# Calculate AVG Best Possible Profit\n",
        "knn_avg_bpp = knn_bpp/len(y_test)\n",
        "print(knn_avg_bpp)\n",
        "\n",
        "# Calculate Profit\n",
        "knn_profit = (TP*profit_TP + TN*profit_TN) - (FP*loss_FP + FN*loss_FN)\n",
        "print(knn_profit)\n",
        "\n",
        "# Calculate AVG Profit per case\n",
        "knn_avg_profit = knn_profit/len(y_test)\n",
        "print(knn_avg_profit)\n",
        "\n",
        "# Calculate normalized score\n",
        "knn_score = (knn_avg_profit - avg_worst_profit)/(knn_avg_bpp - avg_worst_profit)\n",
        "print(knn_score)"
      ],
      "metadata": {
        "colab": {
          "base_uri": "https://localhost:8080/"
        },
        "outputId": "67d22a79-f26f-42ec-d286-6c7da8cbdde2",
        "id": "Dq2A9Tz7kPBC"
      },
      "execution_count": 177,
      "outputs": [
        {
          "output_type": "stream",
          "name": "stdout",
          "text": [
            "111669\n",
            "372.23\n",
            "81144\n",
            "270.48\n",
            "0.7266475028879994\n"
          ]
        }
      ]
    },
    {
      "cell_type": "markdown",
      "source": [
        "## XGBOOST"
      ],
      "metadata": {
        "id": "G44139PhkugV"
      }
    },
    {
      "cell_type": "code",
      "source": [
        "xgb_matrix_table = pd.DataFrame(confusion_matrix(y_test, y_pred_xgb),\n",
        "             columns=['Predicted Pos', 'Predicted Neg'],\n",
        "             index=['True Pos', 'True Neg']\n",
        ")\n",
        "\n",
        "xgb_matrix_table"
      ],
      "metadata": {
        "colab": {
          "base_uri": "https://localhost:8080/",
          "height": 112
        },
        "outputId": "c02df6ce-948d-4a0d-982f-d8b47c91966f",
        "id": "6OiGfQqqkugW"
      },
      "execution_count": 178,
      "outputs": [
        {
          "output_type": "execute_result",
          "data": {
            "text/plain": [
              "          Predicted Pos  Predicted Neg\n",
              "True Pos            102              5\n",
              "True Neg              1            192"
            ],
            "text/html": [
              "\n",
              "  <div id=\"df-50a23cac-67f1-47f9-9d4c-399a88e60962\">\n",
              "    <div class=\"colab-df-container\">\n",
              "      <div>\n",
              "<style scoped>\n",
              "    .dataframe tbody tr th:only-of-type {\n",
              "        vertical-align: middle;\n",
              "    }\n",
              "\n",
              "    .dataframe tbody tr th {\n",
              "        vertical-align: top;\n",
              "    }\n",
              "\n",
              "    .dataframe thead th {\n",
              "        text-align: right;\n",
              "    }\n",
              "</style>\n",
              "<table border=\"1\" class=\"dataframe\">\n",
              "  <thead>\n",
              "    <tr style=\"text-align: right;\">\n",
              "      <th></th>\n",
              "      <th>Predicted Pos</th>\n",
              "      <th>Predicted Neg</th>\n",
              "    </tr>\n",
              "  </thead>\n",
              "  <tbody>\n",
              "    <tr>\n",
              "      <th>True Pos</th>\n",
              "      <td>102</td>\n",
              "      <td>5</td>\n",
              "    </tr>\n",
              "    <tr>\n",
              "      <th>True Neg</th>\n",
              "      <td>1</td>\n",
              "      <td>192</td>\n",
              "    </tr>\n",
              "  </tbody>\n",
              "</table>\n",
              "</div>\n",
              "      <button class=\"colab-df-convert\" onclick=\"convertToInteractive('df-50a23cac-67f1-47f9-9d4c-399a88e60962')\"\n",
              "              title=\"Convert this dataframe to an interactive table.\"\n",
              "              style=\"display:none;\">\n",
              "        \n",
              "  <svg xmlns=\"http://www.w3.org/2000/svg\" height=\"24px\"viewBox=\"0 0 24 24\"\n",
              "       width=\"24px\">\n",
              "    <path d=\"M0 0h24v24H0V0z\" fill=\"none\"/>\n",
              "    <path d=\"M18.56 5.44l.94 2.06.94-2.06 2.06-.94-2.06-.94-.94-2.06-.94 2.06-2.06.94zm-11 1L8.5 8.5l.94-2.06 2.06-.94-2.06-.94L8.5 2.5l-.94 2.06-2.06.94zm10 10l.94 2.06.94-2.06 2.06-.94-2.06-.94-.94-2.06-.94 2.06-2.06.94z\"/><path d=\"M17.41 7.96l-1.37-1.37c-.4-.4-.92-.59-1.43-.59-.52 0-1.04.2-1.43.59L10.3 9.45l-7.72 7.72c-.78.78-.78 2.05 0 2.83L4 21.41c.39.39.9.59 1.41.59.51 0 1.02-.2 1.41-.59l7.78-7.78 2.81-2.81c.8-.78.8-2.07 0-2.86zM5.41 20L4 18.59l7.72-7.72 1.47 1.35L5.41 20z\"/>\n",
              "  </svg>\n",
              "      </button>\n",
              "      \n",
              "  <style>\n",
              "    .colab-df-container {\n",
              "      display:flex;\n",
              "      flex-wrap:wrap;\n",
              "      gap: 12px;\n",
              "    }\n",
              "\n",
              "    .colab-df-convert {\n",
              "      background-color: #E8F0FE;\n",
              "      border: none;\n",
              "      border-radius: 50%;\n",
              "      cursor: pointer;\n",
              "      display: none;\n",
              "      fill: #1967D2;\n",
              "      height: 32px;\n",
              "      padding: 0 0 0 0;\n",
              "      width: 32px;\n",
              "    }\n",
              "\n",
              "    .colab-df-convert:hover {\n",
              "      background-color: #E2EBFA;\n",
              "      box-shadow: 0px 1px 2px rgba(60, 64, 67, 0.3), 0px 1px 3px 1px rgba(60, 64, 67, 0.15);\n",
              "      fill: #174EA6;\n",
              "    }\n",
              "\n",
              "    [theme=dark] .colab-df-convert {\n",
              "      background-color: #3B4455;\n",
              "      fill: #D2E3FC;\n",
              "    }\n",
              "\n",
              "    [theme=dark] .colab-df-convert:hover {\n",
              "      background-color: #434B5C;\n",
              "      box-shadow: 0px 1px 3px 1px rgba(0, 0, 0, 0.15);\n",
              "      filter: drop-shadow(0px 1px 2px rgba(0, 0, 0, 0.3));\n",
              "      fill: #FFFFFF;\n",
              "    }\n",
              "  </style>\n",
              "\n",
              "      <script>\n",
              "        const buttonEl =\n",
              "          document.querySelector('#df-50a23cac-67f1-47f9-9d4c-399a88e60962 button.colab-df-convert');\n",
              "        buttonEl.style.display =\n",
              "          google.colab.kernel.accessAllowed ? 'block' : 'none';\n",
              "\n",
              "        async function convertToInteractive(key) {\n",
              "          const element = document.querySelector('#df-50a23cac-67f1-47f9-9d4c-399a88e60962');\n",
              "          const dataTable =\n",
              "            await google.colab.kernel.invokeFunction('convertToInteractive',\n",
              "                                                     [key], {});\n",
              "          if (!dataTable) return;\n",
              "\n",
              "          const docLinkHtml = 'Like what you see? Visit the ' +\n",
              "            '<a target=\"_blank\" href=https://colab.research.google.com/notebooks/data_table.ipynb>data table notebook</a>'\n",
              "            + ' to learn more about interactive tables.';\n",
              "          element.innerHTML = '';\n",
              "          dataTable['output_type'] = 'display_data';\n",
              "          await google.colab.output.renderOutput(dataTable, element);\n",
              "          const docLink = document.createElement('div');\n",
              "          docLink.innerHTML = docLinkHtml;\n",
              "          element.appendChild(docLink);\n",
              "        }\n",
              "      </script>\n",
              "    </div>\n",
              "  </div>\n",
              "  "
            ]
          },
          "metadata": {},
          "execution_count": 178
        }
      ]
    },
    {
      "cell_type": "code",
      "source": [
        "# Define True Positive, True Negative, False Positive, and False Negative\n",
        "TP = xgb_matrix_table.iloc[0][0] # Index of the number of loan cases misclassified as Neg\n",
        "TN = xgb_matrix_table.iloc[1][1] # Index of the number of loan cases misclassified as Pos\n",
        "FP = xgb_matrix_table.iloc[0][1] # Index of the number of loan cases misclassified as Neg\n",
        "FN = xgb_matrix_table.iloc[1][0] # Index of the number of loan cases misclassified as Pos"
      ],
      "metadata": {
        "id": "Bvb_COpZkugW"
      },
      "execution_count": 179,
      "outputs": []
    },
    {
      "cell_type": "code",
      "source": [
        "# Calculate Best Possible Profit\n",
        "xgb_bpp = (TP*profit_TP + TN*profit_TN)\n",
        "print(xgb_bpp)\n",
        "\n",
        "# Calculate AVG Best Possible Profit\n",
        "xgb_avg_bpp = xgb_bpp/len(y_test)\n",
        "print(xgb_avg_bpp)\n",
        "\n",
        "# Calculate Profit\n",
        "xgb_profit = (TP*profit_TP + TN*profit_TN) - (FP*loss_FP + FN*loss_FN)\n",
        "print(xgb_profit)\n",
        "\n",
        "# Calculate AVG Profit per case\n",
        "xgb_avg_profit = xgb_profit/len(y_test)\n",
        "print(xgb_avg_profit)\n",
        "\n",
        "# Calculate normalized score\n",
        "xgb_score = (xgb_avg_profit - avg_worst_profit)/(xgb_avg_bpp - avg_worst_profit)\n",
        "print(xgb_score)"
      ],
      "metadata": {
        "colab": {
          "base_uri": "https://localhost:8080/"
        },
        "outputId": "e4708616-5e15-4c62-8bd6-b197f00dd253",
        "id": "OwGTkMBekugW"
      },
      "execution_count": 180,
      "outputs": [
        {
          "output_type": "stream",
          "name": "stdout",
          "text": [
            "130374\n",
            "434.58\n",
            "126554\n",
            "421.8466666666667\n",
            "0.9706996793839263\n"
          ]
        }
      ]
    },
    {
      "cell_type": "markdown",
      "source": [
        "## MNB"
      ],
      "metadata": {
        "id": "AKnur_GMlLKx"
      }
    },
    {
      "cell_type": "code",
      "source": [
        "mnb_matrix_table = pd.DataFrame(confusion_matrix(y_test, y_pred_mnb),\n",
        "             columns=['Predicted Pos', 'Predicted Neg'],\n",
        "             index=['True Pos', 'True Neg']\n",
        ")\n",
        "\n",
        "mnb_matrix_table"
      ],
      "metadata": {
        "colab": {
          "base_uri": "https://localhost:8080/",
          "height": 112
        },
        "outputId": "e7d218f1-158c-4156-f0ba-cd2b4f8ff498",
        "id": "6vwYRr_wlLKx"
      },
      "execution_count": 181,
      "outputs": [
        {
          "output_type": "execute_result",
          "data": {
            "text/plain": [
              "          Predicted Pos  Predicted Neg\n",
              "True Pos            101              6\n",
              "True Neg              9            184"
            ],
            "text/html": [
              "\n",
              "  <div id=\"df-bc5e8996-cd34-406a-be43-8697385a473a\">\n",
              "    <div class=\"colab-df-container\">\n",
              "      <div>\n",
              "<style scoped>\n",
              "    .dataframe tbody tr th:only-of-type {\n",
              "        vertical-align: middle;\n",
              "    }\n",
              "\n",
              "    .dataframe tbody tr th {\n",
              "        vertical-align: top;\n",
              "    }\n",
              "\n",
              "    .dataframe thead th {\n",
              "        text-align: right;\n",
              "    }\n",
              "</style>\n",
              "<table border=\"1\" class=\"dataframe\">\n",
              "  <thead>\n",
              "    <tr style=\"text-align: right;\">\n",
              "      <th></th>\n",
              "      <th>Predicted Pos</th>\n",
              "      <th>Predicted Neg</th>\n",
              "    </tr>\n",
              "  </thead>\n",
              "  <tbody>\n",
              "    <tr>\n",
              "      <th>True Pos</th>\n",
              "      <td>101</td>\n",
              "      <td>6</td>\n",
              "    </tr>\n",
              "    <tr>\n",
              "      <th>True Neg</th>\n",
              "      <td>9</td>\n",
              "      <td>184</td>\n",
              "    </tr>\n",
              "  </tbody>\n",
              "</table>\n",
              "</div>\n",
              "      <button class=\"colab-df-convert\" onclick=\"convertToInteractive('df-bc5e8996-cd34-406a-be43-8697385a473a')\"\n",
              "              title=\"Convert this dataframe to an interactive table.\"\n",
              "              style=\"display:none;\">\n",
              "        \n",
              "  <svg xmlns=\"http://www.w3.org/2000/svg\" height=\"24px\"viewBox=\"0 0 24 24\"\n",
              "       width=\"24px\">\n",
              "    <path d=\"M0 0h24v24H0V0z\" fill=\"none\"/>\n",
              "    <path d=\"M18.56 5.44l.94 2.06.94-2.06 2.06-.94-2.06-.94-.94-2.06-.94 2.06-2.06.94zm-11 1L8.5 8.5l.94-2.06 2.06-.94-2.06-.94L8.5 2.5l-.94 2.06-2.06.94zm10 10l.94 2.06.94-2.06 2.06-.94-2.06-.94-.94-2.06-.94 2.06-2.06.94z\"/><path d=\"M17.41 7.96l-1.37-1.37c-.4-.4-.92-.59-1.43-.59-.52 0-1.04.2-1.43.59L10.3 9.45l-7.72 7.72c-.78.78-.78 2.05 0 2.83L4 21.41c.39.39.9.59 1.41.59.51 0 1.02-.2 1.41-.59l7.78-7.78 2.81-2.81c.8-.78.8-2.07 0-2.86zM5.41 20L4 18.59l7.72-7.72 1.47 1.35L5.41 20z\"/>\n",
              "  </svg>\n",
              "      </button>\n",
              "      \n",
              "  <style>\n",
              "    .colab-df-container {\n",
              "      display:flex;\n",
              "      flex-wrap:wrap;\n",
              "      gap: 12px;\n",
              "    }\n",
              "\n",
              "    .colab-df-convert {\n",
              "      background-color: #E8F0FE;\n",
              "      border: none;\n",
              "      border-radius: 50%;\n",
              "      cursor: pointer;\n",
              "      display: none;\n",
              "      fill: #1967D2;\n",
              "      height: 32px;\n",
              "      padding: 0 0 0 0;\n",
              "      width: 32px;\n",
              "    }\n",
              "\n",
              "    .colab-df-convert:hover {\n",
              "      background-color: #E2EBFA;\n",
              "      box-shadow: 0px 1px 2px rgba(60, 64, 67, 0.3), 0px 1px 3px 1px rgba(60, 64, 67, 0.15);\n",
              "      fill: #174EA6;\n",
              "    }\n",
              "\n",
              "    [theme=dark] .colab-df-convert {\n",
              "      background-color: #3B4455;\n",
              "      fill: #D2E3FC;\n",
              "    }\n",
              "\n",
              "    [theme=dark] .colab-df-convert:hover {\n",
              "      background-color: #434B5C;\n",
              "      box-shadow: 0px 1px 3px 1px rgba(0, 0, 0, 0.15);\n",
              "      filter: drop-shadow(0px 1px 2px rgba(0, 0, 0, 0.3));\n",
              "      fill: #FFFFFF;\n",
              "    }\n",
              "  </style>\n",
              "\n",
              "      <script>\n",
              "        const buttonEl =\n",
              "          document.querySelector('#df-bc5e8996-cd34-406a-be43-8697385a473a button.colab-df-convert');\n",
              "        buttonEl.style.display =\n",
              "          google.colab.kernel.accessAllowed ? 'block' : 'none';\n",
              "\n",
              "        async function convertToInteractive(key) {\n",
              "          const element = document.querySelector('#df-bc5e8996-cd34-406a-be43-8697385a473a');\n",
              "          const dataTable =\n",
              "            await google.colab.kernel.invokeFunction('convertToInteractive',\n",
              "                                                     [key], {});\n",
              "          if (!dataTable) return;\n",
              "\n",
              "          const docLinkHtml = 'Like what you see? Visit the ' +\n",
              "            '<a target=\"_blank\" href=https://colab.research.google.com/notebooks/data_table.ipynb>data table notebook</a>'\n",
              "            + ' to learn more about interactive tables.';\n",
              "          element.innerHTML = '';\n",
              "          dataTable['output_type'] = 'display_data';\n",
              "          await google.colab.output.renderOutput(dataTable, element);\n",
              "          const docLink = document.createElement('div');\n",
              "          docLink.innerHTML = docLinkHtml;\n",
              "          element.appendChild(docLink);\n",
              "        }\n",
              "      </script>\n",
              "    </div>\n",
              "  </div>\n",
              "  "
            ]
          },
          "metadata": {},
          "execution_count": 181
        }
      ]
    },
    {
      "cell_type": "code",
      "source": [
        "# Define True Positive, True Negative, False Positive, and False Negative\n",
        "TP = mnb_matrix_table.iloc[0][0] # Index of the number of loan cases misclassified as Neg\n",
        "TN = mnb_matrix_table.iloc[1][1] # Index of the number of loan cases misclassified as Pos\n",
        "FP = mnb_matrix_table.iloc[0][1] # Index of the number of loan cases misclassified as Neg\n",
        "FN = mnb_matrix_table.iloc[1][0] # Index of the number of loan cases misclassified as Pos"
      ],
      "metadata": {
        "id": "DpPttDyElLKy"
      },
      "execution_count": 182,
      "outputs": []
    },
    {
      "cell_type": "code",
      "source": [
        "# Calculate Best Possible Profit\n",
        "mnb_bpp = (TP*profit_TP + TN*profit_TN)\n",
        "print(mnb_bpp)\n",
        "\n",
        "# Calculate AVG Best Possible Profit\n",
        "mnb_avg_bpp = mnb_bpp/len(y_test)\n",
        "print(mnb_avg_bpp)\n",
        "\n",
        "# Calculate Profit\n",
        "mnb_profit = (TP*profit_TP + TN*profit_TN) - (FP*loss_FP + FN*loss_FN)\n",
        "print(mnb_profit)\n",
        "\n",
        "# Calculate AVG Profit per case\n",
        "mnb_avg_profit = mnb_profit/len(y_test)\n",
        "print(mnb_avg_profit)\n",
        "\n",
        "# Calculate normalized score\n",
        "mnb_score = (mnb_avg_profit - avg_worst_profit)/(mnb_avg_bpp - avg_worst_profit)\n",
        "print(mnb_score)"
      ],
      "metadata": {
        "colab": {
          "base_uri": "https://localhost:8080/"
        },
        "outputId": "36b7eac7-68fc-4fba-9205-62d1f8bdbca3",
        "id": "6ZC_HEmilLKy"
      },
      "execution_count": 183,
      "outputs": [
        {
          "output_type": "stream",
          "name": "stdout",
          "text": [
            "127597\n",
            "425.3233333333333\n",
            "119386\n",
            "397.9533333333333\n",
            "0.9356489572638855\n"
          ]
        }
      ]
    },
    {
      "cell_type": "markdown",
      "source": [
        "## MLP"
      ],
      "metadata": {
        "id": "Fr-HSmoKlndL"
      }
    },
    {
      "cell_type": "code",
      "source": [
        "mlp_matrix_table = pd.DataFrame(confusion_matrix(y_test, y_pred_mlp.round()),\n",
        "             columns=['Predicted Pos', 'Predicted Neg'],\n",
        "             index=['True Pos', 'True Neg']\n",
        ")\n",
        "\n",
        "mlp_matrix_table"
      ],
      "metadata": {
        "colab": {
          "base_uri": "https://localhost:8080/",
          "height": 112
        },
        "outputId": "2d35339a-f278-42e9-f89e-7a837753a0da",
        "id": "0kdmfBUDlndL"
      },
      "execution_count": 184,
      "outputs": [
        {
          "output_type": "execute_result",
          "data": {
            "text/plain": [
              "          Predicted Pos  Predicted Neg\n",
              "True Pos            100              7\n",
              "True Neg              1            192"
            ],
            "text/html": [
              "\n",
              "  <div id=\"df-9b935c8e-60b3-4faa-bbeb-5b40acf865dd\">\n",
              "    <div class=\"colab-df-container\">\n",
              "      <div>\n",
              "<style scoped>\n",
              "    .dataframe tbody tr th:only-of-type {\n",
              "        vertical-align: middle;\n",
              "    }\n",
              "\n",
              "    .dataframe tbody tr th {\n",
              "        vertical-align: top;\n",
              "    }\n",
              "\n",
              "    .dataframe thead th {\n",
              "        text-align: right;\n",
              "    }\n",
              "</style>\n",
              "<table border=\"1\" class=\"dataframe\">\n",
              "  <thead>\n",
              "    <tr style=\"text-align: right;\">\n",
              "      <th></th>\n",
              "      <th>Predicted Pos</th>\n",
              "      <th>Predicted Neg</th>\n",
              "    </tr>\n",
              "  </thead>\n",
              "  <tbody>\n",
              "    <tr>\n",
              "      <th>True Pos</th>\n",
              "      <td>100</td>\n",
              "      <td>7</td>\n",
              "    </tr>\n",
              "    <tr>\n",
              "      <th>True Neg</th>\n",
              "      <td>1</td>\n",
              "      <td>192</td>\n",
              "    </tr>\n",
              "  </tbody>\n",
              "</table>\n",
              "</div>\n",
              "      <button class=\"colab-df-convert\" onclick=\"convertToInteractive('df-9b935c8e-60b3-4faa-bbeb-5b40acf865dd')\"\n",
              "              title=\"Convert this dataframe to an interactive table.\"\n",
              "              style=\"display:none;\">\n",
              "        \n",
              "  <svg xmlns=\"http://www.w3.org/2000/svg\" height=\"24px\"viewBox=\"0 0 24 24\"\n",
              "       width=\"24px\">\n",
              "    <path d=\"M0 0h24v24H0V0z\" fill=\"none\"/>\n",
              "    <path d=\"M18.56 5.44l.94 2.06.94-2.06 2.06-.94-2.06-.94-.94-2.06-.94 2.06-2.06.94zm-11 1L8.5 8.5l.94-2.06 2.06-.94-2.06-.94L8.5 2.5l-.94 2.06-2.06.94zm10 10l.94 2.06.94-2.06 2.06-.94-2.06-.94-.94-2.06-.94 2.06-2.06.94z\"/><path d=\"M17.41 7.96l-1.37-1.37c-.4-.4-.92-.59-1.43-.59-.52 0-1.04.2-1.43.59L10.3 9.45l-7.72 7.72c-.78.78-.78 2.05 0 2.83L4 21.41c.39.39.9.59 1.41.59.51 0 1.02-.2 1.41-.59l7.78-7.78 2.81-2.81c.8-.78.8-2.07 0-2.86zM5.41 20L4 18.59l7.72-7.72 1.47 1.35L5.41 20z\"/>\n",
              "  </svg>\n",
              "      </button>\n",
              "      \n",
              "  <style>\n",
              "    .colab-df-container {\n",
              "      display:flex;\n",
              "      flex-wrap:wrap;\n",
              "      gap: 12px;\n",
              "    }\n",
              "\n",
              "    .colab-df-convert {\n",
              "      background-color: #E8F0FE;\n",
              "      border: none;\n",
              "      border-radius: 50%;\n",
              "      cursor: pointer;\n",
              "      display: none;\n",
              "      fill: #1967D2;\n",
              "      height: 32px;\n",
              "      padding: 0 0 0 0;\n",
              "      width: 32px;\n",
              "    }\n",
              "\n",
              "    .colab-df-convert:hover {\n",
              "      background-color: #E2EBFA;\n",
              "      box-shadow: 0px 1px 2px rgba(60, 64, 67, 0.3), 0px 1px 3px 1px rgba(60, 64, 67, 0.15);\n",
              "      fill: #174EA6;\n",
              "    }\n",
              "\n",
              "    [theme=dark] .colab-df-convert {\n",
              "      background-color: #3B4455;\n",
              "      fill: #D2E3FC;\n",
              "    }\n",
              "\n",
              "    [theme=dark] .colab-df-convert:hover {\n",
              "      background-color: #434B5C;\n",
              "      box-shadow: 0px 1px 3px 1px rgba(0, 0, 0, 0.15);\n",
              "      filter: drop-shadow(0px 1px 2px rgba(0, 0, 0, 0.3));\n",
              "      fill: #FFFFFF;\n",
              "    }\n",
              "  </style>\n",
              "\n",
              "      <script>\n",
              "        const buttonEl =\n",
              "          document.querySelector('#df-9b935c8e-60b3-4faa-bbeb-5b40acf865dd button.colab-df-convert');\n",
              "        buttonEl.style.display =\n",
              "          google.colab.kernel.accessAllowed ? 'block' : 'none';\n",
              "\n",
              "        async function convertToInteractive(key) {\n",
              "          const element = document.querySelector('#df-9b935c8e-60b3-4faa-bbeb-5b40acf865dd');\n",
              "          const dataTable =\n",
              "            await google.colab.kernel.invokeFunction('convertToInteractive',\n",
              "                                                     [key], {});\n",
              "          if (!dataTable) return;\n",
              "\n",
              "          const docLinkHtml = 'Like what you see? Visit the ' +\n",
              "            '<a target=\"_blank\" href=https://colab.research.google.com/notebooks/data_table.ipynb>data table notebook</a>'\n",
              "            + ' to learn more about interactive tables.';\n",
              "          element.innerHTML = '';\n",
              "          dataTable['output_type'] = 'display_data';\n",
              "          await google.colab.output.renderOutput(dataTable, element);\n",
              "          const docLink = document.createElement('div');\n",
              "          docLink.innerHTML = docLinkHtml;\n",
              "          element.appendChild(docLink);\n",
              "        }\n",
              "      </script>\n",
              "    </div>\n",
              "  </div>\n",
              "  "
            ]
          },
          "metadata": {},
          "execution_count": 184
        }
      ]
    },
    {
      "cell_type": "code",
      "source": [
        "# Define True Positive, True Negative, False Positive, and False Negative\n",
        "TP = mlp_matrix_table.iloc[0][0] # Index of the number of loan cases misclassified as Neg\n",
        "TN = mlp_matrix_table.iloc[1][1] # Index of the number of loan cases misclassified as Pos\n",
        "FP = mlp_matrix_table.iloc[0][1] # Index of the number of loan cases misclassified as Neg\n",
        "FN = mlp_matrix_table.iloc[1][0] # Index of the number of loan cases misclassified as Pos"
      ],
      "metadata": {
        "id": "5IWvcCT4lndM"
      },
      "execution_count": 185,
      "outputs": []
    },
    {
      "cell_type": "code",
      "source": [
        "# Calculate Best Possible Profit\n",
        "mlp_bpp = (TP*profit_TP + TN*profit_TN)\n",
        "print(mlp_bpp)\n",
        "\n",
        "# Calculate AVG Best Possible Profit\n",
        "mlp_avg_bpp = mlp_bpp/len(y_test)\n",
        "print(mlp_avg_bpp)\n",
        "\n",
        "# Calculate Profit\n",
        "mlp_profit = (TP*profit_TP + TN*profit_TN) - (FP*loss_FP + FN*loss_FN)\n",
        "print(mlp_profit)\n",
        "\n",
        "# Calculate AVG Profit per case\n",
        "mlp_avg_profit = mlp_profit/len(y_test)\n",
        "print(mlp_avg_profit)\n",
        "\n",
        "# Calculate normalized score\n",
        "mlp_score = (mlp_avg_profit - avg_worst_profit)/(mlp_avg_bpp - avg_worst_profit)\n",
        "print(mlp_score)"
      ],
      "metadata": {
        "colab": {
          "base_uri": "https://localhost:8080/"
        },
        "outputId": "98b23665-79f0-480e-846e-922a3d38c421",
        "id": "rpmO6om-lndM"
      },
      "execution_count": 186,
      "outputs": [
        {
          "output_type": "stream",
          "name": "stdout",
          "text": [
            "128740\n",
            "429.1333333333333\n",
            "123578\n",
            "411.9266666666667\n",
            "0.9599036818393663\n"
          ]
        }
      ]
    },
    {
      "cell_type": "markdown",
      "source": [
        "## RF"
      ],
      "metadata": {
        "id": "eIxKCIOxmgf9"
      }
    },
    {
      "cell_type": "code",
      "source": [
        "rf_matrix_table = pd.DataFrame(confusion_matrix(y_test, y_pred_rf),\n",
        "             columns=['Predicted Pos', 'Predicted Neg'],\n",
        "             index=['True Pos', 'True Neg']\n",
        ")\n",
        "\n",
        "rf_matrix_table"
      ],
      "metadata": {
        "colab": {
          "base_uri": "https://localhost:8080/",
          "height": 112
        },
        "outputId": "02b015f7-c611-4040-ed03-da155899b616",
        "id": "Z0OfzZjkmgf9"
      },
      "execution_count": 187,
      "outputs": [
        {
          "output_type": "execute_result",
          "data": {
            "text/plain": [
              "          Predicted Pos  Predicted Neg\n",
              "True Pos            101              6\n",
              "True Neg              2            191"
            ],
            "text/html": [
              "\n",
              "  <div id=\"df-fd251268-eada-411a-933f-43d52763cb77\">\n",
              "    <div class=\"colab-df-container\">\n",
              "      <div>\n",
              "<style scoped>\n",
              "    .dataframe tbody tr th:only-of-type {\n",
              "        vertical-align: middle;\n",
              "    }\n",
              "\n",
              "    .dataframe tbody tr th {\n",
              "        vertical-align: top;\n",
              "    }\n",
              "\n",
              "    .dataframe thead th {\n",
              "        text-align: right;\n",
              "    }\n",
              "</style>\n",
              "<table border=\"1\" class=\"dataframe\">\n",
              "  <thead>\n",
              "    <tr style=\"text-align: right;\">\n",
              "      <th></th>\n",
              "      <th>Predicted Pos</th>\n",
              "      <th>Predicted Neg</th>\n",
              "    </tr>\n",
              "  </thead>\n",
              "  <tbody>\n",
              "    <tr>\n",
              "      <th>True Pos</th>\n",
              "      <td>101</td>\n",
              "      <td>6</td>\n",
              "    </tr>\n",
              "    <tr>\n",
              "      <th>True Neg</th>\n",
              "      <td>2</td>\n",
              "      <td>191</td>\n",
              "    </tr>\n",
              "  </tbody>\n",
              "</table>\n",
              "</div>\n",
              "      <button class=\"colab-df-convert\" onclick=\"convertToInteractive('df-fd251268-eada-411a-933f-43d52763cb77')\"\n",
              "              title=\"Convert this dataframe to an interactive table.\"\n",
              "              style=\"display:none;\">\n",
              "        \n",
              "  <svg xmlns=\"http://www.w3.org/2000/svg\" height=\"24px\"viewBox=\"0 0 24 24\"\n",
              "       width=\"24px\">\n",
              "    <path d=\"M0 0h24v24H0V0z\" fill=\"none\"/>\n",
              "    <path d=\"M18.56 5.44l.94 2.06.94-2.06 2.06-.94-2.06-.94-.94-2.06-.94 2.06-2.06.94zm-11 1L8.5 8.5l.94-2.06 2.06-.94-2.06-.94L8.5 2.5l-.94 2.06-2.06.94zm10 10l.94 2.06.94-2.06 2.06-.94-2.06-.94-.94-2.06-.94 2.06-2.06.94z\"/><path d=\"M17.41 7.96l-1.37-1.37c-.4-.4-.92-.59-1.43-.59-.52 0-1.04.2-1.43.59L10.3 9.45l-7.72 7.72c-.78.78-.78 2.05 0 2.83L4 21.41c.39.39.9.59 1.41.59.51 0 1.02-.2 1.41-.59l7.78-7.78 2.81-2.81c.8-.78.8-2.07 0-2.86zM5.41 20L4 18.59l7.72-7.72 1.47 1.35L5.41 20z\"/>\n",
              "  </svg>\n",
              "      </button>\n",
              "      \n",
              "  <style>\n",
              "    .colab-df-container {\n",
              "      display:flex;\n",
              "      flex-wrap:wrap;\n",
              "      gap: 12px;\n",
              "    }\n",
              "\n",
              "    .colab-df-convert {\n",
              "      background-color: #E8F0FE;\n",
              "      border: none;\n",
              "      border-radius: 50%;\n",
              "      cursor: pointer;\n",
              "      display: none;\n",
              "      fill: #1967D2;\n",
              "      height: 32px;\n",
              "      padding: 0 0 0 0;\n",
              "      width: 32px;\n",
              "    }\n",
              "\n",
              "    .colab-df-convert:hover {\n",
              "      background-color: #E2EBFA;\n",
              "      box-shadow: 0px 1px 2px rgba(60, 64, 67, 0.3), 0px 1px 3px 1px rgba(60, 64, 67, 0.15);\n",
              "      fill: #174EA6;\n",
              "    }\n",
              "\n",
              "    [theme=dark] .colab-df-convert {\n",
              "      background-color: #3B4455;\n",
              "      fill: #D2E3FC;\n",
              "    }\n",
              "\n",
              "    [theme=dark] .colab-df-convert:hover {\n",
              "      background-color: #434B5C;\n",
              "      box-shadow: 0px 1px 3px 1px rgba(0, 0, 0, 0.15);\n",
              "      filter: drop-shadow(0px 1px 2px rgba(0, 0, 0, 0.3));\n",
              "      fill: #FFFFFF;\n",
              "    }\n",
              "  </style>\n",
              "\n",
              "      <script>\n",
              "        const buttonEl =\n",
              "          document.querySelector('#df-fd251268-eada-411a-933f-43d52763cb77 button.colab-df-convert');\n",
              "        buttonEl.style.display =\n",
              "          google.colab.kernel.accessAllowed ? 'block' : 'none';\n",
              "\n",
              "        async function convertToInteractive(key) {\n",
              "          const element = document.querySelector('#df-fd251268-eada-411a-933f-43d52763cb77');\n",
              "          const dataTable =\n",
              "            await google.colab.kernel.invokeFunction('convertToInteractive',\n",
              "                                                     [key], {});\n",
              "          if (!dataTable) return;\n",
              "\n",
              "          const docLinkHtml = 'Like what you see? Visit the ' +\n",
              "            '<a target=\"_blank\" href=https://colab.research.google.com/notebooks/data_table.ipynb>data table notebook</a>'\n",
              "            + ' to learn more about interactive tables.';\n",
              "          element.innerHTML = '';\n",
              "          dataTable['output_type'] = 'display_data';\n",
              "          await google.colab.output.renderOutput(dataTable, element);\n",
              "          const docLink = document.createElement('div');\n",
              "          docLink.innerHTML = docLinkHtml;\n",
              "          element.appendChild(docLink);\n",
              "        }\n",
              "      </script>\n",
              "    </div>\n",
              "  </div>\n",
              "  "
            ]
          },
          "metadata": {},
          "execution_count": 187
        }
      ]
    },
    {
      "cell_type": "code",
      "source": [
        "# Define True Positive, True Negative, False Positive, and False Negative\n",
        "TP = rf_matrix_table.iloc[0][0] # Index of the number of loan cases misclassified as Neg\n",
        "TN = rf_matrix_table.iloc[1][1] # Index of the number of loan cases misclassified as Pos\n",
        "FP = rf_matrix_table.iloc[0][1] # Index of the number of loan cases misclassified as Neg\n",
        "FN = rf_matrix_table.iloc[1][0] # Index of the number of loan cases misclassified as Pos"
      ],
      "metadata": {
        "id": "gr-znpMamgf-"
      },
      "execution_count": 188,
      "outputs": []
    },
    {
      "cell_type": "code",
      "source": [
        "# Calculate Best Possible Profit\n",
        "rf_bpp = (TP*profit_TP + TN*profit_TN)\n",
        "print(rf_bpp)\n",
        "\n",
        "# Calculate AVG Best Possible Profit\n",
        "rf_avg_bpp = rf_bpp/len(y_test)\n",
        "print(rf_avg_bpp)\n",
        "\n",
        "# Calculate Profit\n",
        "rf_profit = (TP*profit_TP + TN*profit_TN) - (FP*loss_FP + FN*loss_FN)\n",
        "print(rf_profit)\n",
        "\n",
        "# Calculate AVG Profit per case\n",
        "rf_avg_profit = rf_profit/len(y_test)\n",
        "print(rf_avg_profit)\n",
        "\n",
        "# Calculate normalized score\n",
        "rf_score = (rf_avg_profit - avg_worst_profit)/(rf_avg_bpp - avg_worst_profit)\n",
        "print(rf_score)"
      ],
      "metadata": {
        "colab": {
          "base_uri": "https://localhost:8080/"
        },
        "outputId": "1b62a25f-893e-4833-8da4-be43531e65f0",
        "id": "Tb1XZFmBmgf-"
      },
      "execution_count": 189,
      "outputs": [
        {
          "output_type": "stream",
          "name": "stdout",
          "text": [
            "129312\n",
            "431.04\n",
            "124356\n",
            "414.52\n",
            "0.9616740905716405\n"
          ]
        }
      ]
    },
    {
      "cell_type": "markdown",
      "source": [
        "## LR"
      ],
      "metadata": {
        "id": "LxJf79cfm7QC"
      }
    },
    {
      "cell_type": "code",
      "source": [
        "lr_matrix_table = pd.DataFrame(confusion_matrix(y_test, y_pred_lr),\n",
        "             columns=['Predicted Pos', 'Predicted Neg'],\n",
        "             index=['True Pos', 'True Neg']\n",
        ")\n",
        "\n",
        "lr_matrix_table"
      ],
      "metadata": {
        "colab": {
          "base_uri": "https://localhost:8080/",
          "height": 112
        },
        "outputId": "8df9f1d3-e72c-4935-91aa-99b86614598f",
        "id": "yKgQBSvDm7QD"
      },
      "execution_count": 190,
      "outputs": [
        {
          "output_type": "execute_result",
          "data": {
            "text/plain": [
              "          Predicted Pos  Predicted Neg\n",
              "True Pos            107              0\n",
              "True Neg              1            192"
            ],
            "text/html": [
              "\n",
              "  <div id=\"df-9cef175a-c210-456b-8ea6-d88f59eab085\">\n",
              "    <div class=\"colab-df-container\">\n",
              "      <div>\n",
              "<style scoped>\n",
              "    .dataframe tbody tr th:only-of-type {\n",
              "        vertical-align: middle;\n",
              "    }\n",
              "\n",
              "    .dataframe tbody tr th {\n",
              "        vertical-align: top;\n",
              "    }\n",
              "\n",
              "    .dataframe thead th {\n",
              "        text-align: right;\n",
              "    }\n",
              "</style>\n",
              "<table border=\"1\" class=\"dataframe\">\n",
              "  <thead>\n",
              "    <tr style=\"text-align: right;\">\n",
              "      <th></th>\n",
              "      <th>Predicted Pos</th>\n",
              "      <th>Predicted Neg</th>\n",
              "    </tr>\n",
              "  </thead>\n",
              "  <tbody>\n",
              "    <tr>\n",
              "      <th>True Pos</th>\n",
              "      <td>107</td>\n",
              "      <td>0</td>\n",
              "    </tr>\n",
              "    <tr>\n",
              "      <th>True Neg</th>\n",
              "      <td>1</td>\n",
              "      <td>192</td>\n",
              "    </tr>\n",
              "  </tbody>\n",
              "</table>\n",
              "</div>\n",
              "      <button class=\"colab-df-convert\" onclick=\"convertToInteractive('df-9cef175a-c210-456b-8ea6-d88f59eab085')\"\n",
              "              title=\"Convert this dataframe to an interactive table.\"\n",
              "              style=\"display:none;\">\n",
              "        \n",
              "  <svg xmlns=\"http://www.w3.org/2000/svg\" height=\"24px\"viewBox=\"0 0 24 24\"\n",
              "       width=\"24px\">\n",
              "    <path d=\"M0 0h24v24H0V0z\" fill=\"none\"/>\n",
              "    <path d=\"M18.56 5.44l.94 2.06.94-2.06 2.06-.94-2.06-.94-.94-2.06-.94 2.06-2.06.94zm-11 1L8.5 8.5l.94-2.06 2.06-.94-2.06-.94L8.5 2.5l-.94 2.06-2.06.94zm10 10l.94 2.06.94-2.06 2.06-.94-2.06-.94-.94-2.06-.94 2.06-2.06.94z\"/><path d=\"M17.41 7.96l-1.37-1.37c-.4-.4-.92-.59-1.43-.59-.52 0-1.04.2-1.43.59L10.3 9.45l-7.72 7.72c-.78.78-.78 2.05 0 2.83L4 21.41c.39.39.9.59 1.41.59.51 0 1.02-.2 1.41-.59l7.78-7.78 2.81-2.81c.8-.78.8-2.07 0-2.86zM5.41 20L4 18.59l7.72-7.72 1.47 1.35L5.41 20z\"/>\n",
              "  </svg>\n",
              "      </button>\n",
              "      \n",
              "  <style>\n",
              "    .colab-df-container {\n",
              "      display:flex;\n",
              "      flex-wrap:wrap;\n",
              "      gap: 12px;\n",
              "    }\n",
              "\n",
              "    .colab-df-convert {\n",
              "      background-color: #E8F0FE;\n",
              "      border: none;\n",
              "      border-radius: 50%;\n",
              "      cursor: pointer;\n",
              "      display: none;\n",
              "      fill: #1967D2;\n",
              "      height: 32px;\n",
              "      padding: 0 0 0 0;\n",
              "      width: 32px;\n",
              "    }\n",
              "\n",
              "    .colab-df-convert:hover {\n",
              "      background-color: #E2EBFA;\n",
              "      box-shadow: 0px 1px 2px rgba(60, 64, 67, 0.3), 0px 1px 3px 1px rgba(60, 64, 67, 0.15);\n",
              "      fill: #174EA6;\n",
              "    }\n",
              "\n",
              "    [theme=dark] .colab-df-convert {\n",
              "      background-color: #3B4455;\n",
              "      fill: #D2E3FC;\n",
              "    }\n",
              "\n",
              "    [theme=dark] .colab-df-convert:hover {\n",
              "      background-color: #434B5C;\n",
              "      box-shadow: 0px 1px 3px 1px rgba(0, 0, 0, 0.15);\n",
              "      filter: drop-shadow(0px 1px 2px rgba(0, 0, 0, 0.3));\n",
              "      fill: #FFFFFF;\n",
              "    }\n",
              "  </style>\n",
              "\n",
              "      <script>\n",
              "        const buttonEl =\n",
              "          document.querySelector('#df-9cef175a-c210-456b-8ea6-d88f59eab085 button.colab-df-convert');\n",
              "        buttonEl.style.display =\n",
              "          google.colab.kernel.accessAllowed ? 'block' : 'none';\n",
              "\n",
              "        async function convertToInteractive(key) {\n",
              "          const element = document.querySelector('#df-9cef175a-c210-456b-8ea6-d88f59eab085');\n",
              "          const dataTable =\n",
              "            await google.colab.kernel.invokeFunction('convertToInteractive',\n",
              "                                                     [key], {});\n",
              "          if (!dataTable) return;\n",
              "\n",
              "          const docLinkHtml = 'Like what you see? Visit the ' +\n",
              "            '<a target=\"_blank\" href=https://colab.research.google.com/notebooks/data_table.ipynb>data table notebook</a>'\n",
              "            + ' to learn more about interactive tables.';\n",
              "          element.innerHTML = '';\n",
              "          dataTable['output_type'] = 'display_data';\n",
              "          await google.colab.output.renderOutput(dataTable, element);\n",
              "          const docLink = document.createElement('div');\n",
              "          docLink.innerHTML = docLinkHtml;\n",
              "          element.appendChild(docLink);\n",
              "        }\n",
              "      </script>\n",
              "    </div>\n",
              "  </div>\n",
              "  "
            ]
          },
          "metadata": {},
          "execution_count": 190
        }
      ]
    },
    {
      "cell_type": "code",
      "source": [
        "# Define True Positive, True Negative, False Positive, and False Negative\n",
        "TP = lr_matrix_table.iloc[0][0] # Index of the number of loan cases misclassified as Neg\n",
        "TN = lr_matrix_table.iloc[1][1] # Index of the number of loan cases misclassified as Pos\n",
        "FP = lr_matrix_table.iloc[0][1] # Index of the number of loan cases misclassified as Neg\n",
        "FN = lr_matrix_table.iloc[1][0] # Index of the number of loan cases misclassified as Pos"
      ],
      "metadata": {
        "id": "2n0MrV76m7QD"
      },
      "execution_count": 191,
      "outputs": []
    },
    {
      "cell_type": "code",
      "source": [
        "# Calculate Best Possible Profit\n",
        "lr_bpp = (TP*profit_TP + TN*profit_TN)\n",
        "print(lr_bpp)\n",
        "\n",
        "# Calculate AVG Best Possible Profit\n",
        "lr_avg_bpp = rf_bpp/len(y_test)\n",
        "print(lr_avg_bpp)\n",
        "\n",
        "# Calculate Profit\n",
        "lr_profit = (TP*profit_TP + TN*profit_TN) - (FP*loss_FP + FN*loss_FN)\n",
        "print(lr_profit)\n",
        "\n",
        "# Calculate AVG Profit per case\n",
        "lr_avg_profit = lr_profit/len(y_test)\n",
        "print(lr_avg_profit)\n",
        "\n",
        "# Calculate normalized score\n",
        "lr_score = (lr_avg_profit - avg_worst_profit)/(lr_avg_bpp - avg_worst_profit)\n",
        "print(lr_score)"
      ],
      "metadata": {
        "colab": {
          "base_uri": "https://localhost:8080/"
        },
        "outputId": "4714aa40-5ef9-48ea-9b33-62909135128a",
        "id": "BUtxZKzvm7QD"
      },
      "execution_count": 192,
      "outputs": [
        {
          "output_type": "stream",
          "name": "stdout",
          "text": [
            "134459\n",
            "431.04\n",
            "133994\n",
            "446.64666666666665\n",
            "1.0362070032170254\n"
          ]
        }
      ]
    },
    {
      "cell_type": "code",
      "source": [
        "print('SVM:', svm_bpp, svm_avg_bpp, svm_profit, svm_avg_profit, svm_score)\n",
        "print('DT:', dt_bpp, dt_avg_bpp, dt_profit, dt_avg_profit, dt_score)\n",
        "print('KNN:', knn_bpp, knn_avg_bpp, knn_profit, knn_avg_profit, knn_score)\n",
        "print('XGB:', xgb_bpp, xgb_avg_bpp, xgb_profit, xgb_avg_profit, xgb_score)\n",
        "print('MNB:', mnb_bpp, mnb_avg_bpp, mnb_profit, mnb_avg_profit, mnb_score)\n",
        "print('MLP:', mlp_bpp, mlp_avg_bpp, mlp_profit, mlp_avg_profit, mlp_score)\n",
        "print('RF:', rf_bpp, rf_avg_bpp, rf_profit, rf_avg_profit, rf_score)\n",
        "print('LR:', lr_bpp, lr_avg_bpp, lr_profit, lr_avg_profit, lr_score)"
      ],
      "metadata": {
        "colab": {
          "base_uri": "https://localhost:8080/"
        },
        "id": "AV_dSmvinaNS",
        "outputId": "2c05ffa4-1244-48fc-c05e-192c925fbc33"
      },
      "execution_count": 193,
      "outputs": [
        {
          "output_type": "stream",
          "name": "stdout",
          "text": [
            "SVM: 133397 444.6566666666667 131796 439.32 0.9879982308447716\n",
            "DT: 129312 431.04 124356 414.52 0.9616740905716405\n",
            "KNN: 111669 372.23 81144 270.48 0.7266475028879994\n",
            "XGB: 130374 434.58 126554 421.8466666666667 0.9706996793839263\n",
            "MNB: 127597 425.3233333333333 119386 397.9533333333333 0.9356489572638855\n",
            "MLP: 128740 429.1333333333333 123578 411.9266666666667 0.9599036818393663\n",
            "RF: 129312 431.04 124356 414.52 0.9616740905716405\n",
            "LR: 134459 431.04 133994 446.64666666666665 1.0362070032170254\n"
          ]
        }
      ]
    }
  ],
  "metadata": {
    "kernelspec": {
      "display_name": "Python 3",
      "language": "python",
      "name": "python3"
    },
    "language_info": {
      "codemirror_mode": {
        "name": "ipython",
        "version": 3
      },
      "file_extension": ".py",
      "mimetype": "text/x-python",
      "name": "python",
      "nbconvert_exporter": "python",
      "pygments_lexer": "ipython3",
      "version": "3.10.10"
    },
    "orig_nbformat": 4,
    "colab": {
      "provenance": [],
      "toc_visible": true
    }
  },
  "nbformat": 4,
  "nbformat_minor": 0
}